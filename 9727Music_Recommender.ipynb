{
 "cells": [
  {
   "cell_type": "markdown",
   "id": "c94b7766",
   "metadata": {},
   "source": [
    "# Music Reconmmeder System"
   ]
  },
  {
   "cell_type": "markdown",
   "id": "273da534",
   "metadata": {},
   "source": [
    "## Part 1. Introduction"
   ]
  },
  {
   "cell_type": "markdown",
   "id": "f8c782ba",
   "metadata": {},
   "source": [
    "### Motivation"
   ]
  },
  {
   "cell_type": "markdown",
   "id": "6794d403",
   "metadata": {},
   "source": [
    "\n",
    " Everyone is a potential music app user. The development of music apps is\n",
    " becoming increasingly mature, meeting the listening needs of more and more\n",
    " people. Walking down the streets, in subway stations, we often see young\n",
    " people wearing headphones, enjoying music. For today's youth, music is no\n",
    " longer just a seasoning in daily life but a symbol of their personality and taste.\n",
    " Wecan feel that people's attitudes toward music have become more proactive\n",
    " and enthusiastic. The way we discover new music is no longer passive as it\n",
    " used to be; instead, it is more about active exploration.\n",
    " After investigating several leading music companies in China, we found that a\n",
    " key reason for user loyalty to a particular music app is copyright. Some music\n",
    " software companies have monopolized the rights to certain songs (such as\n",
    " those by Jay Chou), forcing users to switch to their apps. However, we\n",
    " discovered an interesting case: NetEase Cloud Music. Despite having fewer\n",
    " copyrights compared to QQ Music, its popularity is not inferior to QQ Music.\n",
    " The reason for this lies in its precise recommendation algorithm.\n",
    " \n",
    " "
   ]
  },
  {
   "cell_type": "markdown",
   "id": "5b811bfd",
   "metadata": {},
   "source": [
    "### Objective"
   ]
  },
  {
   "cell_type": "markdown",
   "id": "e5267ca3",
   "metadata": {},
   "source": [
    "Our objective is to build a recommendation system that provides a 'Daily\n",
    " Recommendation' feature to enhance user experience. This system will\n",
    " recommend several songs to users each day, emphasizing serendipitous and\n",
    " personalized discoveries tailored to the user. Our vision is for this feature to\n",
    " become a cherished part of users' daily routines, much like their morning\n",
    " coffee or afternoon tea, making it a delightful habit they look forward to each\n",
    " day.\n",
    " Unlike traditional recommendation systems that rely solely on similarity, this\n",
    " system will incorporate exploratory recommendations that push the\n",
    "boundaries of user preferences. This approach entails including a mix of\n",
    " songs that closely align with user preferences, introducing new and diverse\n",
    " tracks, and considering various factors that cater to users' desires for novelty\n",
    " and exploration.\n",
    " By implementing this approach, we aim to create a more engaging and\n",
    " fulfilling music discovery experience, ensuring that users remain enthusiastic\n",
    " about their daily musical journey.  The system is designed for users who are not just passive listeners but active\n",
    " explorers of music. These users appreciate serendipitous discoveries and are\n",
    "open to recommendations that may slightly deviate from their usual\n",
    " preferences but could potentially introduce them to new artists or genres"
   ]
  },
  {
   "cell_type": "markdown",
   "id": "55bf8095",
   "metadata": {},
   "source": [
    "## Part 1. Problem"
   ]
  },
  {
   "cell_type": "markdown",
   "id": "ee5ee5e1",
   "metadata": {},
   "source": [
    "### <i>Clearly describe the recommendation problem(s). </i>\n",
    "The main problem addressed by the recommendation system is enhancing user experience by providing personalized music recommendations. The system aims to solve several key issues:\n",
    "1. <b>Personalization</b>: Users have diverse musical tastes and preferences that evolve over time. The challenge is to accurately capture these preferences and provide recommendations that align closely with the user's current interests.\n",
    "2. <b>Exploration vs. Exploitation</b>: Balancing between recommending familiar songs (exploitation) and introducing new, diverse tracks (exploration) to keep the user engaged and help them discover new music.\n",
    "3. <b>Cold Start Problem</b>: New users or users with minimal interaction data pose a challenge for the system to generate accurate recommendations. The system needs strategies to handle this lack of initial data.\n",
    "4. <b>Dynamic Adaptation</b>: User preferences are not static; they change over time. The system must continuously learn and adapt to these changes to remain relevant.\n",
    "Scalability and Efficiency: The system must handle large volumes of data and provide real-time recommendations without compromising performance.\n",
    "\n",
    "### <i>Describe how the recommender system would be deployed within a larger (web or mobile) system.  </i>\n",
    "\n",
    "The recommendation system will be integrated into a larger music application, targeting mobile users. Here's how it would be deployed:\n",
    "* <b>Backend Integration:</b>\n",
    "    * Data Collection: The system collects user data through interactions within the app, such as listening history, liked songs, created playlists, and user feedback (likes, dislikes, skips, and comments).\n",
    "    * Data Processing: This data is processed to create user profiles and song feature vectors. Techniques like one-hot encoding or label encoding are used to convert qualitative attributes into numerical representations.\n",
    "    * Recommendation Engine: The core recommendation engine utilizes a combination of content-based filtering, collaborative filtering, and clustering algorithms (K-means, KNN) to generate personalized recommendations. The system continuously updates based on new data to refine recommendations.\n",
    "\n",
    "* <b> Frontend Integration: </b>\n",
    "    * User Interface: The recommended songs are presented to users in the form of a daily playlist within the mobile app. Users can interact with each song by liking, disliking, skipping, or commenting.\n",
    "    * User Feedback: User interactions with the recommendations are fed back into the system to further refine and personalize future recommendations.\n",
    "\n",
    "\n",
    "* <b> Recommendation Workflow: </b>\n",
    "    * Initialization: For new users, the system starts with a fully exploratory strategy, recommending a wide range of songs to learn the user's preferences.\n",
    "    * Daily Recommendations: Each day, the system recommends a set number of songs (e.g., 30) that are a mix of songs closely aligned with the user's known preferences and new, diverse tracks for exploration.\n",
    "    * User Interaction: As users interact with the recommendations, the system collects data on their preferences, which are used to update the user profiles and refine future recommendations.\n",
    "\n",
    "\n",
    "* <b> Scalability and Performance: </b>\n",
    "    * Cloud Infrastructure: The system is deployed on a scalable cloud infrastructure to handle large volumes of data and user interactions.\n",
    "    * API Integration: The recommendation engine is exposed via APIs that the mobile app can call to fetch recommendations in real-time.\n",
    "    * Caching and Optimization: To improve performance, caching mechanisms are used to store frequently accessed data, and optimization techniques are applied to ensure real-time recommendation generation.\n",
    "\n",
    "\n",
    "* <b> User Engagement and Retention:</b>\n",
    "    * Personalized Experience: By providing highly personalized recommendations and continuously adapting to user preferences, the system aims to increase user engagement and retention.\n",
    "    * Social Features: Although not part of the initial scope, integrating social features where users can discuss and share their musical tastes can further enhance the user experience and foster a sense of community.\n",
    "\n",
    "### <i> For your proposed recommender, what user inputs are available, what recommendations would be provided, and when? </i>\n",
    "1. <b>User Profile Information:</b>\n",
    "    * Basic details like user ID, display name, and country.\n",
    "2. <b>Listening History:</b>\n",
    "    * Recent tracks played, capturing current music preferences.\n",
    "3. <b>Top Artists and Tracks:</b>\n",
    "    * Most frequently listened-to artists and tracks over different time periods (short-term, medium-term, long-term).\n",
    "4. <b>Liked Songs:</b>\n",
    "    * Explicitly liked songs indicating strong preference.\n",
    "5. <b>Playlists:</b>\n",
    "    * User-created playlists reflecting curated collections of tracks.\n",
    "6. <b>Track Interactions:</b>\n",
    "    * Data on how often a user listens to specific tracks, skips tracks, and adds tracks to playlists.\n",
    "7. <b>Daily Playlist:</b>\n",
    "    * A playlist of approximately 30 songs recommended each day.\n",
    "    * A mix of songs closely aligned with user preferences and new, diverse tracks for exploration.\n",
    "8. <b> Exploratory Recommendations:</b>\n",
    "    * Songs that deviate slightly from usual preferences to introduce users to new artists or genres.\n",
    "\n",
    "\n",
    "### <i> What user feedback (if any) would be obtained, and how would that be used by the recommender? </i>\n",
    "1. <b>Interaction Options:</b>\n",
    "    * Like\n",
    "    * Dislike\n",
    "    * Skip\n",
    "    * Comment\n",
    "2. <b>Feedback Collection:</b>\n",
    "    * Data on whether the recommended song is liked, disliked, or skipped.\n",
    "    * User comments on recommended songs.\n",
    "    * Recent listening frequency and total time spent on liked songs.\n",
    "3. <b>Usage of Feedback:</b>\n",
    "    * Liked songs are added to the user's preference profile.\n",
    "    * Disliked songs are removed from future recommendations.\n",
    "    * Skipped songs are noted, and similar tracks might be deprioritized.\n",
    "    * Comments provide qualitative insights into user preferences and can be used to fine-tune recommendations.\n",
    "\n",
    "\n",
    "\n",
    "### <i> How is the recommendation problem defined as a classification/prediction, rating/estimation or ranking problem? </i>\n",
    "\n",
    "* <b>Classification/Prediction:</b>\n",
    "    * Predicting whether a user will like a recommended song based on their profile and listening history.\n",
    "* <b>Rating/Estimation:</b>\n",
    "    * Estimating the user's preference score for each song, guiding the recommendation process.\n",
    "* <b>Ranking:</b>\n",
    "    * Ranking potential recommendations to ensure the most relevant and engaging songs are presented at the top of the daily playlist.\n",
    "\n",
    "### <i> User interface mock-ups could be useful to illustrate the intended usage of the system.</i>\n",
    "\n",
    "1. <b>Daily Recommendations Screen:</b>\n",
    "    * A clean, user-friendly interface showing the daily recommended playlist.\n",
    "    * Each song entry includes options to like, dislike, skip, and comment.\n",
    "    * A summary of user interactions at the bottom of the screen.\n",
    "2. <b>Interaction Feedback Screen:</b>\n",
    "    * A detailed view of a song with user comments and feedback options.\n",
    "    * Displays recent listening frequency and total time spent on liked songs.\n",
    "    * Users can add their comments and see comments from other users.\n",
    "3. <b>User Profile Screen:</b>\n",
    "    * Overview of user profile information, top artists, and tracks.\n",
    "    * List of liked songs and created playlists.\n",
    "    * Summary of recent interactions and feedback.\n",
    "\n",
    "\n"
   ]
  },
  {
   "cell_type": "markdown",
   "id": "f32c8368",
   "metadata": {},
   "source": [
    "## Part 2. Dataset(s)"
   ]
  },
  {
   "cell_type": "markdown",
   "id": "1137cc3b-4a71-4c9a-b10d-5442782b0eb9",
   "metadata": {},
   "source": [
    "### Data Preprocessing <br>\n",
    "#### a. Reading CSV Files**\n",
    "This function reads a CSV file and returns its contents as a DataFrame. It handles various potential errors, ensuring the file is read correctly and any issues are reported."
   ]
  },
  {
   "cell_type": "code",
   "execution_count": 1,
   "id": "c069baa0",
   "metadata": {},
   "outputs": [],
   "source": [
    "import os\n",
    "import random\n",
    "import time\n",
    "import copy\n",
    "from collections import Counter, defaultdict\n",
    "\n",
    "import matplotlib as mpl\n",
    "import matplotlib.pyplot as plt\n",
    "from matplotlib import cm\n",
    "import numpy as np\n",
    "import pandas as pd\n",
    "import seaborn as sns\n",
    "import plotly.express as px\n",
    "from scipy.sparse import csr_matrix\n",
    "from scipy.sparse.linalg import svds\n",
    "from scipy.spatial.distance import cdist\n",
    "\n",
    "import spotipy\n",
    "from spotipy.oauth2 import SpotifyClientCredentials\n",
    "\n",
    "from sklearn.datasets import fetch_california_housing\n",
    "from sklearn.preprocessing import (\n",
    "    MaxAbsScaler,\n",
    "    MinMaxScaler,\n",
    "    Normalizer,\n",
    "    PowerTransformer,\n",
    "    QuantileTransformer,\n",
    "    RobustScaler,\n",
    "    StandardScaler,\n",
    "    minmax_scale,\n",
    ")\n",
    "from sklearn.model_selection import train_test_split\n",
    "from sklearn.feature_extraction.text import TfidfVectorizer\n",
    "from sklearn.metrics import euclidean_distances\n",
    "from sklearn.metrics.pairwise import cosine_similarity\n",
    "from sklearn.cluster import KMeans\n",
    "from sklearn.pipeline import Pipeline\n",
    "from sklearn.manifold import TSNE\n",
    "from sklearn.decomposition import PCA\n",
    "\n",
    "from surprise import Reader, Dataset, SVD, accuracy\n",
    "from surprise.model_selection import train_test_split as surprise_train_test_split\n",
    "\n",
    "import warnings\n",
    "warnings.filterwarnings(\"ignore\")\n",
    "\n",
    "# Matplotlib inline for Jupyter notebooks\n",
    "%matplotlib inline\n"
   ]
  },
  {
   "cell_type": "code",
   "execution_count": 2,
   "id": "e2847c12",
   "metadata": {},
   "outputs": [],
   "source": [
    "def read_csv_file(file_path):\n",
    "    \"\"\"\n",
    "    Reads a CSV file and returns a DataFrame.\n",
    "    \n",
    "    Parameters:\n",
    "    file_path (str): The path to the CSV file.\n",
    "\n",
    "    Returns:\n",
    "    DataFrame: The contents of the CSV file as a pandas DataFrame.\n",
    "    \"\"\"\n",
    "    try:\n",
    "        # Read the CSV file into a DataFrame with error handling\n",
    "        df = pd.read_csv(file_path, delimiter='\\t', on_bad_lines='skip', encoding='utf-8')\n",
    "        return df\n",
    "    except FileNotFoundError:\n",
    "        print(f\"File not found: {file_path}\")\n",
    "    except pd.errors.EmptyDataError:\n",
    "        print(\"No data: The file is empty.\")\n",
    "    except pd.errors.ParserError:\n",
    "        print(\"Parsing error: Check the CSV file format.\")\n",
    "    except UnicodeDecodeError:\n",
    "        print(\"Encoding error: Check the file encoding.\")\n",
    "    except Exception as e:\n",
    "        print(f\"An error occurred: {e}\")"
   ]
  },
  {
   "cell_type": "markdown",
   "id": "60a8c169",
   "metadata": {},
   "source": [
    "#### b. **Displaying DataFrame Statistics**\n",
    "This function displays basic statistics for a given DataFrame, providing an overview of the data's distribution and key metrics.\n",
    "\n"
   ]
  },
  {
   "cell_type": "code",
   "execution_count": 3,
   "id": "bfc8f2fa",
   "metadata": {},
   "outputs": [],
   "source": [
    "def display_dataframe_statistics(df):\n",
    "    \"\"\"\n",
    "    Displays statistics for the given DataFrame.\n",
    "    \n",
    "    Parameters:\n",
    "    df (DataFrame): The pandas DataFrame for which to display statistics.\n",
    "    \"\"\"\n",
    "    print(\"DataFrame Statistics:\")\n",
    "    print(df.describe())\n",
    "    display_unique_value_counts(df)"
   ]
  },
  {
   "cell_type": "markdown",
   "id": "4e36670a",
   "metadata": {},
   "source": [
    "#### c. **Displaying Unique Value Counts**\n",
    "This function displays the frequency of unique values for each column in the DataFrame, which helps to understand the categorical distribution and identify potential anomalies."
   ]
  },
  {
   "cell_type": "code",
   "execution_count": 4,
   "id": "d480f99f",
   "metadata": {},
   "outputs": [],
   "source": [
    "def display_unique_value_counts(df):\n",
    "    \"\"\"\n",
    "    Displays the frequency of unique values for each column in the DataFrame.\n",
    "    \n",
    "    Parameters:\n",
    "    df (DataFrame): The pandas DataFrame for which to display unique value counts.\n",
    "    \"\"\"\n",
    "    for column in df.columns:\n",
    "        print(f\"Unique value counts for column '{column}':\")\n",
    "        print(df[column].value_counts())\n",
    "        print(\"\\n\")"
   ]
  },
  {
   "cell_type": "markdown",
   "id": "c9a22a9c",
   "metadata": {},
   "source": [
    "#### d. **Loading Multiple Datasets**\n",
    "This part of the code loads multiple datasets by iterating over a list of file paths, and stores each loaded DataFrame in a dictionary for further use."
   ]
  },
  {
   "cell_type": "code",
   "execution_count": 5,
   "id": "322e8a81",
   "metadata": {},
   "outputs": [
    {
     "name": "stdout",
     "output_type": "stream",
     "text": [
      "--- id_genres ---\n",
      "                 id                                             genres\n",
      "0  0009fFIM1eYThaPg                                                pop\n",
      "1  0010xmHR6UICBOYT                                underground hip hop\n",
      "2  002Jyd0vN4HyCpqL                        hard rock,rock,classic rock\n",
      "3  006TYKNjNxWjfKjy  symphonic metal,power metal,symphonic power metal\n",
      "4  007LIJOPQ4Sb98qV                                 post-punk,new wave\n",
      "\n",
      "\n",
      "--- id_information ---\n",
      "                 id            artist               song  \\\n",
      "0  0009fFIM1eYThaPg            Cheryl         Rain on Me   \n",
      "1  0010xmHR6UICBOYT           Oddisee     After Thoughts   \n",
      "2  002Jyd0vN4HyCpqL  Blue Öyster Cult             ME 262   \n",
      "3  006TYKNjNxWjfKjy          Rhapsody  Flames of Revenge   \n",
      "4  007LIJOPQ4Sb98qV    The Chameleons          Nostalgia   \n",
      "\n",
      "                                          album_name  \n",
      "0                                            3 Words  \n",
      "1                                  The Beauty in All  \n",
      "2                                    Secret Treaties  \n",
      "3                      Legendary Years (Re-Recorded)  \n",
      "4  What Does Anything Mean? Basically (2009 Remas...  \n",
      "\n",
      "\n",
      "--- id_lang ---\n",
      "                 id lang\n",
      "0  0009fFIM1eYThaPg   en\n",
      "1  0010xmHR6UICBOYT   en\n",
      "2  002Jyd0vN4HyCpqL   en\n",
      "3  006TYKNjNxWjfKjy   en\n",
      "4  007LIJOPQ4Sb98qV   en\n",
      "\n",
      "\n",
      "--- id_metadata ---\n",
      "                 id              spotify_id  popularity  release  \\\n",
      "0  0009fFIM1eYThaPg  3eObKIfHKJ1nAPh0wTxFCc        12.0     2009   \n",
      "1  0010xmHR6UICBOYT  27szvF97Tu95GxN98N52fy        46.0     2013   \n",
      "2  002Jyd0vN4HyCpqL  273lBFpxUCwisTpdnF9cVb        31.0     1974   \n",
      "3  006TYKNjNxWjfKjy  1qZgergQ41vaD4zBf3AKXR        33.0     2017   \n",
      "4  007LIJOPQ4Sb98qV  6rVxJ3sN3Cz40MSLavbG1K        19.0     2009   \n",
      "\n",
      "   danceability  energy  key  mode  valence    tempo  duration_ms  \n",
      "0         0.635   0.746  6.0   1.0    0.548  110.973       229947  \n",
      "1         0.591   0.513  7.0   0.0    0.263  172.208       325096  \n",
      "2         0.319   0.925  2.0   1.0    0.658  157.630       285693  \n",
      "3         0.432   0.979  7.0   1.0    0.162   90.008       332867  \n",
      "4         0.357   0.708  9.0   1.0    0.470  123.904       326067  \n",
      "\n",
      "\n",
      "--- id_tags ---\n",
      "                 id                                               tags\n",
      "0  0009fFIM1eYThaPg     pop,british,female vocalists,dance,cheryl cole\n",
      "1  0010xmHR6UICBOYT  instrumental hip-hop,underground hip hop,instr...\n",
      "2  002Jyd0vN4HyCpqL        hard rock,rock,classic rock,american artist\n",
      "3  006TYKNjNxWjfKjy  symphonic metal,power metal,symphonic power metal\n",
      "4  007LIJOPQ4Sb98qV                            post-punk,new wave,1985\n",
      "\n",
      "\n",
      "--- listening_history ---\n",
      "            user              song         timestamp\n",
      "0  user_007XIjOr  DaTQ53TUmfP93FSr  2019-02-20 12:28\n",
      "1  user_007XIjOr  dGeyvi5WCOjDU7da  2019-02-20 12:35\n",
      "2  user_007XIjOr  qUm54NYOjeFhmKYx  2019-02-20 12:48\n",
      "3  user_007XIjOr  FtnuMT1DlevSR2n5  2019-02-20 12:52\n",
      "4  user_007XIjOr  LHETTZcSZLeaVOGh  2019-02-20 13:09\n",
      "\n",
      "\n",
      "id_genres dataframe:\n",
      "                 id                                             genres\n",
      "0  0009fFIM1eYThaPg                                                pop\n",
      "1  0010xmHR6UICBOYT                                underground hip hop\n",
      "2  002Jyd0vN4HyCpqL                        hard rock,rock,classic rock\n",
      "3  006TYKNjNxWjfKjy  symphonic metal,power metal,symphonic power metal\n",
      "4  007LIJOPQ4Sb98qV                                 post-punk,new wave\n",
      "id_information dataframe:\n",
      "                 id            artist               song  \\\n",
      "0  0009fFIM1eYThaPg            Cheryl         Rain on Me   \n",
      "1  0010xmHR6UICBOYT           Oddisee     After Thoughts   \n",
      "2  002Jyd0vN4HyCpqL  Blue Öyster Cult             ME 262   \n",
      "3  006TYKNjNxWjfKjy          Rhapsody  Flames of Revenge   \n",
      "4  007LIJOPQ4Sb98qV    The Chameleons          Nostalgia   \n",
      "\n",
      "                                          album_name  \n",
      "0                                            3 Words  \n",
      "1                                  The Beauty in All  \n",
      "2                                    Secret Treaties  \n",
      "3                      Legendary Years (Re-Recorded)  \n",
      "4  What Does Anything Mean? Basically (2009 Remas...  \n",
      "id_lang dataframe:\n",
      "                 id lang\n",
      "0  0009fFIM1eYThaPg   en\n",
      "1  0010xmHR6UICBOYT   en\n",
      "2  002Jyd0vN4HyCpqL   en\n",
      "3  006TYKNjNxWjfKjy   en\n",
      "4  007LIJOPQ4Sb98qV   en\n",
      "id_metadata dataframe:\n",
      "                 id              spotify_id  popularity  release  \\\n",
      "0  0009fFIM1eYThaPg  3eObKIfHKJ1nAPh0wTxFCc        12.0     2009   \n",
      "1  0010xmHR6UICBOYT  27szvF97Tu95GxN98N52fy        46.0     2013   \n",
      "2  002Jyd0vN4HyCpqL  273lBFpxUCwisTpdnF9cVb        31.0     1974   \n",
      "3  006TYKNjNxWjfKjy  1qZgergQ41vaD4zBf3AKXR        33.0     2017   \n",
      "4  007LIJOPQ4Sb98qV  6rVxJ3sN3Cz40MSLavbG1K        19.0     2009   \n",
      "\n",
      "   danceability  energy  key  mode  valence    tempo  duration_ms  \n",
      "0         0.635   0.746  6.0   1.0    0.548  110.973       229947  \n",
      "1         0.591   0.513  7.0   0.0    0.263  172.208       325096  \n",
      "2         0.319   0.925  2.0   1.0    0.658  157.630       285693  \n",
      "3         0.432   0.979  7.0   1.0    0.162   90.008       332867  \n",
      "4         0.357   0.708  9.0   1.0    0.470  123.904       326067  \n",
      "id_tags dataframe:\n",
      "                 id                                               tags\n",
      "0  0009fFIM1eYThaPg     pop,british,female vocalists,dance,cheryl cole\n",
      "1  0010xmHR6UICBOYT  instrumental hip-hop,underground hip hop,instr...\n",
      "2  002Jyd0vN4HyCpqL        hard rock,rock,classic rock,american artist\n",
      "3  006TYKNjNxWjfKjy  symphonic metal,power metal,symphonic power metal\n",
      "4  007LIJOPQ4Sb98qV                            post-punk,new wave,1985\n",
      "listening_history dataframe:\n",
      "            user              song         timestamp\n",
      "0  user_007XIjOr  DaTQ53TUmfP93FSr  2019-02-20 12:28\n",
      "1  user_007XIjOr  dGeyvi5WCOjDU7da  2019-02-20 12:35\n",
      "2  user_007XIjOr  qUm54NYOjeFhmKYx  2019-02-20 12:48\n",
      "3  user_007XIjOr  FtnuMT1DlevSR2n5  2019-02-20 12:52\n",
      "4  user_007XIjOr  LHETTZcSZLeaVOGh  2019-02-20 13:09\n",
      "id_genres dataframe shape: (109269, 2)\n",
      "id_information dataframe shape: (109269, 4)\n",
      "id_lang dataframe shape: (109269, 2)\n",
      "id_metadata dataframe shape: (109269, 11)\n",
      "id_tags dataframe shape: (109269, 2)\n",
      "listening_history dataframe shape: (5109592, 3)\n"
     ]
    }
   ],
   "source": [
    "file_paths = [ \"data/id_genres.csv\",\n",
    "    \"data/id_information.csv\",\n",
    "    \"data/id_lang.csv\",\n",
    "    \"data/id_metadata.csv\",\n",
    "    \"data/id_tags.csv\",\n",
    "    \"data/listening_history.csv\"]\n",
    "data_frames = {}\n",
    "temp = [\"id_genres\", \"id_information\", \"id_lang\", \"id_metadata\", \"id_tags\", \"listening_history\"]\n",
    "\n",
    "# Read CSV files into data_frames dictionary\n",
    "for i in range(len(file_paths)):\n",
    "    df = read_csv_file(file_paths[i])\n",
    "    if df is not None:\n",
    "        data_frames[temp[i]] = df\n",
    "    else:\n",
    "        print(f\"Failed to load {file_paths[i]}\")\n",
    "\n",
    "\n",
    "# Display cleaned columns to verify\n",
    "for key, df in data_frames.items():\n",
    "    print(f\"--- {key} ---\")\n",
    "    print(df.head())\n",
    "    print(\"\\n\")\n",
    "\n",
    "    \n",
    "\n",
    "for key, df in data_frames.items():\n",
    "    print(f\"{key} dataframe:\")\n",
    "    print(df.head())\n",
    "\n",
    "# Verify the shape of each dataframe to ensure they have been processed correctly\n",
    "for key, df in data_frames.items():\n",
    "    print(f\"{key} dataframe shape: {df.shape}\")\n",
    "\n"
   ]
  },
  {
   "cell_type": "markdown",
   "id": "8999edf0",
   "metadata": {},
   "source": [
    "#### e. **Display initial info of all datasets**"
   ]
  },
  {
   "cell_type": "code",
   "execution_count": 6,
   "id": "35e89c2b",
   "metadata": {},
   "outputs": [
    {
     "name": "stdout",
     "output_type": "stream",
     "text": [
      "--- id_genres ---\n",
      "                 id                                             genres\n",
      "0  0009fFIM1eYThaPg                                                pop\n",
      "1  0010xmHR6UICBOYT                                underground hip hop\n",
      "2  002Jyd0vN4HyCpqL                        hard rock,rock,classic rock\n",
      "3  006TYKNjNxWjfKjy  symphonic metal,power metal,symphonic power metal\n",
      "4  007LIJOPQ4Sb98qV                                 post-punk,new wave\n",
      "\n",
      "\n",
      "--- id_information ---\n",
      "                 id            artist               song  \\\n",
      "0  0009fFIM1eYThaPg            Cheryl         Rain on Me   \n",
      "1  0010xmHR6UICBOYT           Oddisee     After Thoughts   \n",
      "2  002Jyd0vN4HyCpqL  Blue Öyster Cult             ME 262   \n",
      "3  006TYKNjNxWjfKjy          Rhapsody  Flames of Revenge   \n",
      "4  007LIJOPQ4Sb98qV    The Chameleons          Nostalgia   \n",
      "\n",
      "                                          album_name  \n",
      "0                                            3 Words  \n",
      "1                                  The Beauty in All  \n",
      "2                                    Secret Treaties  \n",
      "3                      Legendary Years (Re-Recorded)  \n",
      "4  What Does Anything Mean? Basically (2009 Remas...  \n",
      "\n",
      "\n",
      "--- id_lang ---\n",
      "                 id lang\n",
      "0  0009fFIM1eYThaPg   en\n",
      "1  0010xmHR6UICBOYT   en\n",
      "2  002Jyd0vN4HyCpqL   en\n",
      "3  006TYKNjNxWjfKjy   en\n",
      "4  007LIJOPQ4Sb98qV   en\n",
      "\n",
      "\n",
      "--- id_metadata ---\n",
      "                 id              spotify_id  popularity  release  \\\n",
      "0  0009fFIM1eYThaPg  3eObKIfHKJ1nAPh0wTxFCc        12.0     2009   \n",
      "1  0010xmHR6UICBOYT  27szvF97Tu95GxN98N52fy        46.0     2013   \n",
      "2  002Jyd0vN4HyCpqL  273lBFpxUCwisTpdnF9cVb        31.0     1974   \n",
      "3  006TYKNjNxWjfKjy  1qZgergQ41vaD4zBf3AKXR        33.0     2017   \n",
      "4  007LIJOPQ4Sb98qV  6rVxJ3sN3Cz40MSLavbG1K        19.0     2009   \n",
      "\n",
      "   danceability  energy  key  mode  valence    tempo  duration_ms  \n",
      "0         0.635   0.746  6.0   1.0    0.548  110.973       229947  \n",
      "1         0.591   0.513  7.0   0.0    0.263  172.208       325096  \n",
      "2         0.319   0.925  2.0   1.0    0.658  157.630       285693  \n",
      "3         0.432   0.979  7.0   1.0    0.162   90.008       332867  \n",
      "4         0.357   0.708  9.0   1.0    0.470  123.904       326067  \n",
      "\n",
      "\n",
      "--- id_tags ---\n",
      "                 id                                               tags\n",
      "0  0009fFIM1eYThaPg     pop,british,female vocalists,dance,cheryl cole\n",
      "1  0010xmHR6UICBOYT  instrumental hip-hop,underground hip hop,instr...\n",
      "2  002Jyd0vN4HyCpqL        hard rock,rock,classic rock,american artist\n",
      "3  006TYKNjNxWjfKjy  symphonic metal,power metal,symphonic power metal\n",
      "4  007LIJOPQ4Sb98qV                            post-punk,new wave,1985\n",
      "\n",
      "\n",
      "--- listening_history ---\n",
      "            user              song         timestamp\n",
      "0  user_007XIjOr  DaTQ53TUmfP93FSr  2019-02-20 12:28\n",
      "1  user_007XIjOr  dGeyvi5WCOjDU7da  2019-02-20 12:35\n",
      "2  user_007XIjOr  qUm54NYOjeFhmKYx  2019-02-20 12:48\n",
      "3  user_007XIjOr  FtnuMT1DlevSR2n5  2019-02-20 12:52\n",
      "4  user_007XIjOr  LHETTZcSZLeaVOGh  2019-02-20 13:09\n",
      "\n",
      "\n"
     ]
    }
   ],
   "source": [
    "# Display cleaned columns to verify\n",
    "for key, df in data_frames.items():\n",
    "    print(f\"--- {key} ---\")\n",
    "    print(df.head())\n",
    "    print(\"\\n\")"
   ]
  },
  {
   "cell_type": "markdown",
   "id": "a91e795f",
   "metadata": {},
   "source": [
    "### <i>  What dataset(s) did you use for the problem scenario(s)? </i> <br>\n",
    "For our music recommendation system project, we used the Music4All database, which is a comprehensive dataset aimed at supporting research in the music information retrieval (MIR) community. This dataset is designed to include a wide variety of audio attributes, metadata, and user interaction data.\n",
    "\n",
    "\n",
    "### <i> Describe the basic characteristics of the dataset(s) </i> <br>\n",
    "\n",
    "* Last.fm Data (<i>Last.fm_data.csv</i>): Contains user last interactions with songs.\n",
    "    * Attributes: <i>Username, Artist, Track, Date, Time</i>\n",
    "\n",
    "* Listening History (<i>listening_history.csv</i>): Contains the listening history for each user.\n",
    "    * Attributes: <i>user, song, timestamp</i><br>\n",
    "\n",
    "* ID Metadata (<i>id_metadata-checkpoint.csv</i>): Contains detailed information about each song, including its unique identifiers, musical characteristics, and popularity metrics. \n",
    "    * Attributes: <i>Song_ID, Spotify_ID, Popularity, Release, Danceability, Energy, Key Mode, Valence, Tempo, Duration_ms</i><br>\n",
    "\n",
    "* ID Genres (<i>id_genres.csv</i>): Contains genre information for each song.\n",
    "    * Attributes: <i>Song_ID, Genre.</i><br>\n",
    "\n",
    "* ID Information (<i>id_information.csv</i>):  Contains essential information about each song, including its unique identifier, the performing artist, the song title, and the album it belongs to.\n",
    "    * Attributes: <i>song_id,Artist, Track, Album_Name.</i><br>\n",
    "\n",
    "* ID Languages (<i>id_lang-checkpoint.csv</i>): Contains language of each song. \n",
    "    * Attributes: <i>Song_id, Language.</i><br>\n",
    "\n",
    "* ID Tags (<i>id_tags-checkpoint.csv</i>): Contains user-generated tags for each song, providing additional descriptive information.\n",
    "    * Attributes: <i>Song_id, Tags.</i><br>"
   ]
  },
  {
   "cell_type": "markdown",
   "id": "30023850",
   "metadata": {},
   "source": [
    "### <i> How did we link different datasets together? </i>\n",
    "The linkage between these datasets is achieved through the common attribute song_id, which uniquely identifies each song across different datasets. This integration enables the combination of user interaction data with detailed song attributes, enriching the dataset for better analysis and recommendations.\n",
    "\n",
    "#### Combining User Interaction Data with Metadata\n",
    "* <b>User Interaction Data</b>:\n",
    "    * <b>Datasets:</b> <i>listening_history.csv</i> \n",
    "    * <b>Purpose:</b> These datasets provide data on who listened to what and how often. They form the basis for collaborative filtering.\n",
    "    * <b>Linkage:</b> By linking these datasets with id_information.csv, we can attach song names, artist names, and album names to each interaction record. This enhances the dataset by making it more informative and interpretable."
   ]
  },
  {
   "cell_type": "markdown",
   "id": "41cb57e2",
   "metadata": {},
   "source": [
    "### Exploratory Data Analysis \n",
    "#### First few rows and Summary of Datasets\n",
    "\n",
    "\n",
    "We start by displaying the first few rows of each dataset to understand their structure and contents. Following this, we generate summary statistics to gain insights into the distribution and characteristics of the data in each dataset. \n",
    "This initial analysis helps identify key features and patterns within the data, setting the stage for more detailed exploration and analysis."
   ]
  },
  {
   "cell_type": "code",
   "execution_count": 7,
   "id": "a9d783dd",
   "metadata": {},
   "outputs": [
    {
     "name": "stdout",
     "output_type": "stream",
     "text": [
      "Listening History:\n",
      "            user              song         timestamp\n",
      "0  user_007XIjOr  DaTQ53TUmfP93FSr  2019-02-20 12:28\n",
      "1  user_007XIjOr  dGeyvi5WCOjDU7da  2019-02-20 12:35\n",
      "2  user_007XIjOr  qUm54NYOjeFhmKYx  2019-02-20 12:48\n",
      "3  user_007XIjOr  FtnuMT1DlevSR2n5  2019-02-20 12:52\n",
      "4  user_007XIjOr  LHETTZcSZLeaVOGh  2019-02-20 13:09\n",
      "\n",
      "ID Tags:\n",
      "                 id                                               tags\n",
      "0  0009fFIM1eYThaPg     pop,british,female vocalists,dance,cheryl cole\n",
      "1  0010xmHR6UICBOYT  instrumental hip-hop,underground hip hop,instr...\n",
      "2  002Jyd0vN4HyCpqL        hard rock,rock,classic rock,american artist\n",
      "3  006TYKNjNxWjfKjy  symphonic metal,power metal,symphonic power metal\n",
      "4  007LIJOPQ4Sb98qV                            post-punk,new wave,1985\n",
      "\n",
      "ID Genres:\n",
      "                 id                                             genres\n",
      "0  0009fFIM1eYThaPg                                                pop\n",
      "1  0010xmHR6UICBOYT                                underground hip hop\n",
      "2  002Jyd0vN4HyCpqL                        hard rock,rock,classic rock\n",
      "3  006TYKNjNxWjfKjy  symphonic metal,power metal,symphonic power metal\n",
      "4  007LIJOPQ4Sb98qV                                 post-punk,new wave\n",
      "\n",
      "ID Information:\n",
      "                 id            artist               song  \\\n",
      "0  0009fFIM1eYThaPg            Cheryl         Rain on Me   \n",
      "1  0010xmHR6UICBOYT           Oddisee     After Thoughts   \n",
      "2  002Jyd0vN4HyCpqL  Blue Öyster Cult             ME 262   \n",
      "3  006TYKNjNxWjfKjy          Rhapsody  Flames of Revenge   \n",
      "4  007LIJOPQ4Sb98qV    The Chameleons          Nostalgia   \n",
      "\n",
      "                                          album_name  \n",
      "0                                            3 Words  \n",
      "1                                  The Beauty in All  \n",
      "2                                    Secret Treaties  \n",
      "3                      Legendary Years (Re-Recorded)  \n",
      "4  What Does Anything Mean? Basically (2009 Remas...  \n",
      "\n",
      "ID Metadata:\n",
      "                 id              spotify_id  popularity  release  \\\n",
      "0  0009fFIM1eYThaPg  3eObKIfHKJ1nAPh0wTxFCc        12.0     2009   \n",
      "1  0010xmHR6UICBOYT  27szvF97Tu95GxN98N52fy        46.0     2013   \n",
      "2  002Jyd0vN4HyCpqL  273lBFpxUCwisTpdnF9cVb        31.0     1974   \n",
      "3  006TYKNjNxWjfKjy  1qZgergQ41vaD4zBf3AKXR        33.0     2017   \n",
      "4  007LIJOPQ4Sb98qV  6rVxJ3sN3Cz40MSLavbG1K        19.0     2009   \n",
      "\n",
      "   danceability  energy  key  mode  valence    tempo  duration_ms  \n",
      "0         0.635   0.746  6.0   1.0    0.548  110.973       229947  \n",
      "1         0.591   0.513  7.0   0.0    0.263  172.208       325096  \n",
      "2         0.319   0.925  2.0   1.0    0.658  157.630       285693  \n",
      "3         0.432   0.979  7.0   1.0    0.162   90.008       332867  \n",
      "4         0.357   0.708  9.0   1.0    0.470  123.904       326067  \n",
      "\n",
      "ID Language:\n",
      "                 id lang\n",
      "0  0009fFIM1eYThaPg   en\n",
      "1  0010xmHR6UICBOYT   en\n",
      "2  002Jyd0vN4HyCpqL   en\n",
      "3  006TYKNjNxWjfKjy   en\n",
      "4  007LIJOPQ4Sb98qV   en\n",
      "\n",
      "Listening History Summary:\n",
      "                 user              song         timestamp\n",
      "count         5109592           5109592           5109592\n",
      "unique          14127             99596            122340\n",
      "top     user_N9OKtRH0  32m5suoC94ytD8Ed  2019-02-08 20:35\n",
      "freq              500             82871               175\n",
      "\n",
      "ID Tags Summary:\n",
      "                      id    tags\n",
      "count             109269  109269\n",
      "unique            109269   80247\n",
      "top     0009fFIM1eYThaPg     pop\n",
      "freq                   1     338\n",
      "\n",
      "ID Genres Summary:\n",
      "                      id  genres\n",
      "count             109269  109269\n",
      "unique            109269   23520\n",
      "top     0009fFIM1eYThaPg     pop\n",
      "freq                   1    6092\n",
      "\n",
      "ID Information Summary:\n",
      "                      id  artist    song     album_name\n",
      "count             109269  109269  109269         109269\n",
      "unique            109269   16269   87915          38363\n",
      "top     0009fFIM1eYThaPg   Queen   Intro  Greatest Hits\n",
      "freq                   1     264      65            175\n",
      "\n",
      "ID Metadata Summary:\n",
      "          popularity        release   danceability         energy  \\\n",
      "count  109269.000000  109269.000000  109269.000000  109269.000000   \n",
      "mean       35.080608    2005.813488       0.520449       0.667162   \n",
      "std        14.756258      14.335056       0.173008       0.241372   \n",
      "min         0.000000    1013.000000       0.000000       0.000000   \n",
      "25%        25.000000    2001.000000       0.403000       0.502000   \n",
      "50%        34.000000    2011.000000       0.528000       0.712000   \n",
      "75%        45.000000    2016.000000       0.645000       0.872000   \n",
      "max        95.000000    2019.000000       0.988000       1.000000   \n",
      "\n",
      "                 key           mode        valence          tempo  \\\n",
      "count  109269.000000  109269.000000  109269.000000  109269.000000   \n",
      "mean        5.284079       0.624669       0.445504     122.753032   \n",
      "std         3.560797       0.484210       0.252159      28.997936   \n",
      "min         0.000000       0.000000       0.000000       0.000000   \n",
      "25%         2.000000       0.000000       0.236000     100.194000   \n",
      "50%         5.000000       1.000000       0.424000     121.079000   \n",
      "75%         9.000000       1.000000       0.639000     140.047000   \n",
      "max        11.000000       1.000000       0.998000     242.903000   \n",
      "\n",
      "        duration_ms  \n",
      "count  1.092690e+05  \n",
      "mean   2.425046e+05  \n",
      "std    1.003360e+05  \n",
      "min    7.229000e+03  \n",
      "25%    1.934810e+05  \n",
      "50%    2.275330e+05  \n",
      "75%    2.715330e+05  \n",
      "max    4.995315e+06  \n",
      "\n",
      "ID Language Summary:\n",
      "                      id    lang\n",
      "count             109269  109269\n",
      "unique            109269      46\n",
      "top     0009fFIM1eYThaPg      en\n",
      "freq                   1   84103\n"
     ]
    }
   ],
   "source": [
    "import pandas as pd\n",
    "\n",
    "listening_history = pd.read_csv(\"data/listening_history.csv\", sep='\\t')\n",
    "id_tags = pd.read_csv(\"data/id_tags.csv\", sep='\\t')\n",
    "id_genres = pd.read_csv(\"data/id_genres.csv\", sep='\\t')\n",
    "id_information = pd.read_csv(\"data/id_information.csv\", sep='\\t')\n",
    "id_metadata = pd.read_csv(\"data/id_metadata.csv\", sep='\\t')\n",
    "id_lang = pd.read_csv(\"data/id_lang.csv\", sep='\\t')\n",
    "\n",
    "# Display first few rows of each dataset\n",
    "print(\"Listening History:\")\n",
    "print(listening_history.head())\n",
    "print(\"\\nID Tags:\")\n",
    "print(id_tags.head())\n",
    "print(\"\\nID Genres:\")\n",
    "print(id_genres.head())\n",
    "print(\"\\nID Information:\")\n",
    "print(id_information.head())\n",
    "print(\"\\nID Metadata:\")\n",
    "print(id_metadata.head())\n",
    "print(\"\\nID Language:\")\n",
    "print(id_lang.head())\n",
    "\n",
    "# Summary statistics\n",
    "print(\"\\nListening History Summary:\")\n",
    "print(listening_history.describe())\n",
    "print(\"\\nID Tags Summary:\")\n",
    "print(id_tags.describe())\n",
    "print(\"\\nID Genres Summary:\")\n",
    "print(id_genres.describe())\n",
    "print(\"\\nID Information Summary:\")\n",
    "print(id_information.describe())\n",
    "print(\"\\nID Metadata Summary:\")\n",
    "print(id_metadata.describe())\n",
    "print(\"\\nID Language Summary:\")\n",
    "print(id_lang.describe())"
   ]
  },
  {
   "cell_type": "markdown",
   "id": "85308464",
   "metadata": {},
   "source": [
    "### Visualizing Repeated Song Listens by Users ('Liked Songs')\n",
    "In this analysis, we explore user listening behavior to identify and visualize songs that users listen to multiple times.\n",
    "\n",
    "'Liked Song by User' - We consider if a user liked a song by seeing if the user has heard the song more than once, (2 times or more)."
   ]
  },
  {
   "cell_type": "code",
   "execution_count": 8,
   "id": "c7d7932b",
   "metadata": {},
   "outputs": [
    {
     "data": {
      "image/png": "[encoded data removed]",
      "text/plain": [
       "<Figure size 1200x800 with 1 Axes>"
      ]
     },
     "metadata": {},
     "output_type": "display_data"
    }
   ],
   "source": [
    "import pandas as pd\n",
    "import matplotlib.pyplot as plt\n",
    "import seaborn as sns\n",
    "\n",
    "# Merge the song names with the listening history data\n",
    "listening_history = listening_history.merge(id_information[['id', 'song']], left_on='song', right_on='id', how='left')\n",
    "\n",
    "# Count the number of times each user listened to each song\n",
    "user_song_counts = listening_history.groupby(['user', 'song_y']).size().reset_index(name='count')\n",
    "\n",
    "# Filter to find cases where a user listened to the same song more than once\n",
    "multiple_listens = user_song_counts[user_song_counts['count'] > 1]\n",
    "\n",
    "# Visualize the top songs listened to multiple times by the same user\n",
    "# Get the top N songs listened to multiple times\n",
    "top_n = 20  # Change this number to display more or fewer songs\n",
    "top_multiple_listens = multiple_listens.nlargest(top_n, 'count')\n",
    "\n",
    "plt.figure(figsize=(12, 8))\n",
    "sns.barplot(x='count', y='song_y', hue='user', data=top_multiple_listens, dodge=False)\n",
    "plt.title('Top Songs Listened to Multiple Times by the Same User')\n",
    "plt.xlabel('Number of Listens')\n",
    "plt.ylabel('Song')\n",
    "plt.xticks(rotation=45, ha='right')\n",
    "plt.tight_layout()\n",
    "plt.show()\n"
   ]
  },
  {
   "cell_type": "markdown",
   "id": "1560b5b3",
   "metadata": {},
   "source": [
    "#### Generating a Word Cloud for Song Tags\n",
    "In this step, we create a visual representation of the most common tags associated with songs:"
   ]
  },
  {
   "cell_type": "code",
   "execution_count": 9,
   "id": "f3b897e3",
   "metadata": {},
   "outputs": [
    {
     "name": "stdout",
     "output_type": "stream",
     "text": [
      "^C\n"
     ]
    },
    {
     "name": "stdout",
     "output_type": "stream",
     "text": [
      "Requirement already satisfied: wordcloud in c:\\users\\aditi\\appdata\\local\\packages\\pythonsoftwarefoundation.python.3.11_qbz5n2kfra8p0\\localcache\\local-packages\\python311\\site-packages (1.9.3)\n",
      "Requirement already satisfied: numpy>=1.6.1 in c:\\users\\aditi\\appdata\\local\\packages\\pythonsoftwarefoundation.python.3.11_qbz5n2kfra8p0\\localcache\\local-packages\\python311\\site-packages (from wordcloud) (1.26.4)\n",
      "Requirement already satisfied: pillow in c:\\users\\aditi\\appdata\\local\\packages\\pythonsoftwarefoundation.python.3.11_qbz5n2kfra8p0\\localcache\\local-packages\\python311\\site-packages (from wordcloud) (10.3.0)\n",
      "Requirement already satisfied: matplotlib in c:\\users\\aditi\\appdata\\local\\packages\\pythonsoftwarefoundation.python.3.11_qbz5n2kfra8p0\\localcache\\local-packages\\python311\\site-packages (from wordcloud) (3.9.0)\n",
      "Requirement already satisfied: contourpy>=1.0.1 in c:\\users\\aditi\\appdata\\local\\packages\\pythonsoftwarefoundation.python.3.11_qbz5n2kfra8p0\\localcache\\local-packages\\python311\\site-packages (from matplotlib->wordcloud) (1.2.1)\n",
      "Requirement already satisfied: cycler>=0.10 in c:\\users\\aditi\\appdata\\local\\packages\\pythonsoftwarefoundation.python.3.11_qbz5n2kfra8p0\\localcache\\local-packages\\python311\\site-packages (from matplotlib->wordcloud) (0.12.1)\n",
      "Requirement already satisfied: fonttools>=4.22.0 in c:\\users\\aditi\\appdata\\local\\packages\\pythonsoftwarefoundation.python.3.11_qbz5n2kfra8p0\\localcache\\local-packages\\python311\\site-packages (from matplotlib->wordcloud) (4.53.0)\n",
      "Requirement already satisfied: kiwisolver>=1.3.1 in c:\\users\\aditi\\appdata\\local\\packages\\pythonsoftwarefoundation.python.3.11_qbz5n2kfra8p0\\localcache\\local-packages\\python311\\site-packages (from matplotlib->wordcloud) (1.4.5)\n",
      "Requirement already satisfied: packaging>=20.0 in c:\\users\\aditi\\appdata\\local\\packages\\pythonsoftwarefoundation.python.3.11_qbz5n2kfra8p0\\localcache\\local-packages\\python311\\site-packages (from matplotlib->wordcloud) (24.0)\n",
      "Requirement already satisfied: pyparsing>=2.3.1 in c:\\users\\aditi\\appdata\\local\\packages\\pythonsoftwarefoundation.python.3.11_qbz5n2kfra8p0\\localcache\\local-packages\\python311\\site-packages (from matplotlib->wordcloud) (3.1.2)\n",
      "Requirement already satisfied: python-dateutil>=2.7 in c:\\users\\aditi\\appdata\\local\\packages\\pythonsoftwarefoundation.python.3.11_qbz5n2kfra8p0\\localcache\\local-packages\\python311\\site-packages (from matplotlib->wordcloud) (2.9.0.post0)\n",
      "Requirement already satisfied: six>=1.5 in c:\\users\\aditi\\appdata\\local\\packages\\pythonsoftwarefoundation.python.3.11_qbz5n2kfra8p0\\localcache\\local-packages\\python311\\site-packages (from python-dateutil>=2.7->matplotlib->wordcloud) (1.16.0)\n"
     ]
    },
    {
     "name": "stderr",
     "output_type": "stream",
     "text": [
      "\n",
      "[notice] A new release of pip is available: 24.1.1 -> 24.2\n",
      "[notice] To update, run: C:\\Users\\aditi\\AppData\\Local\\Microsoft\\WindowsApps\\PythonSoftwareFoundation.Python.3.11_qbz5n2kfra8p0\\python.exe -m pip install --upgrade pip\n"
     ]
    }
   ],
   "source": [
    "!pip install wordcloud"
   ]
  },
  {
   "cell_type": "code",
   "execution_count": null,
   "id": "6d2336a2",
   "metadata": {},
   "outputs": [],
   "source": [
    "from wordcloud import WordCloud\n",
    "\n",
    "# Generate word cloud for tags\n",
    "all_tags = ','.join(id_tags['tags'])\n",
    "wordcloud = WordCloud(width=800, height=400, background_color ='white').generate(all_tags)\n",
    "\n",
    "plt.figure(figsize=(10, 6))\n",
    "plt.imshow(wordcloud, interpolation='bilinear')\n",
    "plt.axis('off')\n",
    "plt.title('Common Tags')\n",
    "plt.show()"
   ]
  },
  {
   "cell_type": "markdown",
   "id": "97143a85",
   "metadata": {},
   "source": [
    "#### Visualizing Most Common Genres\n",
    "In this analysis, we explore the distribution of song genres and identify the most common ones:\n",
    "\n"
   ]
  },
  {
   "cell_type": "code",
   "execution_count": null,
   "id": "c5378484",
   "metadata": {},
   "outputs": [
    {
     "data": {
      "image/png": "[encoded data removed]",
      "text/plain": [
       "<Figure size 1000x600 with 1 Axes>"
      ]
     },
     "metadata": {},
     "output_type": "display_data"
    }
   ],
   "source": [
    "# Count of each genre\n",
    "genre_counts = id_genres['genres'].str.split(',', expand=True).stack().value_counts()\n",
    "\n",
    "# Count of each genre\n",
    "genre_counts = id_genres['genres'].str.split(',', expand=True).stack().value_counts()\n",
    "\n",
    "# Select the top N genres to display\n",
    "top_n = 20  # Change this number to display more or fewer genres\n",
    "top_genres = genre_counts.head(top_n)\n",
    "\n",
    "# Bar plot of the most common genres\n",
    "plt.figure(figsize=(10, 6))\n",
    "sns.barplot(x=genre_counts.values[:10], y=genre_counts.index[:10])\n",
    "plt.title('Top 10 Most Common Genres')\n",
    "plt.xlabel('Count')\n",
    "plt.ylabel('Genre')\n",
    "plt.show()"
   ]
  },
  {
   "cell_type": "markdown",
   "id": "dfc0bcba",
   "metadata": {},
   "source": [
    "#### Visualizing Language Distribution\n",
    "In this analysis, we explore the distribution of languages in the song dataset:"
   ]
  },
  {
   "cell_type": "code",
   "execution_count": null,
   "id": "004d79b8",
   "metadata": {},
   "outputs": [
    {
     "data": {
      "image/png": "[encoded data removed]",
      "text/plain": [
       "<Figure size 1200x800 with 1 Axes>"
      ]
     },
     "metadata": {},
     "output_type": "display_data"
    }
   ],
   "source": [
    "import matplotlib.pyplot as plt\n",
    "# Count of each language\n",
    "language_counts = id_lang['lang'].value_counts()\n",
    "top_n = 20  # Adjust the number as needed\n",
    "top_languages = language_counts.head(top_n)\n",
    "\n",
    "# Mapping of language codes to full names\n",
    "language_map = {\n",
    "    'en': 'English',\n",
    "    'INTRUMENTAL': 'Instrumental',\n",
    "    'pt': 'Portuguese',\n",
    "    'es': 'Spanish',\n",
    "    'ko': 'Korean',\n",
    "    'fr': 'French',\n",
    "    'ja': 'Japanese',\n",
    "    'de': 'German',\n",
    "    'pl': 'Polish',\n",
    "    'it': 'Italian',\n",
    "    'sv': 'Swedish',\n",
    "    'ru': 'Russian',\n",
    "    'id': 'Indonesian',\n",
    "    'tr': 'Turkish',\n",
    "    'fi': 'Finnish',\n",
    "    'no': 'Norwegian',\n",
    "    'nl': 'Dutch',\n",
    "    'hr': 'Croatian',\n",
    "    'hu': 'Hungarian'\n",
    "}\n",
    "\n",
    "# Apply the mapping to the top languages\n",
    "top_languages.index = top_languages.index.map(lambda x: language_map.get(x, x))\n",
    "\n",
    "# Plot Top Languages\n",
    "plt.figure(figsize=(12, 8))\n",
    "top_languages.plot.bar(color='lightgreen')\n",
    "plt.title('Top Languages Distribution')\n",
    "plt.xlabel('Language')\n",
    "plt.ylabel('Count')\n",
    "plt.xticks(rotation=45, ha='right')\n",
    "plt.tight_layout()\n",
    "plt.show()\n"
   ]
  },
  {
   "cell_type": "markdown",
   "id": "c0e516c9",
   "metadata": {},
   "source": [
    "### <i> What are the strengths and weaknesses of the dataset(s) in terms of addressing the chosen recommendation problem(s)?</i>\n",
    "#### Strengths:\n",
    "* Comprehensive Data: The dataset includes a wide variety of information such as user interactions,(how often users listen to specific songs), song metadata, genres, languages, and tags, enabling the creation of detailed user profiles and sophisticated recommendation algorithms.\n",
    "* Rich Metadata: Detailed song metadata and user-generated tags provide valuable context for each song, improving recommendation quality.\n",
    "* Large Scale: The large number of songs and user interactions supports robust statistical analysis and model training.\n",
    "#### Weaknesses:\n",
    "* Complexity: The large size and complexity of the dataset require substantial preprocessing and computational resources to handle effectively. Combining multiple datasets with different attributes (e.g., genres, languages, tags) adds to the complexity.\n",
    "* Missing Values: Some entries have missing values, which could potentially impact the quality of the analysis and recommendations if not handled properly.\n",
    "* Inconsistencies: Potential inconsistencies between different datasets (e.g., different genres or tags for the same song) require careful data cleaning and normalization."
   ]
  },
  {
   "cell_type": "markdown",
   "id": "24d92033",
   "metadata": {},
   "source": [
    "## Part 3. Models / Methods and Experiments"
   ]
  },
  {
   "cell_type": "markdown",
   "id": "18326bab",
   "metadata": {},
   "source": [
    "#### <b>Overall Approach:</b> \n",
    "The recommendation system integrates multiple methods to balance exploration and exploitation. This ensures personalized recommendations by reinforcing known user preferences while introducing new music. The primary methods used are Content-based filtering, Collaborative filtering, and Hybrid method (Content and Collaborative with different weights). For each method, the system recommends 30 songs daily."
   ]
  },
  {
   "cell_type": "markdown",
   "id": "e01120dc",
   "metadata": {},
   "source": [
    "## Exploration"
   ]
  },
  {
   "cell_type": "markdown",
   "id": "59915b47",
   "metadata": {},
   "source": [
    "#### <b>Cold Start Problem: Purely Exploration</b>\n",
    "\n",
    "* <b>Lack of User Data:</b> New users lack interaction data, making personalized recommendations challenging.\n",
    "\n",
    "* <b>Simplicity and Effectiveness:</b> Popular items are generally well-liked and provide a reasonable starting point for recommendations, increasing the chances of user satisfaction.\n",
    "\n",
    "* <b>Baseline Performance:</b> Ensures users receive widely appreciated content, improving initial user experience even without personalization."
   ]
  },
  {
   "cell_type": "markdown",
   "id": "8896da47",
   "metadata": {},
   "source": [
    "####  <b>Popularity-based Random Recommendation </b>\n",
    "\n",
    "* <b>Method:</b> For new users with minimal interaction data, the system recommends 30 popular songs based on their frequency as a baseline.\n",
    "\n",
    "* <b>Implementation Details:</b>\n",
    "    * <b>Data Collection:</b> Identified popular songs based on global listening statistics from the Music4All database.\n",
    "    * <b>Recommendation:</b> Uses a fully exploratory strategy to recommend 30 widely liked songs until sufficient user interaction data is collected.\n"
   ]
  },
  {
   "cell_type": "markdown",
   "id": "7f8933ac",
   "metadata": {},
   "source": [
    "* <b>Function Implementation:</b>"
   ]
  },
  {
   "cell_type": "code",
   "execution_count": 10,
   "id": "dd966911",
   "metadata": {},
   "outputs": [],
   "source": [
    "import pandas as pd\n",
    "\n",
    "popularity_file_path = \"data/id_metadata.csv\"\n",
    "info_file_path = \"data/id_information.csv\""
   ]
  },
  {
   "cell_type": "markdown",
   "id": "916b0592",
   "metadata": {},
   "source": [
    "<b>Extracting Top Songs:</b>\n",
    "The script extracts the top 30 most popular songs based on the 'frequency' column.<br>\n",
    "\n",
    "<b>Matching Song Details:</b>\n",
    "It matches the IDs of these top 30 songs with the detailed information dataset to get the song names and artists.<br>\n",
    "\n",
    "<b>Formatted Output:</b>\n",
    "Generate a list of the top 30 songs with their names and artist details for recommendation.<br>"
   ]
  },
  {
   "cell_type": "code",
   "execution_count": 11,
   "id": "3c8f5e74-d8d1-498d-ab5e-8e746eb32797",
   "metadata": {},
   "outputs": [],
   "source": [
    "def get_top_30_songs_by_frequency(data_frame):\n",
    "    \"\"\"\n",
    "    Returns a list of the top 30 songs by frequency in the dataset.\n",
    "\n",
    "    Parameters:\n",
    "    - data_frame: pandas DataFrame containing the listening history data with columns 'user', 'song', and 'time'.\n",
    "\n",
    "    Returns:\n",
    "    - top_30_songs_list: List of the top 30 songs.\n",
    "    \"\"\"\n",
    "    # Group by song and count the occurrences\n",
    "    song_frequency = data_frame.groupby('song').size().reset_index(name='frequency')\n",
    "    \n",
    "    # Sort the songs by frequency in descending order\n",
    "    sorted_songs = song_frequency.sort_values(by='frequency', ascending=False)\n",
    "    \n",
    "    # Select the top 30 songs\n",
    "    top_30_songs = sorted_songs.head(30)\n",
    "    \n",
    "    # Convert the top 30 songs to a list\n",
    "    top_30_songs_list = top_30_songs['song'].tolist()\n",
    "    \n",
    "    return top_30_songs_list"
   ]
  },
  {
   "cell_type": "code",
   "execution_count": 12,
   "id": "2a991965",
   "metadata": {},
   "outputs": [
    {
     "name": "stdout",
     "output_type": "stream",
     "text": [
      "1. Don't - Ed Sheeran\n",
      "2. Truth Hurts - Lizzo\n",
      "3. Sucker - Jonas Brothers\n",
      "4. 7 rings - Ariana Grande\n",
      "5. Calma - Pedro Capó\n",
      "6. Without Me - Halsey\n",
      "7. Suge - DaBaby\n",
      "8. Shallow - Lady Gaga, Bradley Cooper\n",
      "9. Wow. - Post Malone\n",
      "10. Sweet but Psycho - Ava Max\n",
      "11. thank u, next - Ariana Grande\n",
      "12. Let Me Down Slowly - Alec Benjamin\n",
      "13. Better Now - Post Malone\n",
      "14. MIDDLE CHILD - J. Cole\n",
      "15. Believer - Imagine Dragons\n",
      "16. 3 Nights - Dominic Fike\n",
      "17. HP - Maluma\n",
      "18. High Hopes - Panic! at the Disco\n",
      "19. rockstar - Post Malone\n",
      "20. Shape of You - Ed Sheeran\n",
      "21. Lucid Dreams - Juice WRLD\n",
      "22. SICKO MODE - Travis Scott\n",
      "23. SAD! - XXXTentacion\n",
      "24. break up with your girlfriend, i'm bored - Ariana Grande\n",
      "25. Perfect - Ed Sheeran\n",
      "26. So Am I - Ava Max\n",
      "27. Moonlight - XXXTentacion\n",
      "28. Thunder - Imagine Dragons\n",
      "29. Jocelyn Flores - XXXTentacion\n",
      "30. Baila Baila Baila - Ozuna\n"
     ]
    }
   ],
   "source": [
    "\n",
    "def extract_top_30_song_details(popularity_file_path, info_file_path):\n",
    "\n",
    "    # Load the popularity dataset with the correct separator\n",
    "    popularity_data = pd.read_csv(popularity_file_path, sep='\\t')\n",
    "\n",
    "    # Extract the thirty most popular songs\n",
    "    top_30_songs = popularity_data.nlargest(30, 'popularity')\n",
    "    top_30_ids = top_30_songs['id']\n",
    "\n",
    "    # Load the song information dataset with the correct separator\n",
    "    info_data = pd.read_csv(info_file_path, sep='\\t')\n",
    "\n",
    "    # Filter the info data to match the top 30 ids\n",
    "    top_30_details = info_data[info_data['id'].isin(top_30_ids)]\n",
    "    \n",
    "    # Ensure the order of the songs matches the popularity ranking\n",
    "    top_30_details_ordered = top_30_details.set_index('id').loc[top_30_ids].reset_index()\n",
    "\n",
    "    # Create the formatted output\n",
    "    formatted_output = [\n",
    "        f\"{i+1}. {row['song']} - {row['artist']}\"\n",
    "        for i, row in top_30_details_ordered.iterrows()\n",
    "    ]\n",
    "    \n",
    "    return formatted_output\n",
    "\n",
    "top_30_song_details = extract_top_30_song_details(popularity_file_path, info_file_path)\n",
    "for line in top_30_song_details:\n",
    "    print(line)\n"
   ]
  },
  {
   "cell_type": "markdown",
   "id": "558bc721",
   "metadata": {},
   "source": [
    "### <b>Content-based Filtering</b>"
   ]
  },
  {
   "cell_type": "markdown",
   "id": "06bb4063",
   "metadata": {},
   "source": [
    "\n",
    "\n",
    "* <b>Type: Content-based</b> \n",
    "\n",
    "* <b>Method:</b> \n",
    "    * <b>Song Vectorization:</b>  Each song is represented as a vector using attributes such as artist, album, and audio features.\n",
    "    \n",
    "    * <b>User Profile Construction:</b>  Constructed by averaging vectors of liked songs, weighted by listening frequency and recency.\n",
    "    * <b>Similarity Function:</b>  Cosine similarity to compare the user's profile with song vectors.\n",
    "* <b>Parameters:</b>  No specific parameters like kNN value, but weight calculations for user preference are based on listening patterns.\n",
    "* <b>Library:</b>  Implemented using scikit-learn. <br>\n",
    "\n",
    "* <b>Implementation Details:</b> \n",
    "    * <b>Data Collection:</b>  Utilized the Music4All database containing metadata, tags, genres, listening history, and audio features.\n",
    "    \n",
    "    * <b>Feature Vector Construction:</b>  Used one-hot encoding for categorical attributes and normalization for numerical features.\n",
    "    * <b>User Profile Construction:</b>  Averaged vectors of liked songs with weights based on listening patterns.\n",
    "    * <b>Recommendation:</b>  The system recommends 30 songs daily based on the highest similarity scores to the user's profile."
   ]
  },
  {
   "cell_type": "markdown",
   "id": "be2b24cf",
   "metadata": {},
   "source": [
    "* <b>Function Implementation:</b>"
   ]
  },
  {
   "cell_type": "markdown",
   "id": "edff4677",
   "metadata": {},
   "source": [
    "#### **Extracting Specific Columns from Metadata**\n",
    "This section of the code specifies the columns to extract from the metadata and creates a new DataFrame with only those columns, which is useful for focusing on relevant attributes."
   ]
  },
  {
   "cell_type": "code",
   "execution_count": 13,
   "id": "98308034-033c-4677-a426-dd37821300ca",
   "metadata": {},
   "outputs": [
    {
     "name": "stdout",
     "output_type": "stream",
     "text": [
      "<class 'pandas.core.frame.DataFrame'>\n",
      "RangeIndex: 109269 entries, 0 to 109268\n",
      "Data columns (total 11 columns):\n",
      " #   Column        Non-Null Count   Dtype  \n",
      "---  ------        --------------   -----  \n",
      " 0   id            109269 non-null  object \n",
      " 1   spotify_id    109269 non-null  object \n",
      " 2   popularity    109269 non-null  float64\n",
      " 3   release       109269 non-null  int64  \n",
      " 4   danceability  109269 non-null  float64\n",
      " 5   energy        109269 non-null  float64\n",
      " 6   key           109269 non-null  float64\n",
      " 7   mode          109269 non-null  float64\n",
      " 8   valence       109269 non-null  float64\n",
      " 9   tempo         109269 non-null  float64\n",
      " 10  duration_ms   109269 non-null  int64  \n",
      "dtypes: float64(7), int64(2), object(2)\n",
      "memory usage: 9.2+ MB\n",
      "['popularity', 'release', 'danceability', 'energy', 'key', 'mode', 'valence', 'tempo', 'duration_ms']\n"
     ]
    }
   ],
   "source": [
    "data_frames[\"id_metadata\"].info()\n",
    "columns_to_extract = ['popularity', 'release','danceability','energy','key','mode','valence','tempo','duration_ms']\n",
    "extracted_df = data_frames[\"id_metadata\"][columns_to_extract]\n",
    "print(['popularity', 'release','danceability','energy','key','mode','valence','tempo','duration_ms'])\n"
   ]
  },
  {
   "cell_type": "markdown",
   "id": "16010b5c",
   "metadata": {},
   "source": [
    "#### **Scaling Features**\n",
    "This function scales the features of the extracted DataFrame using a specified scaler. Scaling is important for ensuring that all features contribute equally to the model.\n",
    "\n"
   ]
  },
  {
   "cell_type": "code",
   "execution_count": 14,
   "id": "70b4b4c7-b6dc-4968-bafb-692b52bbfcea",
   "metadata": {},
   "outputs": [],
   "source": [
    "def scalling_features(scaler):\n",
    "    scaled_features = scaler.fit_transform(extracted_df)\n",
    "    \n",
    "    # Convert back to a DataFrame\n",
    "    scaled_df = pd.DataFrame(scaled_features, columns=extracted_df.columns)\n",
    "    \n",
    "    return scaled_df\n",
    " "
   ]
  },
  {
   "cell_type": "markdown",
   "id": "9e464376",
   "metadata": {},
   "source": [
    "#### **Converting Tags, Genres, and Languages to TF-IDF**\n",
    "In the following function, it will convert the tags, genres, and languages into a TF-IDF matrix, which helps in capturing the importance of each term for content-based filtering. By splitting and normalizing, they can further be utilized for further data analysis and our recommendation system."
   ]
  },
  {
   "cell_type": "code",
   "execution_count": 15,
   "id": "ec816238-d2ab-493c-bb22-ebd4b1f2bc69",
   "metadata": {},
   "outputs": [],
   "source": [
    "def convert_to_TF(df):\n",
    "    def custom_tokenizer(tag_string):\n",
    "        return [tag.strip() for tag in tag_string.split(',')]\n",
    "    \n",
    "    # Initialize TfidfVectorizer with the custom tokenizer\n",
    "    vectorizer = TfidfVectorizer(tokenizer=custom_tokenizer, lowercase=True, token_pattern=None)\n",
    "    \n",
    "    # Fit and transform the 'tags' column\n",
    "    tfidf_matrix = vectorizer.fit_transform(df)\n",
    "    tfidf_dense = tfidf_matrix.toarray()\n",
    "    tfidf_df = pd.DataFrame(tfidf_dense, columns=vectorizer.get_feature_names_out())\n",
    "    return tfidf_df"
   ]
  },
  {
   "cell_type": "markdown",
   "id": "24d58818",
   "metadata": {},
   "source": [
    "Now, the columns are going to be converted into TF-IDF matrices."
   ]
  },
  {
   "cell_type": "code",
   "execution_count": 16,
   "id": "2fd428e5-dd23-4f7c-a5b3-ec1eb131adc9",
   "metadata": {},
   "outputs": [],
   "source": [
    "tags_TF=convert_to_TF(data_frames[\"id_tags\"][\"tags\"])\n",
    "genres_TF=convert_to_TF(data_frames[\"id_genres\"][\"genres\"])\n",
    "lang_TF=convert_to_TF(data_frames[\"id_lang\"][\"lang\"])"
   ]
  },
  {
   "cell_type": "markdown",
   "id": "8f6785b8",
   "metadata": {},
   "source": [
    "#### **Scaling Data with Min-Max Scaler**\n",
    "This section scales the extracted features using the Min-Max Scaler, which transforms the features to a range between 0 and 1."
   ]
  },
  {
   "cell_type": "code",
   "execution_count": 17,
   "id": "a9b2f2c5-c719-41de-83d3-a29071b87cc9",
   "metadata": {},
   "outputs": [],
   "source": [
    "min_max_scaler = MinMaxScaler()\n",
    "scaled_df=scalling_features(min_max_scaler)"
   ]
  },
  {
   "cell_type": "markdown",
   "id": "22ab4a12",
   "metadata": {},
   "source": [
    "#### **Combining All Features**\n",
    "This part of the code concatenates all the scaled features, TF-IDF tags, genres, and languages into a single DataFrame."
   ]
  },
  {
   "cell_type": "code",
   "execution_count": 20,
   "id": "ab26358f-0abf-4f0e-8728-682d87db06e3",
   "metadata": {},
   "outputs": [],
   "source": [
    "\n",
    "combined_df = pd.concat([scaled_df, tags_TF, genres_TF, lang_TF], axis=1)"
   ]
  },
  {
   "cell_type": "markdown",
   "id": "9abfb195-7557-4e25-8a2c-f8fdd999eb64",
   "metadata": {},
   "source": [
    "#### **Mapping Song IDs to Indexes**\n",
    "This creates a mapping of song IDs to their corresponding indexes in the DataFrame, which is useful for reference during model training and prediction."
   ]
  },
  {
   "cell_type": "code",
   "execution_count": 19,
   "id": "4b3aca68-3f44-4bd0-b3be-506d7e540cb8",
   "metadata": {},
   "outputs": [],
   "source": [
    "user_ids = data_frames[\"listening_history\"].copy()['user'].unique()\n",
    "song_ids = data_frames[\"id_metadata\"][\"id\"].unique()\n",
    "user_to_index = {user: index for index, user in enumerate(user_ids)}\n",
    "song_to_index = {song: index for index, song in enumerate(song_ids)}\n"
   ]
  },
  {
   "cell_type": "markdown",
   "id": "bd153965-ebcf-447f-8c8e-333e5d11dc47",
   "metadata": {},
   "source": [
    "#### **Setting Up Variables**\n",
    "\n",
    "In this step, we set up the necessary variables for our notebook, including data paths, parameters for splitting data, thresholds for user profiles, and the number of users for evaluation.\n"
   ]
  },
  {
   "cell_type": "code",
   "execution_count": 21,
   "id": "171ddd15-bc26-4c1b-a166-69374a0d8ed4",
   "metadata": {},
   "outputs": [],
   "source": [
    "user_profile_threshold=3\n",
    "relevant_items_threshold=1\n",
    "num_users_for_evaluation=100"
   ]
  },
  {
   "cell_type": "markdown",
   "id": "37bceacb-b26d-4745-86b7-a26222932509",
   "metadata": {},
   "source": [
    "#### **Defining the User Rating for Collaborative Filtering**\n",
    "\n",
    "In this step, we create user-item ratings based on latent feedback. This involves generating implicit feedback from user interactions, which can then be used for collaborative filtering.\n"
   ]
  },
  {
   "cell_type": "code",
   "execution_count": 22,
   "id": "e21f7b2d-c62e-4761-8b3f-0c626ad0631f",
   "metadata": {},
   "outputs": [],
   "source": [
    "def create_user_song_interactions_counts(data_frame):\n",
    "    \"\"\"\n",
    "    Calculates user-song interaction counts and ratings from the given DataFrame.\n",
    "\n",
    "    Parameters:\n",
    "    - data_frame: pandas DataFrame containing the listening history data.\n",
    "\n",
    "    Returns:\n",
    "    - user_song_interactions_counts: pandas DataFrame with user-song interactions and ratings.\n",
    "    \"\"\"\n",
    "    # Add the 'count' column for interactions\n",
    "    data_frame['count'] = 1\n",
    "    \n",
    "    # Compute user-song interaction counts\n",
    "    user_song_interactions_counts = data_frame.groupby(['user', 'song']).size().reset_index(name='interactions')\n",
    "\n",
    "    # Add the rating column with normalization\n",
    "    user_song_interactions_counts['rating'] = np.log1p(user_song_interactions_counts['interactions'])\n",
    "\n",
    "    min_rating = user_song_interactions_counts['rating'].min()\n",
    "    max_rating = user_song_interactions_counts['rating'].max()\n",
    "    user_song_interactions_counts['rating'] = 1 + 4 * (user_song_interactions_counts['rating'] - min_rating) / (max_rating - min_rating)\n",
    "\n",
    "    return user_song_interactions_counts\n",
    "df_interactions=create_user_song_interactions_counts(data_frames[\"listening_history\"].copy())"
   ]
  },
  {
   "cell_type": "markdown",
   "id": "fbce3c22",
   "metadata": {},
   "source": [
    "### **Experimental Setup**\n",
    "#### **Train-Test Split:**\n",
    "\n",
    "* The dataset was split into training and testing sets using an 80/20 split. This ensures that the model has sufficient data to learn from while also providing a separate dataset for evaluation.\n",
    "* The train_test_split function from scikit-learn was used to perform this split, ensuring reproducibility with a random state of 42.\n",
    "\n"
   ]
  },
  {
   "cell_type": "code",
   "execution_count": 23,
   "id": "7a6a7966-a045-4226-8d75-a96f06573a93",
   "metadata": {},
   "outputs": [],
   "source": [
    "train_user_interation,test_user_interation=train_test_split(df_interactions, test_size=0.2, random_state=42)\n",
    "train_data,test_data = train_test_split(data_frames[\"listening_history\"], test_size=0.2, random_state=42)"
   ]
  },
  {
   "cell_type": "markdown",
   "id": "8de13c70",
   "metadata": {},
   "source": [
    "Now, we will split the data by user, ensuring that users with at least 20 interactions are split into an 80/20 train-test split. Users with fewer interactions have all their data included in the training set. The resulting training and testing data for each user are concatenated into train_user_df and test_user_df."
   ]
  },
  {
   "cell_type": "code",
   "execution_count": 24,
   "id": "f3135001-0517-4bd1-838d-4593e65062ec",
   "metadata": {},
   "outputs": [],
   "source": [
    "\n",
    "user_song_interactions_counts=df_interactions.copy()\n",
    "# Define the minimum sample size threshold\n",
    "min_samples_per_split = 20\n",
    "\n",
    "# Split data by user based on time\n",
    "train_frames_user = []\n",
    "test_frames_user = []\n",
    "\n",
    "for _, group in user_song_interactions_counts.groupby('user'):\n",
    "    if len(group) >= min_samples_per_split:\n",
    "        train_group, test_group = train_test_split(group, test_size=0.2, random_state=42)\n",
    "        train_frames_user.append(train_group)\n",
    "        test_frames_user.append(test_group)\n",
    "    else:\n",
    "        # If the sample size is insufficient, put all data into the training set\n",
    "        train_frames_user.append(group)\n",
    "\n",
    "train_user_df = pd.concat(train_frames_user)\n",
    "test_user_df = pd.concat(test_frames_user)\n"
   ]
  },
  {
   "cell_type": "markdown",
   "id": "a5d5ca30",
   "metadata": {},
   "source": [
    "In the following part, we will perform a similar split as the previous section, but it is based on songs instead of users. Songs with at least 20 interactions are split into training and testing sets, while songs with fewer interactions are entirely added to the training set. The split data is concatenated into train_song_df and test_song_df."
   ]
  },
  {
   "cell_type": "code",
   "execution_count": 26,
   "id": "0190c2b5",
   "metadata": {},
   "outputs": [],
   "source": [
    "\n",
    "# Split data by item (song) based on time\n",
    "train_frames_song = []\n",
    "test_frames_song = []\n",
    "\n",
    "for _, group in user_song_interactions_counts.groupby('song'):\n",
    "    if len(group) >= min_samples_per_split:\n",
    "        train_group, test_group = train_test_split(group, test_size=0.2, random_state=42)\n",
    "        train_frames_song.append(train_group)\n",
    "        test_frames_song.append(test_group)\n",
    "    else:\n",
    "        # If the sample size is insufficient, put all data into the training set\n",
    "        train_frames_song.append(group)\n",
    "\n",
    "train_song_df = pd.concat(train_frames_song)\n",
    "test_song_df = pd.concat(test_frames_song)\n"
   ]
  },
  {
   "cell_type": "markdown",
   "id": "6679d20c",
   "metadata": {},
   "source": [
    "Finally, we will combine the user-based and song-based splits into comprehensive training and testing sets, removing any duplicate entries. It ensures that all users and songs from the testing set are also present in the training set to maintain a robust validation setup. Assertions are used to verify that every user and song in the test set has been encountered in the training set, thus providing complete coverage for modeling and evaluation."
   ]
  },
  {
   "cell_type": "code",
   "execution_count": 27,
   "id": "5494f629",
   "metadata": {},
   "outputs": [],
   "source": [
    "\n",
    "# Combine user and item training and testing sets, and remove duplicates\n",
    "train_dfb = pd.concat([train_user_df, train_song_df]).drop_duplicates()\n",
    "test_dfb = pd.concat([test_user_df, test_song_df]).drop_duplicates()\n",
    "\n",
    "# Ensure all users and items appear in both the training and testing sets\n",
    "train_users = set(train_dfb['user'])\n",
    "test_users = set(test_dfb['user'])\n",
    "train_songs = set(train_dfb['song'])\n",
    "test_songs = set(test_dfb['song'])\n",
    "\n",
    "tes_record = set(test_dfb[['user','song']])\n",
    "trainrecord = set(train_dfb[['user','song']])\n",
    "\n",
    "assert train_users != test_users\n",
    "assert train_users >= test_users\n",
    "assert train_songs >= test_songs"
   ]
  },
  {
   "cell_type": "markdown",
   "id": "71fe0be3-fccc-45cf-ad61-724f25639e96",
   "metadata": {},
   "source": [
    "#### **Mask matrix constructing**\n",
    "\n",
    "The purpose of this code snippet is to create a mask matrix for user-song interactions based on a training DataFrame. This mask matrix will be used to identify and handle known user-song pairs.\n",
    "\n",
    "The follow code will first initialize a matrix filled with ones, representing potential interactions between all users and songs. Then, it retrieves unique user-song combinations from the training data, iterates through them, and updates the matrix by setting the corresponding entries to zero for known interactions, effectively masking them out. Finally, the mask matrix is returned for use in recommendation algorithms.\n"
   ]
  },
  {
   "cell_type": "code",
   "execution_count": 31,
   "id": "146f6e48-df1b-4901-be3b-36d5224bdea1",
   "metadata": {},
   "outputs": [
    {
     "ename": "MemoryError",
     "evalue": "Unable to allocate 11.5 GiB for an array with shape (14127, 109269) and data type float64",
     "output_type": "error",
     "traceback": [
      "\u001b[1;31m---------------------------------------------------------------------------\u001b[0m",
      "\u001b[1;31mMemoryError\u001b[0m                               Traceback (most recent call last)",
      "Cell \u001b[1;32mIn[31], line 20\u001b[0m\n\u001b[0;32m     17\u001b[0m             mask_matrix[user_idx, song_idx] \u001b[38;5;241m=\u001b[39m \u001b[38;5;241m0\u001b[39m\n\u001b[0;32m     19\u001b[0m     \u001b[38;5;28;01mreturn\u001b[39;00m mask_matrix\n\u001b[1;32m---> 20\u001b[0m mask_matrix_cosine\u001b[38;5;241m=\u001b[39m\u001b[43mconstructing_mask_matrix_for_filtering_reccomendation\u001b[49m\u001b[43m(\u001b[49m\u001b[43mtrain_data\u001b[49m\u001b[38;5;241;43m.\u001b[39;49m\u001b[43mcopy\u001b[49m\u001b[43m(\u001b[49m\u001b[43m)\u001b[49m\u001b[43m)\u001b[49m\n\u001b[0;32m     21\u001b[0m mask_matrix_SVD\u001b[38;5;241m=\u001b[39mconstructing_mask_matrix_for_filtering_reccomendation(train_user_interation\u001b[38;5;241m.\u001b[39mcopy())\n",
      "Cell \u001b[1;32mIn[31], line 6\u001b[0m, in \u001b[0;36mconstructing_mask_matrix_for_filtering_reccomendation\u001b[1;34m(train_df)\u001b[0m\n\u001b[0;32m      3\u001b[0m num_songs \u001b[38;5;241m=\u001b[39m \u001b[38;5;28mlen\u001b[39m(song_ids)\n\u001b[0;32m      5\u001b[0m \u001b[38;5;66;03m# Initialize the mask matrix with ones\u001b[39;00m\n\u001b[1;32m----> 6\u001b[0m mask_matrix \u001b[38;5;241m=\u001b[39m \u001b[43mnp\u001b[49m\u001b[38;5;241;43m.\u001b[39;49m\u001b[43mones\u001b[49m\u001b[43m(\u001b[49m\u001b[43m(\u001b[49m\u001b[43mnum_users\u001b[49m\u001b[43m,\u001b[49m\u001b[43m \u001b[49m\u001b[43mnum_songs\u001b[49m\u001b[43m)\u001b[49m\u001b[43m)\u001b[49m\n\u001b[0;32m      8\u001b[0m \u001b[38;5;66;03m# Get unique user-song combinations from train_df\u001b[39;00m\n\u001b[0;32m      9\u001b[0m user_song_combinations \u001b[38;5;241m=\u001b[39m train_df[[\u001b[38;5;124m'\u001b[39m\u001b[38;5;124muser\u001b[39m\u001b[38;5;124m'\u001b[39m, \u001b[38;5;124m'\u001b[39m\u001b[38;5;124msong\u001b[39m\u001b[38;5;124m'\u001b[39m]]\u001b[38;5;241m.\u001b[39mdrop_duplicates()\u001b[38;5;241m.\u001b[39mreset_index(drop\u001b[38;5;241m=\u001b[39m\u001b[38;5;28;01mTrue\u001b[39;00m)\n",
      "File \u001b[1;32m~\\AppData\\Local\\Packages\\PythonSoftwareFoundation.Python.3.11_qbz5n2kfra8p0\\LocalCache\\local-packages\\Python311\\site-packages\\numpy\\core\\numeric.py:191\u001b[0m, in \u001b[0;36mones\u001b[1;34m(shape, dtype, order, like)\u001b[0m\n\u001b[0;32m    188\u001b[0m \u001b[38;5;28;01mif\u001b[39;00m like \u001b[38;5;129;01mis\u001b[39;00m \u001b[38;5;129;01mnot\u001b[39;00m \u001b[38;5;28;01mNone\u001b[39;00m:\n\u001b[0;32m    189\u001b[0m     \u001b[38;5;28;01mreturn\u001b[39;00m _ones_with_like(like, shape, dtype\u001b[38;5;241m=\u001b[39mdtype, order\u001b[38;5;241m=\u001b[39morder)\n\u001b[1;32m--> 191\u001b[0m a \u001b[38;5;241m=\u001b[39m empty(shape, dtype, order)\n\u001b[0;32m    192\u001b[0m multiarray\u001b[38;5;241m.\u001b[39mcopyto(a, \u001b[38;5;241m1\u001b[39m, casting\u001b[38;5;241m=\u001b[39m\u001b[38;5;124m'\u001b[39m\u001b[38;5;124munsafe\u001b[39m\u001b[38;5;124m'\u001b[39m)\n\u001b[0;32m    193\u001b[0m \u001b[38;5;28;01mreturn\u001b[39;00m a\n",
      "\u001b[1;31mMemoryError\u001b[0m: Unable to allocate 11.5 GiB for an array with shape (14127, 109269) and data type float64"
     ]
    }
   ],
   "source": [
    "def constructing_mask_matrix_for_filtering_reccomendation(train_df):\n",
    "    num_users = len(user_ids)\n",
    "    num_songs = len(song_ids)\n",
    "    \n",
    "    # Initialize the mask matrix with ones\n",
    "    mask_matrix = np.ones((num_users, num_songs))\n",
    "    \n",
    "    # Get unique user-song combinations from train_df\n",
    "    user_song_combinations = train_df[['user', 'song']].drop_duplicates().reset_index(drop=True)\n",
    "    user_song_tuples = list(user_song_combinations.itertuples(index=False, name=None))\n",
    "    \n",
    "    # Update the mask matrix based on user-song interactions\n",
    "    for user, song in user_song_tuples:\n",
    "        if user in user_to_index and song in song_to_index:\n",
    "            user_idx = user_to_index[user]\n",
    "            song_idx = song_to_index[song]\n",
    "            mask_matrix[user_idx, song_idx] = 0\n",
    "    \n",
    "    return mask_matrix\n",
    "mask_matrix_cosine=constructing_mask_matrix_for_filtering_reccomendation(train_data.copy())\n",
    "mask_matrix_SVD=constructing_mask_matrix_for_filtering_reccomendation(train_user_interation.copy())"
   ]
  },
  {
   "cell_type": "markdown",
   "id": "e204e354-3bb3-4a62-85ac-009efe80a27a",
   "metadata": {},
   "source": [
    "#### **Constructing User Profiles**\n",
    "This function constructs user profiles by aggregating their interactions with songs, creating a vector representation of their preferences.\n",
    "\n",
    "Firstly, the code iterates over the train_df DataFrame, creating a list of song indices for each user based on the interactions and mapping these indices using song_to_index. The function returns a dictionary of users with their corresponding song indices, forming a vector representation of their preferences."
   ]
  },
  {
   "cell_type": "code",
   "execution_count": 32,
   "id": "7d82ba9e-f554-40e2-ada9-3dbce8a5a050",
   "metadata": {},
   "outputs": [],
   "source": [
    "def user_profile_initilizing(train_df):\n",
    "    users = defaultdict(list)\n",
    "    for i in  user_ids:\n",
    "        users[i]=[]\n",
    "    for row in train_df.itertuples(index=False):\n",
    "        user = row.user\n",
    "        song = row.song\n",
    "        users[user].append(song_to_index[song])\n",
    "    return users\n",
    "users_CB=user_profile_initilizing(train_data.copy())\n"
   ]
  },
  {
   "cell_type": "markdown",
   "id": "5e146361",
   "metadata": {},
   "source": [
    "#### **Constructing User Profiles Function**\n",
    "After creating user profiles, we will implement functions for each user profiles by summing up the features of the songs each user has interacted with using a threshold to filter out less significant interactions. It initializes a dictionary to store user profiles and converts the item feature DataFrame to a NumPy array for efficient calculations. For each user, it aggregates features of frequently interacted items, calculates an average feature vector, and stores it in the user profile dictionary, using zero vectors for users with no interactions above the threshold."
   ]
  },
  {
   "cell_type": "code",
   "execution_count": 33,
   "id": "68ae3bc1-75fb-43ef-a247-14d9985794d6",
   "metadata": {},
   "outputs": [],
   "source": [
    "def constructing_user_profile(users, combined_df,user_profile_threshold):\n",
    "    \"\"\"\n",
    "    Construct user profiles by averaging the features of the items they have interacted with,\n",
    "    while filtering items that appear more than once and keeping their frequency.\n",
    "    \n",
    "    Parameters:\n",
    "    users (dict): Dictionary where keys are user IDs and values are lists of row indices in combined_df.\n",
    "    combined_df (pd.DataFrame): DataFrame containing item features.\n",
    "    \n",
    "    Returns:\n",
    "    dict: Dictionary where keys are user IDs and values are average feature vectors.\n",
    "    \"\"\"\n",
    "    # Initialize an empty dictionary to store user profiles\n",
    "    users_profile = {}\n",
    "    \n",
    "    # Convert combined_df to a numpy array for faster operations\n",
    "    combined_df_array = combined_df.values\n",
    "    num_features = combined_df_array.shape[1]  # Automatically get the number of features from the array\n",
    "    \n",
    "    # Process each user\n",
    "    for user_id, row_indices in users.items():\n",
    "        if row_indices:\n",
    "            # Filter numbers that appear more than once and keep their frequency\n",
    "            counter = Counter(row_indices)\n",
    "            filtered_numbers = [(num, count) for num, count in counter.items() if count > user_profile_threshold]\n",
    "            \n",
    "            if filtered_numbers:\n",
    "                # Extract the indices and counts\n",
    "                indices, counts = zip(*filtered_numbers)\n",
    "                # Sum the rows corresponding to the current user's indices\n",
    "                aggregated_row = np.sum(combined_df_array[np.array(indices)] * np.array(counts).reshape(-1, 1), axis=0)\n",
    "                # Calculate the average by dividing by the total counts\n",
    "                average_row = aggregated_row / np.sum(counts)\n",
    "                users_profile[user_id] = average_row\n",
    "            else:\n",
    "                users_profile[user_id] = np.zeros(num_features)\n",
    "        else:\n",
    "            users_profile[user_id] = np.zeros(num_features)\n",
    "    \n",
    "    return users_profile"
   ]
  },
  {
   "cell_type": "markdown",
   "id": "42b1a07d",
   "metadata": {},
   "source": [
    "Now, we will call the ```constructing_user_profile``` function, passing in the users dictionary and combined_df DataFrame to generate a dictionary of user profiles, where each user's profile is a vector of aggregated song features they have interacted with.Then we will iterate over each user's profile in the users_profile dictionary, reshaping each profile vector into a 2D array with a single row."
   ]
  },
  {
   "cell_type": "code",
   "execution_count": 34,
   "id": "acee075b-03fe-449d-b2e9-00913df16cc1",
   "metadata": {},
   "outputs": [
    {
     "ename": "MemoryError",
     "evalue": "Unable to allocate 16.6 GiB for an array with shape (20416, 109269) and data type float64",
     "output_type": "error",
     "traceback": [
      "\u001b[1;31m---------------------------------------------------------------------------\u001b[0m",
      "\u001b[1;31mMemoryError\u001b[0m                               Traceback (most recent call last)",
      "Cell \u001b[1;32mIn[34], line 1\u001b[0m\n\u001b[1;32m----> 1\u001b[0m users_profile\u001b[38;5;241m=\u001b[39m\u001b[43mconstructing_user_profile\u001b[49m\u001b[43m(\u001b[49m\u001b[43musers_CB\u001b[49m\u001b[43m,\u001b[49m\u001b[43mcombined_df\u001b[49m\u001b[43m,\u001b[49m\u001b[43muser_profile_threshold\u001b[49m\u001b[43m)\u001b[49m\n\u001b[0;32m      2\u001b[0m \u001b[38;5;28;01mfor\u001b[39;00m i \u001b[38;5;129;01min\u001b[39;00m users_profile:\n\u001b[0;32m      3\u001b[0m     users_profile[i] \u001b[38;5;241m=\u001b[39musers_profile[i]\u001b[38;5;241m.\u001b[39mreshape(\u001b[38;5;241m1\u001b[39m, \u001b[38;5;241m-\u001b[39m\u001b[38;5;241m1\u001b[39m)\n",
      "Cell \u001b[1;32mIn[33], line 17\u001b[0m, in \u001b[0;36mconstructing_user_profile\u001b[1;34m(users, combined_df, user_profile_threshold)\u001b[0m\n\u001b[0;32m     14\u001b[0m users_profile \u001b[38;5;241m=\u001b[39m {}\n\u001b[0;32m     16\u001b[0m \u001b[38;5;66;03m# Convert combined_df to a numpy array for faster operations\u001b[39;00m\n\u001b[1;32m---> 17\u001b[0m combined_df_array \u001b[38;5;241m=\u001b[39m \u001b[43mcombined_df\u001b[49m\u001b[38;5;241;43m.\u001b[39;49m\u001b[43mvalues\u001b[49m\n\u001b[0;32m     18\u001b[0m num_features \u001b[38;5;241m=\u001b[39m combined_df_array\u001b[38;5;241m.\u001b[39mshape[\u001b[38;5;241m1\u001b[39m]  \u001b[38;5;66;03m# Automatically get the number of features from the array\u001b[39;00m\n\u001b[0;32m     20\u001b[0m \u001b[38;5;66;03m# Process each user\u001b[39;00m\n",
      "File \u001b[1;32m~\\AppData\\Local\\Packages\\PythonSoftwareFoundation.Python.3.11_qbz5n2kfra8p0\\LocalCache\\local-packages\\Python311\\site-packages\\pandas\\core\\frame.py:12664\u001b[0m, in \u001b[0;36mDataFrame.values\u001b[1;34m(self)\u001b[0m\n\u001b[0;32m  12590\u001b[0m \u001b[38;5;129m@property\u001b[39m\n\u001b[0;32m  12591\u001b[0m \u001b[38;5;28;01mdef\u001b[39;00m \u001b[38;5;21mvalues\u001b[39m(\u001b[38;5;28mself\u001b[39m) \u001b[38;5;241m-\u001b[39m\u001b[38;5;241m>\u001b[39m np\u001b[38;5;241m.\u001b[39mndarray:\n\u001b[0;32m  12592\u001b[0m \u001b[38;5;250m    \u001b[39m\u001b[38;5;124;03m\"\"\"\u001b[39;00m\n\u001b[0;32m  12593\u001b[0m \u001b[38;5;124;03m    Return a Numpy representation of the DataFrame.\u001b[39;00m\n\u001b[0;32m  12594\u001b[0m \n\u001b[1;32m   (...)\u001b[0m\n\u001b[0;32m  12662\u001b[0m \u001b[38;5;124;03m           ['monkey', nan, None]], dtype=object)\u001b[39;00m\n\u001b[0;32m  12663\u001b[0m \u001b[38;5;124;03m    \"\"\"\u001b[39;00m\n\u001b[1;32m> 12664\u001b[0m     \u001b[38;5;28;01mreturn\u001b[39;00m \u001b[38;5;28;43mself\u001b[39;49m\u001b[38;5;241;43m.\u001b[39;49m\u001b[43m_mgr\u001b[49m\u001b[38;5;241;43m.\u001b[39;49m\u001b[43mas_array\u001b[49m\u001b[43m(\u001b[49m\u001b[43m)\u001b[49m\n",
      "File \u001b[1;32m~\\AppData\\Local\\Packages\\PythonSoftwareFoundation.Python.3.11_qbz5n2kfra8p0\\LocalCache\\local-packages\\Python311\\site-packages\\pandas\\core\\internals\\managers.py:1694\u001b[0m, in \u001b[0;36mBlockManager.as_array\u001b[1;34m(self, dtype, copy, na_value)\u001b[0m\n\u001b[0;32m   1692\u001b[0m         arr\u001b[38;5;241m.\u001b[39mflags\u001b[38;5;241m.\u001b[39mwriteable \u001b[38;5;241m=\u001b[39m \u001b[38;5;28;01mFalse\u001b[39;00m\n\u001b[0;32m   1693\u001b[0m \u001b[38;5;28;01melse\u001b[39;00m:\n\u001b[1;32m-> 1694\u001b[0m     arr \u001b[38;5;241m=\u001b[39m \u001b[38;5;28;43mself\u001b[39;49m\u001b[38;5;241;43m.\u001b[39;49m\u001b[43m_interleave\u001b[49m\u001b[43m(\u001b[49m\u001b[43mdtype\u001b[49m\u001b[38;5;241;43m=\u001b[39;49m\u001b[43mdtype\u001b[49m\u001b[43m,\u001b[49m\u001b[43m \u001b[49m\u001b[43mna_value\u001b[49m\u001b[38;5;241;43m=\u001b[39;49m\u001b[43mna_value\u001b[49m\u001b[43m)\u001b[49m\n\u001b[0;32m   1695\u001b[0m     \u001b[38;5;66;03m# The underlying data was copied within _interleave, so no need\u001b[39;00m\n\u001b[0;32m   1696\u001b[0m     \u001b[38;5;66;03m# to further copy if copy=True or setting na_value\u001b[39;00m\n\u001b[0;32m   1698\u001b[0m \u001b[38;5;28;01mif\u001b[39;00m na_value \u001b[38;5;129;01mis\u001b[39;00m lib\u001b[38;5;241m.\u001b[39mno_default:\n",
      "File \u001b[1;32m~\\AppData\\Local\\Packages\\PythonSoftwareFoundation.Python.3.11_qbz5n2kfra8p0\\LocalCache\\local-packages\\Python311\\site-packages\\pandas\\core\\internals\\managers.py:1727\u001b[0m, in \u001b[0;36mBlockManager._interleave\u001b[1;34m(self, dtype, na_value)\u001b[0m\n\u001b[0;32m   1724\u001b[0m \u001b[38;5;66;03m# error: Argument 1 to \"ensure_np_dtype\" has incompatible type\u001b[39;00m\n\u001b[0;32m   1725\u001b[0m \u001b[38;5;66;03m# \"Optional[dtype[Any]]\"; expected \"Union[dtype[Any], ExtensionDtype]\"\u001b[39;00m\n\u001b[0;32m   1726\u001b[0m dtype \u001b[38;5;241m=\u001b[39m ensure_np_dtype(dtype)  \u001b[38;5;66;03m# type: ignore[arg-type]\u001b[39;00m\n\u001b[1;32m-> 1727\u001b[0m result \u001b[38;5;241m=\u001b[39m np\u001b[38;5;241m.\u001b[39mempty(\u001b[38;5;28mself\u001b[39m\u001b[38;5;241m.\u001b[39mshape, dtype\u001b[38;5;241m=\u001b[39mdtype)\n\u001b[0;32m   1729\u001b[0m itemmask \u001b[38;5;241m=\u001b[39m np\u001b[38;5;241m.\u001b[39mzeros(\u001b[38;5;28mself\u001b[39m\u001b[38;5;241m.\u001b[39mshape[\u001b[38;5;241m0\u001b[39m])\n\u001b[0;32m   1731\u001b[0m \u001b[38;5;28;01mif\u001b[39;00m dtype \u001b[38;5;241m==\u001b[39m np\u001b[38;5;241m.\u001b[39mdtype(\u001b[38;5;124m\"\u001b[39m\u001b[38;5;124mobject\u001b[39m\u001b[38;5;124m\"\u001b[39m) \u001b[38;5;129;01mand\u001b[39;00m na_value \u001b[38;5;129;01mis\u001b[39;00m lib\u001b[38;5;241m.\u001b[39mno_default:\n\u001b[0;32m   1732\u001b[0m     \u001b[38;5;66;03m# much more performant than using to_numpy below\u001b[39;00m\n",
      "\u001b[1;31mMemoryError\u001b[0m: Unable to allocate 16.6 GiB for an array with shape (20416, 109269) and data type float64"
     ]
    }
   ],
   "source": [
    "users_profile=constructing_user_profile(users_CB,combined_df,user_profile_threshold)\n",
    "for i in users_profile:\n",
    "    users_profile[i] =users_profile[i].reshape(1, -1)"
   ]
  },
  {
   "cell_type": "markdown",
   "id": "7e546790",
   "metadata": {},
   "source": [
    "#### **Calculating Similarity Matrices**\n",
    "This section calculates the similarity matrices for user-user and user-song using cosine similarity. \n",
    "\n",
    "\n",
    "As shown in the following code snippet, by flattening each user's profile vector and storing it in a NumPy array, we will construct a matrix of user profiles . Then we calculate the user-user similarity matrix using cosine similarity, which measures the similarity between users based on their profile vectors."
   ]
  },
  {
   "cell_type": "code",
   "execution_count": 35,
   "id": "7018d1b3-adf5-4b41-a1e1-0dfc8840dc45",
   "metadata": {},
   "outputs": [
    {
     "ename": "NameError",
     "evalue": "name 'users_profile' is not defined",
     "output_type": "error",
     "traceback": [
      "\u001b[1;31m---------------------------------------------------------------------------\u001b[0m",
      "\u001b[1;31mNameError\u001b[0m                                 Traceback (most recent call last)",
      "Cell \u001b[1;32mIn[35], line 1\u001b[0m\n\u001b[1;32m----> 1\u001b[0m profiles_matrix_user_song \u001b[38;5;241m=\u001b[39m np\u001b[38;5;241m.\u001b[39marray(\u001b[43m[\u001b[49m\u001b[43musers_profile\u001b[49m\u001b[43m[\u001b[49m\u001b[43muser_id\u001b[49m\u001b[43m]\u001b[49m\u001b[38;5;241;43m.\u001b[39;49m\u001b[43mflatten\u001b[49m\u001b[43m(\u001b[49m\u001b[43m)\u001b[49m\u001b[43m \u001b[49m\u001b[38;5;28;43;01mfor\u001b[39;49;00m\u001b[43m \u001b[49m\u001b[43muser_id\u001b[49m\u001b[43m \u001b[49m\u001b[38;5;129;43;01min\u001b[39;49;00m\u001b[43m \u001b[49m\u001b[43muser_ids\u001b[49m\u001b[43m]\u001b[49m)\n\u001b[0;32m      2\u001b[0m scaled_matrix_user_song \u001b[38;5;241m=\u001b[39m combined_df\u001b[38;5;241m.\u001b[39mto_numpy()\n\u001b[0;32m      3\u001b[0m cosine_score_matrix \u001b[38;5;241m=\u001b[39m cosine_similarity(profiles_matrix_user_song, scaled_matrix_user_song)\n",
      "Cell \u001b[1;32mIn[35], line 1\u001b[0m, in \u001b[0;36m<listcomp>\u001b[1;34m(.0)\u001b[0m\n\u001b[1;32m----> 1\u001b[0m profiles_matrix_user_song \u001b[38;5;241m=\u001b[39m np\u001b[38;5;241m.\u001b[39marray([\u001b[43musers_profile\u001b[49m[user_id]\u001b[38;5;241m.\u001b[39mflatten() \u001b[38;5;28;01mfor\u001b[39;00m user_id \u001b[38;5;129;01min\u001b[39;00m user_ids])\n\u001b[0;32m      2\u001b[0m scaled_matrix_user_song \u001b[38;5;241m=\u001b[39m combined_df\u001b[38;5;241m.\u001b[39mto_numpy()\n\u001b[0;32m      3\u001b[0m cosine_score_matrix \u001b[38;5;241m=\u001b[39m cosine_similarity(profiles_matrix_user_song, scaled_matrix_user_song)\n",
      "\u001b[1;31mNameError\u001b[0m: name 'users_profile' is not defined"
     ]
    }
   ],
   "source": [
    "profiles_matrix_user_song = np.array([users_profile[user_id].flatten() for user_id in user_ids])\n",
    "scaled_matrix_user_song = combined_df.to_numpy()\n",
    "cosine_score_matrix = cosine_similarity(profiles_matrix_user_song, scaled_matrix_user_song)"
   ]
  },
  {
   "cell_type": "markdown",
   "id": "e9415cdc",
   "metadata": {},
   "source": [
    "#### **Getting Top N Values and Indices**\n",
    "This function retrieves the top N values and their corresponding indices for each row in a similarity matrix, which is used to find the most similar items."
   ]
  },
  {
   "cell_type": "code",
   "execution_count": 42,
   "id": "5bc94dba-ad7d-4d26-aaf2-7ca52b87c4b5",
   "metadata": {},
   "outputs": [],
   "source": [
    "def get_top_n_values_and_indices(score_matrix, n):\n",
    "    \"\"\"\n",
    "    Get the top N values and their corresponding indices for each row in a similarity matrix.\n",
    "\n",
    "    Parameters:\n",
    "    similarity_matrix (np.ndarray): The similarity matrix (2D array).\n",
    "    n (int): The number of top values and indices to return. Default is 30.\n",
    "\n",
    "    Returns:\n",
    "    list: A list of tuples, each containing two arrays:\n",
    "          - top N sorted values for each row\n",
    "          - corresponding indices of these top N values\n",
    "    \"\"\"\n",
    "    top_n_values_and_indices = []\n",
    "\n",
    "    # Iterate over each row\n",
    "    for row in score_matrix:\n",
    "        # Get the indices of the top N values\n",
    "        top_n_indices = np.argpartition(row, -n)[-n:]\n",
    "        # Get the top N values using the indices\n",
    "        top_n_values = row[top_n_indices]\n",
    "        # Sort the top N values and their indices\n",
    "        sorted_indices = top_n_indices[np.argsort(-top_n_values)]\n",
    "        sorted_values = row[sorted_indices]\n",
    "        # Store the sorted values and indices\n",
    "        top_n_values_and_indices.append((sorted_values, sorted_indices))\n",
    "\n",
    "    return top_n_values_and_indices\n"
   ]
  },
  {
   "cell_type": "markdown",
   "id": "b102fae3",
   "metadata": {},
   "source": [
    "#### **Generating Relevant Items for Users**\n",
    "This function generates a dictionary of relevant items for each user based on their listening history."
   ]
  },
  {
   "cell_type": "code",
   "execution_count": 37,
   "id": "d322d15e-4e4a-4aec-8054-61fcf5f3f65d",
   "metadata": {},
   "outputs": [],
   "source": [
    "def generate_relevant_items(df, frequency_threshold, song_to_index):\n",
    "    # Group by user and song, then count occurrences\n",
    "    song_frequency = df.groupby(['user', 'song']).size().reset_index(name='frequency')\n",
    "    \n",
    "    # Filter songs by the frequency threshold\n",
    "    filtered_songs = song_frequency[song_frequency['frequency'] >= frequency_threshold]\n",
    "    \n",
    "    # Sort the songs by frequency for each user\n",
    "    filtered_songs = filtered_songs.sort_values(by=['user', 'frequency'], ascending=[True, False])\n",
    "    \n",
    "    # Create a dictionary to store the list of song indices for each user\n",
    "    user_song_dict = filtered_songs.groupby('user').apply(\n",
    "        lambda x: [song_to_index[song] for song in x['song']]\n",
    "    ).to_dict()\n",
    "    \n",
    "    return user_song_dict"
   ]
  },
  {
   "cell_type": "markdown",
   "id": "67164792",
   "metadata": {},
   "source": [
    "### <b>Collaborative-Filtering</b>"
   ]
  },
  {
   "cell_type": "markdown",
   "id": "3604233f",
   "metadata": {},
   "source": [
    "* <b>Type: Collaborative Filtering</b>\n",
    "* <b>Method:</b> Predicts user preferences based on interactions and preferences of similar users.\n",
    "    * <b>Item-Based Collaborative Filtering:</b> Predicts user preferences by considering the ratings of the most similar songs.\n",
    "    \n",
    "    * <b>User-Based Collaborative Filtering:</b> Predicts preferences using ratings from the most similar users.\n",
    "    * <b>Preference Score Calculation:</b> Incorporates the number of plays and listening duration.\n",
    "* <b>Parameters:</b> Number of similar users (N) and songs (N) used for averaging are to be validated.\n",
    "* <b>Library:</b> Implemented using scikit-learn.\n",
    "\n",
    "* <b>Implementation Details:</b>\n",
    "    * <b>Data Collection:</b> Utilized the Music4All database containing metadata, tags, genres, listening history, and audio features.\n",
    "    \n",
    "    * <b>User and Item Vectors:</b> Computed feature vectors for all users and songs.\n",
    "    * <b>Preference Score Calculation: Factored in the number of plays and listening duration for each song.\n",
    "    * <b>Recommendation:</b> The system recommends 30 songs daily based on predicted preferences from collaborative filtering."
   ]
  },
  {
   "cell_type": "markdown",
   "id": "db4ec5c5-98c6-4359-8d0a-e40fe67f02d9",
   "metadata": {},
   "source": [
    "### Different Ways of Recommending\n",
    "\n",
    "#### A. Based on User Similarity Metrics\n",
    "\n",
    "In this approach, recommendations are made by finding users similar to the target user and suggesting items that those similar users have interacted with.\n",
    "\n",
    "\n",
    "Firstly, we are going to initialize mappings for users and songs to integer indices by facilitating efficient matrix operations. we will then create a sparse matrix representation (csr_matrix) of user-song interactions using the mapped indices and ratings from the training data. This sparse matrix format helps efficiently store and compute similarity scores for large datasets."
   ]
  },
  {
   "cell_type": "code",
   "execution_count": 1,
   "id": "99773fb8",
   "metadata": {},
   "outputs": [
    {
     "ename": "NameError",
     "evalue": "name 'train_user_interation' is not defined",
     "output_type": "error",
     "traceback": [
      "\u001b[1;31m---------------------------------------------------------------------------\u001b[0m",
      "\u001b[1;31mNameError\u001b[0m                                 Traceback (most recent call last)",
      "Cell \u001b[1;32mIn[1], line 1\u001b[0m\n\u001b[1;32m----> 1\u001b[0m train_df \u001b[38;5;241m=\u001b[39m \u001b[43mtrain_user_interation\u001b[49m[:]\n\u001b[0;32m      3\u001b[0m user_index \u001b[38;5;241m=\u001b[39m {user: idx \u001b[38;5;28;01mfor\u001b[39;00m idx, user \u001b[38;5;129;01min\u001b[39;00m \u001b[38;5;28menumerate\u001b[39m(user_ids)}\n\u001b[0;32m      4\u001b[0m song_index \u001b[38;5;241m=\u001b[39m {song: idx \u001b[38;5;28;01mfor\u001b[39;00m idx, song \u001b[38;5;129;01min\u001b[39;00m \u001b[38;5;28menumerate\u001b[39m(song_ids)}\n",
      "\u001b[1;31mNameError\u001b[0m: name 'train_user_interation' is not defined"
     ]
    }
   ],
   "source": [
    "\n",
    "\n",
    "train_df = train_user_interation[:]\n",
    "\n",
    "user_index = {user: idx for idx, user in enumerate(user_ids)}\n",
    "song_index = {song: idx for idx, song in enumerate(song_ids)}\n",
    "\n",
    "train_df['user_idx'] = train_df['user'].map(user_index)\n",
    "train_df['song_idx'] = train_df['song'].map(song_index)\n",
    "\n",
    "row = train_df['user_idx'].values\n",
    "col = train_df['song_idx'].values\n",
    "data = train_df['rating'].values\n",
    "\n",
    "user_song_matrix_sparse = csr_matrix((data, (row, col)), shape=(len(user_ids), len(song_index)))"
   ]
  },
  {
   "cell_type": "markdown",
   "id": "fe366ddf",
   "metadata": {},
   "source": [
    "Afterwards, we will calculate the cosine similarity between user vectors in the sparse user-song matrix. This results in a user-user similarity matrix that quantifies how similar each user is to others based on their song interactions and ratings."
   ]
  },
  {
   "cell_type": "code",
   "execution_count": 39,
   "id": "1ba0d3f2",
   "metadata": {},
   "outputs": [
    {
     "ename": "MemoryError",
     "evalue": "Unable to allocate 463. MiB for an array with shape (121378927,) and data type int32",
     "output_type": "error",
     "traceback": [
      "\u001b[1;31m---------------------------------------------------------------------------\u001b[0m",
      "\u001b[1;31mMemoryError\u001b[0m                               Traceback (most recent call last)",
      "Cell \u001b[1;32mIn[39], line 1\u001b[0m\n\u001b[1;32m----> 1\u001b[0m user_similarity \u001b[38;5;241m=\u001b[39m \u001b[43mcosine_similarity\u001b[49m\u001b[43m(\u001b[49m\u001b[43muser_song_matrix_sparse\u001b[49m\u001b[43m)\u001b[49m\n",
      "File \u001b[1;32m~\\AppData\\Local\\Packages\\PythonSoftwareFoundation.Python.3.11_qbz5n2kfra8p0\\LocalCache\\local-packages\\Python311\\site-packages\\sklearn\\utils\\_param_validation.py:213\u001b[0m, in \u001b[0;36mvalidate_params.<locals>.decorator.<locals>.wrapper\u001b[1;34m(*args, **kwargs)\u001b[0m\n\u001b[0;32m    207\u001b[0m \u001b[38;5;28;01mtry\u001b[39;00m:\n\u001b[0;32m    208\u001b[0m     \u001b[38;5;28;01mwith\u001b[39;00m config_context(\n\u001b[0;32m    209\u001b[0m         skip_parameter_validation\u001b[38;5;241m=\u001b[39m(\n\u001b[0;32m    210\u001b[0m             prefer_skip_nested_validation \u001b[38;5;129;01mor\u001b[39;00m global_skip_validation\n\u001b[0;32m    211\u001b[0m         )\n\u001b[0;32m    212\u001b[0m     ):\n\u001b[1;32m--> 213\u001b[0m         \u001b[38;5;28;01mreturn\u001b[39;00m \u001b[43mfunc\u001b[49m\u001b[43m(\u001b[49m\u001b[38;5;241;43m*\u001b[39;49m\u001b[43margs\u001b[49m\u001b[43m,\u001b[49m\u001b[43m \u001b[49m\u001b[38;5;241;43m*\u001b[39;49m\u001b[38;5;241;43m*\u001b[39;49m\u001b[43mkwargs\u001b[49m\u001b[43m)\u001b[49m\n\u001b[0;32m    214\u001b[0m \u001b[38;5;28;01mexcept\u001b[39;00m InvalidParameterError \u001b[38;5;28;01mas\u001b[39;00m e:\n\u001b[0;32m    215\u001b[0m     \u001b[38;5;66;03m# When the function is just a wrapper around an estimator, we allow\u001b[39;00m\n\u001b[0;32m    216\u001b[0m     \u001b[38;5;66;03m# the function to delegate validation to the estimator, but we replace\u001b[39;00m\n\u001b[0;32m    217\u001b[0m     \u001b[38;5;66;03m# the name of the estimator by the name of the function in the error\u001b[39;00m\n\u001b[0;32m    218\u001b[0m     \u001b[38;5;66;03m# message to avoid confusion.\u001b[39;00m\n\u001b[0;32m    219\u001b[0m     msg \u001b[38;5;241m=\u001b[39m re\u001b[38;5;241m.\u001b[39msub(\n\u001b[0;32m    220\u001b[0m         \u001b[38;5;124mr\u001b[39m\u001b[38;5;124m\"\u001b[39m\u001b[38;5;124mparameter of \u001b[39m\u001b[38;5;124m\\\u001b[39m\u001b[38;5;124mw+ must be\u001b[39m\u001b[38;5;124m\"\u001b[39m,\n\u001b[0;32m    221\u001b[0m         \u001b[38;5;124mf\u001b[39m\u001b[38;5;124m\"\u001b[39m\u001b[38;5;124mparameter of \u001b[39m\u001b[38;5;132;01m{\u001b[39;00mfunc\u001b[38;5;241m.\u001b[39m\u001b[38;5;18m__qualname__\u001b[39m\u001b[38;5;132;01m}\u001b[39;00m\u001b[38;5;124m must be\u001b[39m\u001b[38;5;124m\"\u001b[39m,\n\u001b[0;32m    222\u001b[0m         \u001b[38;5;28mstr\u001b[39m(e),\n\u001b[0;32m    223\u001b[0m     )\n",
      "File \u001b[1;32m~\\AppData\\Local\\Packages\\PythonSoftwareFoundation.Python.3.11_qbz5n2kfra8p0\\LocalCache\\local-packages\\Python311\\site-packages\\sklearn\\metrics\\pairwise.py:1676\u001b[0m, in \u001b[0;36mcosine_similarity\u001b[1;34m(X, Y, dense_output)\u001b[0m\n\u001b[0;32m   1673\u001b[0m \u001b[38;5;28;01melse\u001b[39;00m:\n\u001b[0;32m   1674\u001b[0m     Y_normalized \u001b[38;5;241m=\u001b[39m normalize(Y, copy\u001b[38;5;241m=\u001b[39m\u001b[38;5;28;01mTrue\u001b[39;00m)\n\u001b[1;32m-> 1676\u001b[0m K \u001b[38;5;241m=\u001b[39m \u001b[43msafe_sparse_dot\u001b[49m\u001b[43m(\u001b[49m\u001b[43mX_normalized\u001b[49m\u001b[43m,\u001b[49m\u001b[43m \u001b[49m\u001b[43mY_normalized\u001b[49m\u001b[38;5;241;43m.\u001b[39;49m\u001b[43mT\u001b[49m\u001b[43m,\u001b[49m\u001b[43m \u001b[49m\u001b[43mdense_output\u001b[49m\u001b[38;5;241;43m=\u001b[39;49m\u001b[43mdense_output\u001b[49m\u001b[43m)\u001b[49m\n\u001b[0;32m   1678\u001b[0m \u001b[38;5;28;01mreturn\u001b[39;00m K\n",
      "File \u001b[1;32m~\\AppData\\Local\\Packages\\PythonSoftwareFoundation.Python.3.11_qbz5n2kfra8p0\\LocalCache\\local-packages\\Python311\\site-packages\\sklearn\\utils\\extmath.py:208\u001b[0m, in \u001b[0;36msafe_sparse_dot\u001b[1;34m(a, b, dense_output)\u001b[0m\n\u001b[0;32m    206\u001b[0m         ret \u001b[38;5;241m=\u001b[39m np\u001b[38;5;241m.\u001b[39mdot(a, b)\n\u001b[0;32m    207\u001b[0m \u001b[38;5;28;01melse\u001b[39;00m:\n\u001b[1;32m--> 208\u001b[0m     ret \u001b[38;5;241m=\u001b[39m \u001b[43ma\u001b[49m\u001b[43m \u001b[49m\u001b[38;5;241;43m@\u001b[39;49m\u001b[43m \u001b[49m\u001b[43mb\u001b[49m\n\u001b[0;32m    210\u001b[0m \u001b[38;5;28;01mif\u001b[39;00m (\n\u001b[0;32m    211\u001b[0m     sparse\u001b[38;5;241m.\u001b[39missparse(a)\n\u001b[0;32m    212\u001b[0m     \u001b[38;5;129;01mand\u001b[39;00m sparse\u001b[38;5;241m.\u001b[39missparse(b)\n\u001b[0;32m    213\u001b[0m     \u001b[38;5;129;01mand\u001b[39;00m dense_output\n\u001b[0;32m    214\u001b[0m     \u001b[38;5;129;01mand\u001b[39;00m \u001b[38;5;28mhasattr\u001b[39m(ret, \u001b[38;5;124m\"\u001b[39m\u001b[38;5;124mtoarray\u001b[39m\u001b[38;5;124m\"\u001b[39m)\n\u001b[0;32m    215\u001b[0m ):\n\u001b[0;32m    216\u001b[0m     \u001b[38;5;28;01mreturn\u001b[39;00m ret\u001b[38;5;241m.\u001b[39mtoarray()\n",
      "File \u001b[1;32m~\\AppData\\Local\\Packages\\PythonSoftwareFoundation.Python.3.11_qbz5n2kfra8p0\\LocalCache\\local-packages\\Python311\\site-packages\\scipy\\sparse\\_base.py:695\u001b[0m, in \u001b[0;36m_spbase.__matmul__\u001b[1;34m(self, other)\u001b[0m\n\u001b[0;32m    692\u001b[0m \u001b[38;5;28;01mif\u001b[39;00m isscalarlike(other):\n\u001b[0;32m    693\u001b[0m     \u001b[38;5;28;01mraise\u001b[39;00m \u001b[38;5;167;01mValueError\u001b[39;00m(\u001b[38;5;124m\"\u001b[39m\u001b[38;5;124mScalar operands are not allowed, \u001b[39m\u001b[38;5;124m\"\u001b[39m\n\u001b[0;32m    694\u001b[0m                      \u001b[38;5;124m\"\u001b[39m\u001b[38;5;124muse \u001b[39m\u001b[38;5;124m'\u001b[39m\u001b[38;5;124m*\u001b[39m\u001b[38;5;124m'\u001b[39m\u001b[38;5;124m instead\u001b[39m\u001b[38;5;124m\"\u001b[39m)\n\u001b[1;32m--> 695\u001b[0m \u001b[38;5;28;01mreturn\u001b[39;00m \u001b[38;5;28;43mself\u001b[39;49m\u001b[38;5;241;43m.\u001b[39;49m\u001b[43m_matmul_dispatch\u001b[49m\u001b[43m(\u001b[49m\u001b[43mother\u001b[49m\u001b[43m)\u001b[49m\n",
      "File \u001b[1;32m~\\AppData\\Local\\Packages\\PythonSoftwareFoundation.Python.3.11_qbz5n2kfra8p0\\LocalCache\\local-packages\\Python311\\site-packages\\scipy\\sparse\\_base.py:606\u001b[0m, in \u001b[0;36m_spbase._matmul_dispatch\u001b[1;34m(self, other)\u001b[0m\n\u001b[0;32m    604\u001b[0m     \u001b[38;5;28;01mif\u001b[39;00m other\u001b[38;5;241m.\u001b[39mndim \u001b[38;5;241m==\u001b[39m \u001b[38;5;241m1\u001b[39m:\n\u001b[0;32m    605\u001b[0m         \u001b[38;5;28;01mraise\u001b[39;00m \u001b[38;5;167;01mValueError\u001b[39;00m(\u001b[38;5;124m'\u001b[39m\u001b[38;5;124mCannot yet multiply a 1d sparse array\u001b[39m\u001b[38;5;124m'\u001b[39m)\n\u001b[1;32m--> 606\u001b[0m     \u001b[38;5;28;01mreturn\u001b[39;00m \u001b[38;5;28;43mself\u001b[39;49m\u001b[38;5;241;43m.\u001b[39;49m\u001b[43m_matmul_sparse\u001b[49m\u001b[43m(\u001b[49m\u001b[43mother\u001b[49m\u001b[43m)\u001b[49m\n\u001b[0;32m    608\u001b[0m \u001b[38;5;66;03m# If it's a list or whatever, treat it like an array\u001b[39;00m\n\u001b[0;32m    609\u001b[0m other_a \u001b[38;5;241m=\u001b[39m np\u001b[38;5;241m.\u001b[39masanyarray(other)\n",
      "File \u001b[1;32m~\\AppData\\Local\\Packages\\PythonSoftwareFoundation.Python.3.11_qbz5n2kfra8p0\\LocalCache\\local-packages\\Python311\\site-packages\\scipy\\sparse\\_compressed.py:531\u001b[0m, in \u001b[0;36m_cs_matrix._matmul_sparse\u001b[1;34m(self, other)\u001b[0m\n\u001b[0;32m    526\u001b[0m idx_dtype \u001b[38;5;241m=\u001b[39m \u001b[38;5;28mself\u001b[39m\u001b[38;5;241m.\u001b[39m_get_index_dtype((\u001b[38;5;28mself\u001b[39m\u001b[38;5;241m.\u001b[39mindptr, \u001b[38;5;28mself\u001b[39m\u001b[38;5;241m.\u001b[39mindices,\n\u001b[0;32m    527\u001b[0m                              other\u001b[38;5;241m.\u001b[39mindptr, other\u001b[38;5;241m.\u001b[39mindices),\n\u001b[0;32m    528\u001b[0m                             maxval\u001b[38;5;241m=\u001b[39mnnz)\n\u001b[0;32m    530\u001b[0m indptr \u001b[38;5;241m=\u001b[39m np\u001b[38;5;241m.\u001b[39mempty(major_axis \u001b[38;5;241m+\u001b[39m \u001b[38;5;241m1\u001b[39m, dtype\u001b[38;5;241m=\u001b[39midx_dtype)\n\u001b[1;32m--> 531\u001b[0m indices \u001b[38;5;241m=\u001b[39m \u001b[43mnp\u001b[49m\u001b[38;5;241;43m.\u001b[39;49m\u001b[43mempty\u001b[49m\u001b[43m(\u001b[49m\u001b[43mnnz\u001b[49m\u001b[43m,\u001b[49m\u001b[43m \u001b[49m\u001b[43mdtype\u001b[49m\u001b[38;5;241;43m=\u001b[39;49m\u001b[43midx_dtype\u001b[49m\u001b[43m)\u001b[49m\n\u001b[0;32m    532\u001b[0m data \u001b[38;5;241m=\u001b[39m np\u001b[38;5;241m.\u001b[39mempty(nnz, dtype\u001b[38;5;241m=\u001b[39mupcast(\u001b[38;5;28mself\u001b[39m\u001b[38;5;241m.\u001b[39mdtype, other\u001b[38;5;241m.\u001b[39mdtype))\n\u001b[0;32m    534\u001b[0m fn \u001b[38;5;241m=\u001b[39m \u001b[38;5;28mgetattr\u001b[39m(_sparsetools, \u001b[38;5;28mself\u001b[39m\u001b[38;5;241m.\u001b[39mformat \u001b[38;5;241m+\u001b[39m \u001b[38;5;124m'\u001b[39m\u001b[38;5;124m_matmat\u001b[39m\u001b[38;5;124m'\u001b[39m)\n",
      "\u001b[1;31mMemoryError\u001b[0m: Unable to allocate 463. MiB for an array with shape (121378927,) and data type int32"
     ]
    }
   ],
   "source": [
    "\n",
    "user_similarity = cosine_similarity(user_song_matrix_sparse)\n"
   ]
  },
  {
   "cell_type": "markdown",
   "id": "bd12d4ba",
   "metadata": {},
   "source": [
    "Then, the following code converts the user-user similarity matrix into a DataFrame with user indices as both rows and columns, allowing easy lookup and analysis of user similarities. The first few rows of the DataFrame are printed to provide an overview of the similarity values, which can be used to identify similar users for recommendation purposes."
   ]
  },
  {
   "cell_type": "code",
   "execution_count": 9,
   "id": "437dd952",
   "metadata": {},
   "outputs": [
    {
     "ename": "NameError",
     "evalue": "name 'pd' is not defined",
     "output_type": "error",
     "traceback": [
      "\u001b[1;31m---------------------------------------------------------------------------\u001b[0m",
      "\u001b[1;31mNameError\u001b[0m                                 Traceback (most recent call last)",
      "Cell \u001b[1;32mIn[9], line 2\u001b[0m\n\u001b[0;32m      1\u001b[0m \u001b[38;5;66;03m# Convert it to DataFrame\u001b[39;00m\n\u001b[1;32m----> 2\u001b[0m user_similarity_df \u001b[38;5;241m=\u001b[39m \u001b[43mpd\u001b[49m\u001b[38;5;241m.\u001b[39mDataFrame(user_similarity, index\u001b[38;5;241m=\u001b[39muser_index, columns\u001b[38;5;241m=\u001b[39muser_index)\n\u001b[0;32m      4\u001b[0m \u001b[38;5;28mprint\u001b[39m(user_similarity_df\u001b[38;5;241m.\u001b[39mhead())\n",
      "\u001b[1;31mNameError\u001b[0m: name 'pd' is not defined"
     ]
    }
   ],
   "source": [
    "# Convert it to DataFrame\n",
    "user_similarity_df = pd.DataFrame(user_similarity, index=user_index, columns=user_index)\n",
    "\n",
    "print(user_similarity_df.head())"
   ]
  },
  {
   "cell_type": "markdown",
   "id": "9229da12",
   "metadata": {},
   "source": [
    "Now, we implement a function named ```get_predicted_rating``` that predicts the rating a user might give to a specific song by considering the top n most similar users who have rated that song. It calculates a weighted average of ratings from these users based on their similarity scores. If there are no ratings, it returns zero, otherwise, it returns the predicted rating as a score."
   ]
  },
  {
   "cell_type": "code",
   "execution_count": 8,
   "id": "dd6847fc",
   "metadata": {},
   "outputs": [],
   "source": [
    "\n",
    "def get_predicted_rating(song,username,song_index,ratings_matrix,user_ids,user_similarity_df,n=3):\n",
    "    song_idx = song_index[song]\n",
    "    user_interacted_indices =  ratings_matrix[:, song_idx].nonzero()[0]\n",
    "    user_interacted = [user_ids[idx] for idx in user_interacted_indices]\n",
    "    similarities = user_similarity_df.loc[username, user_interacted]\n",
    "    \n",
    "    sorted_indices = similarities.sort_values(ascending=False).index\n",
    "\n",
    "    # Extract top n similar users exclusding the user itself\n",
    "    top_n_user_ids = sorted_indices[sorted_indices != username][:n]\n",
    "    score, rating_sum = 0, 0 \n",
    "    for user in top_n_user_ids:\n",
    "        similarity = user_similarity_df.loc[username,user]\n",
    "        rating = ratings_matrix[user_index[ user], song_idx]\n",
    "        score += similarity * rating\n",
    "        rating_sum +=rating\n",
    "    if rating_sum == 0:\n",
    "        return  0\n",
    "    else:\n",
    "        score = score/rating_sum\n",
    "        return score\n",
    "    \n"
   ]
  },
  {
   "cell_type": "markdown",
   "id": "6fbb286f",
   "metadata": {},
   "source": [
    "We will also implement another function named ```recommend_songs1``` that recommends a specified number of songs to a user by predicting ratings for songs they have not yet interacted with. It first filters out known songs and computes predicted ratings for unknown songs using the get_predicted_rating function. It then sorts these songs by their predicted ratings and returns the top recommendations. The function uses cosine similarity to identify users with similar preferences, and execution time is printed for performance monitoring."
   ]
  },
  {
   "cell_type": "code",
   "execution_count": 7,
   "id": "64cffbf8",
   "metadata": {},
   "outputs": [],
   "source": [
    "def recommend_songs1(username, ratings_matrix, user_ids, test_song_list,traindata,user_similarity_df, num_recommendations=30):\n",
    "    start = time.time()\n",
    "    user_index = {user: idx for idx, user in enumerate(user_ids)}\n",
    "    song_index = {song: idx for idx, song in enumerate(song_ids)}\n",
    "    \n",
    "    if username not in user_similarity_df.index:\n",
    "        return []  \n",
    "    user_idx = user_index[username]\n",
    "    user_songs = set(traindata[traindata['user'] == username]['song'])\n",
    "    all_songs = set( test_song_list)\n",
    "    unknown_songs = all_songs - user_songs\n",
    "\n",
    "    scores = []\n",
    "    songs_to_recommend = set()\n",
    "    for song in unknown_songs:\n",
    "        scores.append((song,get_predicted_rating (song,username,song_index,ratings_matrix,user_ids,user_similarity_df)))\n",
    "    \n",
    "    scores.sort(key=lambda x: x[1], reverse=True)\n",
    "    top_n_songs_with_ratings = scores[:num_recommendations]\n",
    "    top_n_song_names = [song for song, rating in top_n_songs_with_ratings]\n",
    "    print(f\"Recommending for 1 user takes {time.time() - start:.2f} seconds\")\n",
    "    return top_n_song_names"
   ]
  },
  {
   "cell_type": "markdown",
   "id": "483b758a",
   "metadata": {},
   "source": [
    "#### B. Using Singular Value Decomposition (SVD)\n",
    "\n",
    "In the function ```generting_SVD_score```, we utilize Singular Value Decomposition (SVD) to compute predicted scores for user-item interactions from a training dataset. It creates a sparse user-item matrix, decomposes it into latent user and item features using SVD, and then reconstructs a score matrix that predicts user preferences for items. The scores are then normalized and filtered using a mask to focus on unseen interactions. \n"
   ]
  },
  {
   "cell_type": "code",
   "execution_count": 6,
   "id": "05850665",
   "metadata": {},
   "outputs": [
    {
     "ename": "NameError",
     "evalue": "name 'train_user_interation' is not defined",
     "output_type": "error",
     "traceback": [
      "\u001b[1;31m---------------------------------------------------------------------------\u001b[0m",
      "\u001b[1;31mNameError\u001b[0m                                 Traceback (most recent call last)",
      "Cell \u001b[1;32mIn[6], line 36\u001b[0m\n\u001b[0;32m     32\u001b[0m     \u001b[38;5;28mprint\u001b[39m(\u001b[38;5;124mf\u001b[39m\u001b[38;5;124m\"\u001b[39m\u001b[38;5;124mfiltering  SVD took \u001b[39m\u001b[38;5;132;01m{\u001b[39;00mtime\u001b[38;5;241m.\u001b[39mtime()\u001b[38;5;250m \u001b[39m\u001b[38;5;241m-\u001b[39m\u001b[38;5;250m \u001b[39mstart\u001b[38;5;132;01m:\u001b[39;00m\u001b[38;5;124m.2f\u001b[39m\u001b[38;5;132;01m}\u001b[39;00m\u001b[38;5;124m seconds\u001b[39m\u001b[38;5;124m\"\u001b[39m)\n\u001b[0;32m     34\u001b[0m     \u001b[38;5;28;01mreturn\u001b[39;00m filtered_svd_score_matrix\n\u001b[1;32m---> 36\u001b[0m svd_score_matrix\u001b[38;5;241m=\u001b[39mgenerting_SVD_score(\u001b[43mtrain_user_interation\u001b[49m,listening_history)\n",
      "\u001b[1;31mNameError\u001b[0m: name 'train_user_interation' is not defined"
     ]
    }
   ],
   "source": [
    "def generting_SVD_score(train_df,listening_history):\n",
    "   \n",
    "    # Create sparse user-item matrix\n",
    "    start = time.time()\n",
    "    row = [user_to_index[user] for user in train_df['user']]\n",
    "    col = [song_to_index[song] for song in train_df['song']]\n",
    "    data = np.ones(len(train_df))\n",
    "    user_item_matrix = csr_matrix((data, (row, col)), shape=(len(user_ids), len(song_ids)))\n",
    "    print(f\"Creating user-item matrix took {time.time() - start:.2f} seconds\")\n",
    "\n",
    "    # Perform SVD\n",
    "    start = time.time()\n",
    "    num_factors = 100\n",
    "    U, s, Vt = svds(user_item_matrix, k=num_factors)\n",
    "    user_features = U.dot(np.diag(s))\n",
    "    item_features = Vt.T\n",
    "    print(f\"Performing SVD took {time.time() - start:.2f} seconds\")\n",
    "\n",
    "    # Calculate SVD scores\n",
    "    start = time.time()\n",
    "    svd_score_matrix = np.dot(user_features, item_features.T)\n",
    "    def scale_matrix(matrix, min_desired=0.01, max_desired=1):\n",
    "        min_val = np.min(matrix)\n",
    "        max_val = np.max(matrix)\n",
    "        \n",
    "        scaled = (matrix - min_val) / (max_val - min_val)\n",
    "        return scaled * (max_desired - min_desired) + min_desired\n",
    "    svd_score_matrix=scale_matrix(svd_score_matrix)\n",
    "\n",
    "    # Apply the mask to the SVD score matrix\n",
    "    filtered_svd_score_matrix = svd_score_matrix * mask_matrix_SVD\n",
    "    print(f\"filtering  SVD took {time.time() - start:.2f} seconds\")\n",
    "\n",
    "    return filtered_svd_score_matrix\n",
    "\n",
    "svd_score_matrix=generting_SVD_score(train_user_interation,listening_history)"
   ]
  },
  {
   "cell_type": "markdown",
   "id": "61c31590-8a0f-408b-9fcc-bfa99457c3eb",
   "metadata": {},
   "source": [
    "### Comparison of Recommendation Methods (Content and Collaborative)\n",
    "\n",
    "The first manual method based on similarity has O(n * m) time complexity, where n is the number of users and m is the number of items. This method can be computationally expensive, especially for large datasets.\n",
    "\n",
    "On the other hand, the SVD method uses linear matrix multiplication, which runs much faster and has demonstrated better performance in terms of precision and recall.\n",
    "\n",
    "**Consequently, we use SVD as our collaborative filtering method.**\n"
   ]
  },
  {
   "cell_type": "markdown",
   "id": "ec89f77c-0805-4b33-bf8b-486ba7544509",
   "metadata": {},
   "source": [
    "### Precision@N\n",
    "\n",
    "Precision@N is a metric used to evaluate the performance of recommendation systems. It measures the proportion of relevant items in the top N recommendations provided to a user.\n",
    "\n",
    "- **Precision**: Precision is the ratio of relevant items retrieved to the total items retrieved. It indicates the accuracy of the recommendations.\n",
    "- **N**: The number of top recommendations considered.\n"
   ]
  },
  {
   "cell_type": "code",
   "execution_count": 2,
   "id": "ed692f3e-9967-4131-8b20-88931bf796f6",
   "metadata": {},
   "outputs": [],
   "source": [
    "def precision(recommended_items, relevant_items):\n",
    "    if len(recommended_items) == 0:\n",
    "        return 0.0\n",
    "    relevant_set = set(relevant_items)\n",
    "    recommended_set = set(recommended_items)\n",
    "    intersection_count = len(recommended_set & relevant_set) \n",
    "    return intersection_count / len(recommended_items)\n"
   ]
  },
  {
   "cell_type": "markdown",
   "id": "977417d3-2a36-4325-a55b-d3e9c7450385",
   "metadata": {},
   "source": [
    "### Recall@N\n",
    "\n",
    "Recall@N is a metric used to evaluate the performance of recommendation systems. It measures the proportion of relevant items that are successfully retrieved in the top N recommendations provided to a user.\n",
    "\n",
    "- **Recall**: Recall is the ratio of relevant items retrieved to the total number of relevant items. It indicates the ability of the recommendation system to find all relevant items.\n",
    "- **N**: The number of top recommendations considered.\n"
   ]
  },
  {
   "cell_type": "code",
   "execution_count": 3,
   "id": "1c09c26a-5de6-433b-92a5-0e76b48b4c6e",
   "metadata": {},
   "outputs": [],
   "source": [
    "\n",
    "def recall(recommended_items, relevant_items):\n",
    "    if len(relevant_items) == 0:\n",
    "        return 0.0\n",
    "    relevant_set = set(relevant_items)\n",
    "    recommended_set = set(recommended_items)\n",
    "    intersection_count = len(recommended_set.intersection(relevant_set))\n",
    "    return intersection_count / len(relevant_items)\n"
   ]
  },
  {
   "cell_type": "markdown",
   "id": "deab316d-87ee-41b5-815f-bffa9514509d",
   "metadata": {},
   "source": [
    "__F1@N__"
   ]
  },
  {
   "cell_type": "code",
   "execution_count": 4,
   "id": "f58c29f0-af34-405d-ade6-15ac8f7673d4",
   "metadata": {},
   "outputs": [],
   "source": [
    "def f1_score(precision, recall):\n",
    "    if precision + recall == 0:\n",
    "        return 0.0\n",
    "    return 2 * (precision * recall) / (precision + recall)"
   ]
  },
  {
   "cell_type": "markdown",
   "id": "2586feb5",
   "metadata": {},
   "source": [
    "## <b>Hybrid Model</b>"
   ]
  },
  {
   "cell_type": "markdown",
   "id": "e27bc048",
   "metadata": {},
   "source": [
    "### <b>Exploration & Exploitation Model:</b>\n",
    "\n",
    "* <b>Type:</b> Hybrid\n",
    "* <b>Method:</b> Combines content-based filtering, collaborative filtering, and KNN.\n",
    "    * <b>Exploitation:</b> Uses content-based and collaborative filtering for accurate recommendations based on user preferences.\n",
    "\n",
    "    * <b>Exploration:</b> Uses KNN to introduce new and diverse songs.\n",
    "    * <b>Weighting:</b> Adjusts the weight of each component depending on the phase (exploration or exploitation).\n",
    "* <b>Recommendation Count:</b> 30 songs per day.\n",
    "* <b>Library:</b> Implemented using scikit-learn.\n",
    "\n",
    "* <b>Parameters:</b> The ratio of exploration to exploitation is dynamically adjusted based on user interactions.\n",
    "* <b>Implementation Details:</b>\n",
    "    * <b>Data Collection:</b> Utilized the Music4All database containing metadata, tags, genres, listening history, and audio features.\n",
    "    \n",
    "    * <b>Integration:</b> Combined content-based filtering, collaborative filtering, and KNN, adjusting the balance dynamically based on user interactions.\n",
    "    * <b>Recommendation:</b> The system recommends 30 songs daily by dynamically balancing exploration and exploitation strategies."
   ]
  },
  {
   "cell_type": "markdown",
   "id": "2d46e62d-f5cc-45ee-9ed0-ea4ea8c96608",
   "metadata": {},
   "source": [
    "### Combining SVD and Content-Based Scores with Weighted Sum for Hybrid model\n",
    "\n",
    "In this step, we combine the scores from SVD-based recommendations and content-based recommendations using a weighted sum. The resulting hybrid score matrix is used to leverage the strengths of both recommendation methods.\n"
   ]
  },
  {
   "cell_type": "code",
   "execution_count": 10,
   "id": "53f461d9-25bb-45e1-a14c-e449957fb2c6",
   "metadata": {},
   "outputs": [
    {
     "ename": "NameError",
     "evalue": "name 'svd_score_matrix' is not defined",
     "output_type": "error",
     "traceback": [
      "\u001b[1;31m---------------------------------------------------------------------------\u001b[0m",
      "\u001b[1;31mNameError\u001b[0m                                 Traceback (most recent call last)",
      "Cell \u001b[1;32mIn[10], line 4\u001b[0m\n\u001b[0;32m      2\u001b[0m     weighted_matrix \u001b[38;5;241m=\u001b[39m weight1 \u001b[38;5;241m*\u001b[39m matrix1 \u001b[38;5;241m+\u001b[39m weight2 \u001b[38;5;241m*\u001b[39m matrix2\n\u001b[0;32m      3\u001b[0m     \u001b[38;5;28;01mreturn\u001b[39;00m weighted_matrix\n\u001b[1;32m----> 4\u001b[0m hybrid_score\u001b[38;5;241m=\u001b[39mweighted_sum_matrices(\u001b[43msvd_score_matrix\u001b[49m,cosine_score_matrix,\u001b[38;5;241m0.5\u001b[39m,\u001b[38;5;241m0.5\u001b[39m)\n",
      "\u001b[1;31mNameError\u001b[0m: name 'svd_score_matrix' is not defined"
     ]
    }
   ],
   "source": [
    "def weighted_sum_matrices(matrix1, matrix2, weight1, weight2):\n",
    "    weighted_matrix = weight1 * matrix1 + weight2 * matrix2\n",
    "    return weighted_matrix\n",
    "hybrid_score=weighted_sum_matrices(svd_score_matrix,cosine_score_matrix,0.5,0.5)"
   ]
  },
  {
   "cell_type": "markdown",
   "id": "b39cecc5",
   "metadata": {},
   "source": [
    "## Part 4. Evaluation"
   ]
  },
  {
   "cell_type": "markdown",
   "id": "872f2f13-8f89-4c2f-8f15-942f67fb0e4c",
   "metadata": {},
   "source": [
    "### User Relevant items generation\n",
    "The `generate_relevant_items` function processes a dataframe of user listening history to filter songs based on a given frequency threshold. The function returns a dictionary where each user is mapped to a list of relevant song indices.\n"
   ]
  },
  {
   "cell_type": "code",
   "execution_count": 11,
   "id": "964dd327-a0df-46e4-a5d0-82a295b37a88",
   "metadata": {},
   "outputs": [
    {
     "ename": "NameError",
     "evalue": "name 'generate_relevant_items' is not defined",
     "output_type": "error",
     "traceback": [
      "\u001b[1;31m---------------------------------------------------------------------------\u001b[0m",
      "\u001b[1;31mNameError\u001b[0m                                 Traceback (most recent call last)",
      "Cell \u001b[1;32mIn[11], line 1\u001b[0m\n\u001b[1;32m----> 1\u001b[0m user_relevant_items\u001b[38;5;241m=\u001b[39m\u001b[43mgenerate_relevant_items\u001b[49m(listening_history,relevant_items_threshold,song_to_index)\n",
      "\u001b[1;31mNameError\u001b[0m: name 'generate_relevant_items' is not defined"
     ]
    }
   ],
   "source": [
    "user_relevant_items=generate_relevant_items(listening_history,relevant_items_threshold,song_to_index)\n"
   ]
  },
  {
   "cell_type": "markdown",
   "id": "65c810d2-7654-4966-9d98-5cf264d46d75",
   "metadata": {},
   "source": [
    "### Function: `plot_metrics_comparison`\n",
    "\n",
    "This function creates a single plot comparing precision, recall, and F1 score between two models across different N values.\n"
   ]
  },
  {
   "cell_type": "code",
   "execution_count": 12,
   "id": "74328123-fab1-425d-87be-25111f9e1ea4",
   "metadata": {},
   "outputs": [],
   "source": [
    "def plot_metrics_comparison(N_values, model1_scores, model2_scores, metrics, model_names, plot_title):\n",
    "    \"\"\"\n",
    "    Create a single plot comparing precision, recall, and F1 score between two models across different N values.\n",
    "\n",
    "    Parameters:\n",
    "    N_values (list): List of values for N (number of recommendations).\n",
    "    model1_scores (list of lists): List of lists where each sublist contains scores for model 1 for different N values.\n",
    "    model2_scores (list of lists): List of lists where each sublist contains scores for model 2 for different N values.\n",
    "    metrics (list): List of metric names (e.g., ['Precision', 'Recall', 'F1 Score']).\n",
    "    model_names (list): List of model names (e.g., ['Model 1', 'Model 2']).\n",
    "    plot_title (str): Title of the plot.\n",
    "\n",
    "    Returns:\n",
    "    None\n",
    "    \"\"\"\n",
    "    n_metrics = len(metrics)\n",
    "    markers = ['o', 'x', 's']  # Different markers for different metrics\n",
    "\n",
    "    plt.figure(figsize=(12, 6))\n",
    "\n",
    "    # Plot each metric\n",
    "    for i in range(n_metrics):\n",
    "        plt.plot(N_values, model1_scores[i], label=f'{model_names[0]} {metrics[i]}', marker=markers[i])\n",
    "        plt.plot(N_values, model2_scores[i], label=f'{model_names[1]} {metrics[i]}', marker=markers[i])\n",
    "\n",
    "    # Set labels and title\n",
    "    plt.xlabel('Number of Recommendations (N)')\n",
    "    plt.ylabel('Score')\n",
    "    plt.title(plot_title)\n",
    "    plt.legend()\n",
    "    plt.grid(True)\n",
    "    plt.tight_layout()\n",
    "    plt.show()"
   ]
  },
  {
   "cell_type": "markdown",
   "id": "516eaf44-1d55-4826-9524-4fbd8f4bc974",
   "metadata": {},
   "source": [
    "### Function: `plotting_across_values`\n",
    "\n",
    "This function creates a figure with multiple subplots based on the provided data.\n"
   ]
  },
  {
   "cell_type": "code",
   "execution_count": 14,
   "id": "6e11e249-6b39-4b25-b1e7-013cbeb347a1",
   "metadata": {},
   "outputs": [],
   "source": [
    "def plotting_across_values(N_values, scores_list, labels_list, plot_titles, figsize=(12, 6)):\n",
    "    \"\"\"\n",
    "    Create a figure with multiple subplots based on provided data.\n",
    "\n",
    "    Parameters:\n",
    "    N_values (list): List of x-values for the plots.\n",
    "    scores_list (list): List of lists, where each sublist contains y-values for a plot.\n",
    "    labels_list (list): List of lists, where each sublist contains labels for the corresponding plot.\n",
    "    plot_titles (list): A list containing titles for each subplot.\n",
    "    figsize (tuple): Figure size, default is (12, 6).\n",
    "\n",
    "    Returns:\n",
    "    None\n",
    "    \"\"\"\n",
    "    num_plots = len(scores_list)\n",
    "\n",
    "    # Create a figure with the number of subplots based on the input\n",
    "    fig, axs = plt.subplots(1, num_plots, figsize=figsize)\n",
    "\n",
    "    if num_plots == 1:\n",
    "        axs = [axs]  # Ensure axs is iterable when there's only one subplot\n",
    "\n",
    "    # Plot each subplot\n",
    "    for idx, ax in enumerate(axs):\n",
    "        for i in range(len(scores_list[idx])):\n",
    "            ax.plot(N_values, scores_list[idx][i], label=labels_list[idx][i], marker='o')\n",
    "        ax.set_xlabel('Number of Recommendations (N)')\n",
    "        ax.set_ylabel('Score')\n",
    "        ax.set_title(plot_titles[idx])\n",
    "        ax.legend()\n",
    "        ax.grid(True)\n",
    "\n",
    "    # Adjust layout\n",
    "    plt.tight_layout()\n",
    "\n",
    "    # Show plots\n",
    "    plt.show()\n"
   ]
  },
  {
   "cell_type": "markdown",
   "id": "d2c35be6-9637-4707-a477-071db7b249e2",
   "metadata": {},
   "source": [
    "### Function: `get_users_with_min_songs`\n",
    "\n",
    "This function returns a set of users who have at least a specified number of unique songs in their listening history.\n"
   ]
  },
  {
   "cell_type": "code",
   "execution_count": 15,
   "id": "1675f65b-0849-4cd2-8a98-ce17595988e4",
   "metadata": {},
   "outputs": [],
   "source": [
    "def get_users_with_min_songs(data_frame, min_songs):\n",
    "    \"\"\"\n",
    "    Returns a set of users who have at least min_songs unique songs in their listening history.\n",
    "\n",
    "    Parameters:\n",
    "    - data_frame: pandas DataFrame containing the listening history data with columns 'user', 'song', and 'time'.\n",
    "    - min_songs: Minimum number of unique songs a user must have in their history to be retained.\n",
    "\n",
    "    Returns:\n",
    "    - valid_users_set: Set of users with at least min_songs unique songs in their history.\n",
    "    \"\"\"\n",
    "    # Group by user and count the number of unique songs\n",
    "    user_song_counts = data_frame.groupby('user')['song'].nunique().reset_index()\n",
    "    user_song_counts.columns = ['user', 'unique_song_count']\n",
    "    \n",
    "    # Filter out users with less than min_songs unique songs\n",
    "    valid_users = user_song_counts[user_song_counts['unique_song_count'] >= min_songs]['user']\n",
    "    \n",
    "    # Convert the valid users to a set\n",
    "    valid_users_set = set(valid_users)\n",
    "   \n",
    "    return valid_users_set"
   ]
  },
  {
   "cell_type": "markdown",
   "id": "541bebe0-a1ed-4a23-939b-caf4a24f3137",
   "metadata": {},
   "source": [
    "### Identifying Cold Start Users\n",
    "\n",
    "In this step, we use the `get_users_with_min_songs` function to identify users who have at least 30 unique songs in their listening history. These users are considered \"valid users\". Any user not in this set is identified as a \"cold start user\" and will be handled using a different code.\n"
   ]
  },
  {
   "cell_type": "code",
   "execution_count": null,
   "id": "b9571af2-3d2a-4522-adab-f06d1e2e960e",
   "metadata": {},
   "outputs": [],
   "source": [
    "valid_users_set=get_users_with_min_songs(train_data,30)\n",
    "cold_start_reccomendation=get_top_30_songs_by_frequency(data_frames[\"listening_history\"])"
   ]
  },
  {
   "cell_type": "markdown",
   "id": "7f9962e2-92a5-42b3-872b-32706e22b06c",
   "metadata": {},
   "source": [
    "### Selecting Random Users for Evaluation\n",
    "In this step, we randomly select a specified number of users for evaluation and convert their usernames to indices. We also initialize values for recommendations.\n"
   ]
  },
  {
   "cell_type": "code",
   "execution_count": null,
   "id": "100560f3",
   "metadata": {},
   "outputs": [],
   "source": [
    "user_ids_list = list(user_ids)\n",
    "users_name=random.sample(user_ids_list, num_users_for_evaluation)\n",
    "user_Index=[user_to_index[user] for user in users_name ]\n",
    "N_values=[5,10,15,20,25,30]\n"
   ]
  },
  {
   "cell_type": "markdown",
   "id": "864006f0-07d9-46da-9f69-3d9584094d45",
   "metadata": {},
   "source": [
    "### Function: `generating_score_by_N_by_user`\n",
    "\n",
    "This function calculates the precision, recall, and F1 score for a given number of recommendations (N) for a set of users. It returns the average precision, recall, and F1 score across all users.\n"
   ]
  },
  {
   "cell_type": "code",
   "execution_count": null,
   "id": "5baea740",
   "metadata": {},
   "outputs": [],
   "source": [
    "def generating_score_by_N_by_user(score_matrix,N,users_name):\n",
    "    precisions=[]\n",
    "    recalls=[]\n",
    "    f1_scores=[]\n",
    "    recommended_items=get_top_n_values_and_indices(score_matrix,N)\n",
    "    for  user in users_name:\n",
    "        recommended_items=[]\n",
    "        relevant_item=user_relevant_items[user]\n",
    "        if user in valid_users_set:\n",
    "            recommended_items=recommended_items[user_to_index[user]][1]\n",
    "        else:\n",
    "            recommended_items=cold_start_reccomendation\n",
    "        prec=precision(recommended_items,relevant_item)\n",
    "        rec=recall(recommended_items,relevant_item)\n",
    "        precisions.append(prec)\n",
    "        recalls.append(rec)\n",
    "        f1_scores.append(f1_score(prec,rec))\n",
    "    return sum(precisions) / len(precisions),sum(recalls) / len(recalls),sum(f1_scores) / len(f1_scores)"
   ]
  },
  {
   "cell_type": "markdown",
   "id": "87299cb7-9450-48e2-b870-719ce712e2e6",
   "metadata": {},
   "source": [
    "### Collaborative Filtering with Similarity Matrix for 30 Recommendations\n",
    "\n",
    "In this step, we randomly select  random a user for collaborative filtering evaluation. But we notice it has siginificant issues"
   ]
  },
  {
   "cell_type": "code",
   "execution_count": null,
   "id": "cf3d9611",
   "metadata": {},
   "outputs": [
    {
     "ename": "KeyboardInterrupt",
     "evalue": "",
     "output_type": "error",
     "traceback": [
      "\u001b[0;31m---------------------------------------------------------------------------\u001b[0m",
      "\u001b[0;31mKeyboardInterrupt\u001b[0m                         Traceback (most recent call last)",
      "Cell \u001b[0;32mIn[74], line 2\u001b[0m\n\u001b[1;32m      1\u001b[0m username \u001b[38;5;241m=\u001b[39m \u001b[38;5;124m'\u001b[39m\u001b[38;5;124muser_1Pv2iFMy\u001b[39m\u001b[38;5;124m'\u001b[39m\n\u001b[0;32m----> 2\u001b[0m recommendations_sim \u001b[38;5;241m=\u001b[39m \u001b[43mrecommend_songs1\u001b[49m\u001b[43m(\u001b[49m\u001b[43musername\u001b[49m\u001b[43m,\u001b[49m\u001b[43m  \u001b[49m\u001b[43muser_song_matrix_sparse\u001b[49m\u001b[43m,\u001b[49m\u001b[43m   \u001b[49m\u001b[43muser_ids\u001b[49m\u001b[43m,\u001b[49m\u001b[43m \u001b[49m\u001b[43msong_ids\u001b[49m\u001b[43m,\u001b[49m\u001b[43mtrain_df\u001b[49m\u001b[43m,\u001b[49m\u001b[43muser_similarity_df\u001b[49m\u001b[43m)\u001b[49m\n",
      "Cell \u001b[0;32mIn[72], line 37\u001b[0m, in \u001b[0;36mrecommend_songs1\u001b[0;34m(username, ratings_matrix, user_ids, test_song_list, traindata, user_similarity_df, num_recommendations)\u001b[0m\n\u001b[1;32m     35\u001b[0m songs_to_recommend \u001b[38;5;241m=\u001b[39m \u001b[38;5;28mset\u001b[39m()\n\u001b[1;32m     36\u001b[0m \u001b[38;5;28;01mfor\u001b[39;00m song \u001b[38;5;129;01min\u001b[39;00m unknown_songs:\n\u001b[0;32m---> 37\u001b[0m     scores\u001b[38;5;241m.\u001b[39mappend((song,\u001b[43mget_predicted_rating\u001b[49m\u001b[43m \u001b[49m\u001b[43m(\u001b[49m\u001b[43msong\u001b[49m\u001b[43m,\u001b[49m\u001b[43musername\u001b[49m\u001b[43m,\u001b[49m\u001b[43msong_index\u001b[49m\u001b[43m,\u001b[49m\u001b[43mratings_matrix\u001b[49m\u001b[43m,\u001b[49m\u001b[43muser_ids\u001b[49m\u001b[43m,\u001b[49m\u001b[43muser_similarity_df\u001b[49m\u001b[43m)\u001b[49m))\n\u001b[1;32m     39\u001b[0m scores\u001b[38;5;241m.\u001b[39msort(key\u001b[38;5;241m=\u001b[39m\u001b[38;5;28;01mlambda\u001b[39;00m x: x[\u001b[38;5;241m1\u001b[39m], reverse\u001b[38;5;241m=\u001b[39m\u001b[38;5;28;01mTrue\u001b[39;00m)\n\u001b[1;32m     40\u001b[0m top_n_songs_with_ratings \u001b[38;5;241m=\u001b[39m scores[:num_recommendations]\n",
      "Cell \u001b[0;32mIn[72], line 3\u001b[0m, in \u001b[0;36mget_predicted_rating\u001b[0;34m(song, username, song_index, ratings_matrix, user_ids, user_similarity_df, n)\u001b[0m\n\u001b[1;32m      1\u001b[0m \u001b[38;5;28;01mdef\u001b[39;00m \u001b[38;5;21mget_predicted_rating\u001b[39m(song,username,song_index,ratings_matrix,user_ids,user_similarity_df,n\u001b[38;5;241m=\u001b[39m\u001b[38;5;241m3\u001b[39m):\n\u001b[1;32m      2\u001b[0m     song_idx \u001b[38;5;241m=\u001b[39m song_index[song]\n\u001b[0;32m----> 3\u001b[0m     user_interacted_indices \u001b[38;5;241m=\u001b[39m  \u001b[43mratings_matrix\u001b[49m\u001b[43m[\u001b[49m\u001b[43m:\u001b[49m\u001b[43m,\u001b[49m\u001b[43m \u001b[49m\u001b[43msong_idx\u001b[49m\u001b[43m]\u001b[49m\u001b[38;5;241m.\u001b[39mnonzero()[\u001b[38;5;241m0\u001b[39m]\n\u001b[1;32m      4\u001b[0m     user_interacted \u001b[38;5;241m=\u001b[39m [user_ids[idx] \u001b[38;5;28;01mfor\u001b[39;00m idx \u001b[38;5;129;01min\u001b[39;00m user_interacted_indices]\n\u001b[1;32m      5\u001b[0m     similarities \u001b[38;5;241m=\u001b[39m user_similarity_df\u001b[38;5;241m.\u001b[39mloc[username, user_interacted]\n",
      "File \u001b[0;32m~/miniforge3/envs/sage/lib/python3.10/site-packages/scipy/sparse/_index.py:64\u001b[0m, in \u001b[0;36mIndexMixin.__getitem__\u001b[0;34m(self, key)\u001b[0m\n\u001b[1;32m     62\u001b[0m \u001b[38;5;28;01mif\u001b[39;00m \u001b[38;5;28misinstance\u001b[39m(col, INT_TYPES):\n\u001b[1;32m     63\u001b[0m     \u001b[38;5;28mself\u001b[39m\u001b[38;5;241m.\u001b[39m_raise_on_1d_array_slice()\n\u001b[0;32m---> 64\u001b[0m     \u001b[38;5;28;01mreturn\u001b[39;00m \u001b[38;5;28;43mself\u001b[39;49m\u001b[38;5;241;43m.\u001b[39;49m\u001b[43m_get_sliceXint\u001b[49m\u001b[43m(\u001b[49m\u001b[43mrow\u001b[49m\u001b[43m,\u001b[49m\u001b[43m \u001b[49m\u001b[43mcol\u001b[49m\u001b[43m)\u001b[49m\n\u001b[1;32m     65\u001b[0m \u001b[38;5;28;01melif\u001b[39;00m \u001b[38;5;28misinstance\u001b[39m(col, \u001b[38;5;28mslice\u001b[39m):\n\u001b[1;32m     66\u001b[0m     \u001b[38;5;28;01mif\u001b[39;00m row \u001b[38;5;241m==\u001b[39m \u001b[38;5;28mslice\u001b[39m(\u001b[38;5;28;01mNone\u001b[39;00m) \u001b[38;5;129;01mand\u001b[39;00m row \u001b[38;5;241m==\u001b[39m col:\n",
      "File \u001b[0;32m~/miniforge3/envs/sage/lib/python3.10/site-packages/scipy/sparse/_csr.py:203\u001b[0m, in \u001b[0;36m_csr_base._get_sliceXint\u001b[0;34m(self, row, col)\u001b[0m\n\u001b[1;32m    201\u001b[0m \u001b[38;5;28;01mdef\u001b[39;00m \u001b[38;5;21m_get_sliceXint\u001b[39m(\u001b[38;5;28mself\u001b[39m, row, col):\n\u001b[1;32m    202\u001b[0m     \u001b[38;5;28;01mif\u001b[39;00m row\u001b[38;5;241m.\u001b[39mstep \u001b[38;5;129;01min\u001b[39;00m (\u001b[38;5;241m1\u001b[39m, \u001b[38;5;28;01mNone\u001b[39;00m):\n\u001b[0;32m--> 203\u001b[0m         \u001b[38;5;28;01mreturn\u001b[39;00m \u001b[38;5;28;43mself\u001b[39;49m\u001b[38;5;241;43m.\u001b[39;49m\u001b[43m_get_submatrix\u001b[49m\u001b[43m(\u001b[49m\u001b[43mrow\u001b[49m\u001b[43m,\u001b[49m\u001b[43m \u001b[49m\u001b[43mcol\u001b[49m\u001b[43m,\u001b[49m\u001b[43m \u001b[49m\u001b[43mcopy\u001b[49m\u001b[38;5;241;43m=\u001b[39;49m\u001b[38;5;28;43;01mTrue\u001b[39;49;00m\u001b[43m)\u001b[49m\n\u001b[1;32m    204\u001b[0m     \u001b[38;5;28;01mreturn\u001b[39;00m \u001b[38;5;28mself\u001b[39m\u001b[38;5;241m.\u001b[39m_major_slice(row)\u001b[38;5;241m.\u001b[39m_get_submatrix(minor\u001b[38;5;241m=\u001b[39mcol)\n",
      "File \u001b[0;32m~/miniforge3/envs/sage/lib/python3.10/site-packages/scipy/sparse/_compressed.py:819\u001b[0m, in \u001b[0;36m_cs_matrix._get_submatrix\u001b[0;34m(self, major, minor, copy)\u001b[0m\n\u001b[1;32m    815\u001b[0m indptr, indices, data \u001b[38;5;241m=\u001b[39m get_csr_submatrix(\n\u001b[1;32m    816\u001b[0m     M, N, \u001b[38;5;28mself\u001b[39m\u001b[38;5;241m.\u001b[39mindptr, \u001b[38;5;28mself\u001b[39m\u001b[38;5;241m.\u001b[39mindices, \u001b[38;5;28mself\u001b[39m\u001b[38;5;241m.\u001b[39mdata, i0, i1, j0, j1)\n\u001b[1;32m    818\u001b[0m shape \u001b[38;5;241m=\u001b[39m \u001b[38;5;28mself\u001b[39m\u001b[38;5;241m.\u001b[39m_swap((i1 \u001b[38;5;241m-\u001b[39m i0, j1 \u001b[38;5;241m-\u001b[39m j0))\n\u001b[0;32m--> 819\u001b[0m \u001b[38;5;28;01mreturn\u001b[39;00m \u001b[38;5;28;43mself\u001b[39;49m\u001b[38;5;241;43m.\u001b[39;49m\u001b[38;5;18;43m__class__\u001b[39;49m\u001b[43m(\u001b[49m\u001b[43m(\u001b[49m\u001b[43mdata\u001b[49m\u001b[43m,\u001b[49m\u001b[43m \u001b[49m\u001b[43mindices\u001b[49m\u001b[43m,\u001b[49m\u001b[43m \u001b[49m\u001b[43mindptr\u001b[49m\u001b[43m)\u001b[49m\u001b[43m,\u001b[49m\u001b[43m \u001b[49m\u001b[43mshape\u001b[49m\u001b[38;5;241;43m=\u001b[39;49m\u001b[43mshape\u001b[49m\u001b[43m,\u001b[49m\n\u001b[1;32m    820\u001b[0m \u001b[43m                      \u001b[49m\u001b[43mdtype\u001b[49m\u001b[38;5;241;43m=\u001b[39;49m\u001b[38;5;28;43mself\u001b[39;49m\u001b[38;5;241;43m.\u001b[39;49m\u001b[43mdtype\u001b[49m\u001b[43m,\u001b[49m\u001b[43m \u001b[49m\u001b[43mcopy\u001b[49m\u001b[38;5;241;43m=\u001b[39;49m\u001b[38;5;28;43;01mFalse\u001b[39;49;00m\u001b[43m)\u001b[49m\n",
      "File \u001b[0;32m~/miniforge3/envs/sage/lib/python3.10/site-packages/scipy/sparse/_compressed.py:66\u001b[0m, in \u001b[0;36m_cs_matrix.__init__\u001b[0;34m(self, arg1, shape, dtype, copy)\u001b[0m\n\u001b[1;32m     64\u001b[0m \u001b[38;5;28;01mif\u001b[39;00m shape \u001b[38;5;129;01mis\u001b[39;00m \u001b[38;5;129;01mnot\u001b[39;00m \u001b[38;5;28;01mNone\u001b[39;00m:\n\u001b[1;32m     65\u001b[0m     maxval \u001b[38;5;241m=\u001b[39m \u001b[38;5;28mmax\u001b[39m(shape)\n\u001b[0;32m---> 66\u001b[0m idx_dtype \u001b[38;5;241m=\u001b[39m \u001b[38;5;28;43mself\u001b[39;49m\u001b[38;5;241;43m.\u001b[39;49m\u001b[43m_get_index_dtype\u001b[49m\u001b[43m(\u001b[49m\u001b[43m(\u001b[49m\u001b[43mindices\u001b[49m\u001b[43m,\u001b[49m\u001b[43m \u001b[49m\u001b[43mindptr\u001b[49m\u001b[43m)\u001b[49m\u001b[43m,\u001b[49m\n\u001b[1;32m     67\u001b[0m \u001b[43m                            \u001b[49m\u001b[43mmaxval\u001b[49m\u001b[38;5;241;43m=\u001b[39;49m\u001b[43mmaxval\u001b[49m\u001b[43m,\u001b[49m\n\u001b[1;32m     68\u001b[0m \u001b[43m                            \u001b[49m\u001b[43mcheck_contents\u001b[49m\u001b[38;5;241;43m=\u001b[39;49m\u001b[38;5;28;43;01mTrue\u001b[39;49;00m\u001b[43m)\u001b[49m\n\u001b[1;32m     70\u001b[0m \u001b[38;5;28mself\u001b[39m\u001b[38;5;241m.\u001b[39mindices \u001b[38;5;241m=\u001b[39m np\u001b[38;5;241m.\u001b[39marray(indices, copy\u001b[38;5;241m=\u001b[39mcopy,\n\u001b[1;32m     71\u001b[0m                         dtype\u001b[38;5;241m=\u001b[39midx_dtype)\n\u001b[1;32m     72\u001b[0m \u001b[38;5;28mself\u001b[39m\u001b[38;5;241m.\u001b[39mindptr \u001b[38;5;241m=\u001b[39m np\u001b[38;5;241m.\u001b[39marray(indptr, copy\u001b[38;5;241m=\u001b[39mcopy, dtype\u001b[38;5;241m=\u001b[39midx_dtype)\n",
      "File \u001b[0;32m~/miniforge3/envs/sage/lib/python3.10/site-packages/scipy/sparse/_base.py:1309\u001b[0m, in \u001b[0;36m_spbase._get_index_dtype\u001b[0;34m(self, arrays, maxval, check_contents)\u001b[0m\n\u001b[1;32m   1306\u001b[0m \u001b[38;5;28;01mfrom\u001b[39;00m \u001b[38;5;21;01m.\u001b[39;00m\u001b[38;5;21;01m_sputils\u001b[39;00m \u001b[38;5;28;01mimport\u001b[39;00m get_index_dtype\n\u001b[1;32m   1308\u001b[0m \u001b[38;5;66;03m# Don't check contents for array API\u001b[39;00m\n\u001b[0;32m-> 1309\u001b[0m \u001b[38;5;28;01mreturn\u001b[39;00m \u001b[43mget_index_dtype\u001b[49m\u001b[43m(\u001b[49m\u001b[43marrays\u001b[49m\u001b[43m,\u001b[49m\n\u001b[1;32m   1310\u001b[0m \u001b[43m                       \u001b[49m\u001b[43mmaxval\u001b[49m\u001b[43m,\u001b[49m\n\u001b[1;32m   1311\u001b[0m \u001b[43m                       \u001b[49m\u001b[43m(\u001b[49m\u001b[43mcheck_contents\u001b[49m\u001b[43m \u001b[49m\u001b[38;5;129;43;01mand\u001b[39;49;00m\u001b[43m \u001b[49m\u001b[38;5;129;43;01mnot\u001b[39;49;00m\u001b[43m \u001b[49m\u001b[38;5;28;43misinstance\u001b[39;49m\u001b[43m(\u001b[49m\u001b[38;5;28;43mself\u001b[39;49m\u001b[43m,\u001b[49m\u001b[43m \u001b[49m\u001b[43msparray\u001b[49m\u001b[43m)\u001b[49m\u001b[43m)\u001b[49m\u001b[43m)\u001b[49m\n",
      "File \u001b[0;32m~/miniforge3/envs/sage/lib/python3.10/site-packages/scipy/sparse/_sputils.py:170\u001b[0m, in \u001b[0;36mget_index_dtype\u001b[0;34m(arrays, maxval, check_contents)\u001b[0m\n\u001b[1;32m    148\u001b[0m \u001b[38;5;28;01mdef\u001b[39;00m \u001b[38;5;21mget_index_dtype\u001b[39m(arrays\u001b[38;5;241m=\u001b[39m(), maxval\u001b[38;5;241m=\u001b[39m\u001b[38;5;28;01mNone\u001b[39;00m, check_contents\u001b[38;5;241m=\u001b[39m\u001b[38;5;28;01mFalse\u001b[39;00m):\n\u001b[1;32m    149\u001b[0m \u001b[38;5;250m    \u001b[39m\u001b[38;5;124;03m\"\"\"\u001b[39;00m\n\u001b[1;32m    150\u001b[0m \u001b[38;5;124;03m    Based on input (integer) arrays `a`, determine a suitable index data\u001b[39;00m\n\u001b[1;32m    151\u001b[0m \u001b[38;5;124;03m    type that can hold the data in the arrays.\u001b[39;00m\n\u001b[0;32m   (...)\u001b[0m\n\u001b[1;32m    167\u001b[0m \n\u001b[1;32m    168\u001b[0m \u001b[38;5;124;03m    \"\"\"\u001b[39;00m\n\u001b[0;32m--> 170\u001b[0m     int32min \u001b[38;5;241m=\u001b[39m \u001b[43mnp\u001b[49m\u001b[38;5;241;43m.\u001b[39;49m\u001b[43mint32\u001b[49m\u001b[43m(\u001b[49m\u001b[43mnp\u001b[49m\u001b[38;5;241;43m.\u001b[39;49m\u001b[43miinfo\u001b[49m\u001b[43m(\u001b[49m\u001b[43mnp\u001b[49m\u001b[38;5;241;43m.\u001b[39;49m\u001b[43mint32\u001b[49m\u001b[43m)\u001b[49m\u001b[38;5;241;43m.\u001b[39;49m\u001b[43mmin\u001b[49m\u001b[43m)\u001b[49m\n\u001b[1;32m    171\u001b[0m     int32max \u001b[38;5;241m=\u001b[39m np\u001b[38;5;241m.\u001b[39mint32(np\u001b[38;5;241m.\u001b[39miinfo(np\u001b[38;5;241m.\u001b[39mint32)\u001b[38;5;241m.\u001b[39mmax)\n\u001b[1;32m    173\u001b[0m     \u001b[38;5;66;03m# not using intc directly due to misinteractions with pythran\u001b[39;00m\n",
      "\u001b[0;31mKeyboardInterrupt\u001b[0m: "
     ]
    }
   ],
   "source": [
    "username = 'user_1Pv2iFMy'\n",
    "recommendations_sim = recommend_songs1(username,  user_song_matrix_sparse, user_ids, song_ids,train_df,user_similarity_df)"
   ]
  },
  {
   "cell_type": "markdown",
   "id": "f413af32-eba6-4046-9a4f-5c894a55b7a2",
   "metadata": {},
   "source": [
    "### Limitations of Collaborative Filtering with Similarity Matrix\n",
    "\n",
    "This approach has its limitations:\n",
    "\n",
    "1. **Data Sparsity**:\n",
    "   - **Issue**: Our user-item interaction matrix can be sparse, especially when users only interact with a few items.\n",
    "   - **Impact**: This sparsity can limit the accuracy of our similarity calculations, as we might not have enough data to find truly similar users.\n",
    "\n",
    "2. **High Time Complexity**:\n",
    "   - **Issue**: The recommendation algorithm requires looping through each user and item.\n",
    "   - **Impact**: This can be computationally expensive and time-consuming, especially with large datasets.\n"
   ]
  },
  {
   "cell_type": "markdown",
   "id": "65b2e346",
   "metadata": {},
   "source": [
    "## Justification for N Chosen for Top N Recommendations\n",
    "In our evaluation, we chose to analyze the performance of our recommendation models across various values of N for the top N recommendations. This approach allows us to comprehensively assess how well each model performs when providing different numbers of recommendations to users. <br>\n",
    "\n",
    "By considering multiple values of N (e.g., 5, 10, 15, 20, 25, 30), we can understand the models' effectiveness in various usage scenarios, such as providing a small, focused set of highly relevant recommendations versus offering a broader range of suggestions. <br>\n",
    "\n",
    "Evaluating different Ns also helps in identifying the optimal number of recommendations that balance precision, recall, and user satisfaction, ensuring that our system remains flexible and adaptable to diverse user preferences and requirements. This comprehensive analysis ultimately guides us in fine-tuning our recommendation strategies to enhance user experience and engagement."
   ]
  },
  {
   "cell_type": "markdown",
   "id": "763e5a5a-5309-4d2d-8e7c-051b28ef2122",
   "metadata": {},
   "source": [
    "### Evaluating Content-Based Recommendations\n",
    "\n",
    "In this step, we evaluate the performance of content-based recommendations across different values of N (number of recommendations). For each N value, we calculate the average precision, recall, and F1 score for the selected users. The results are stored in respective lists for further analysis and plotting.\n"
   ]
  },
  {
   "cell_type": "code",
   "execution_count": null,
   "id": "bc081412",
   "metadata": {},
   "outputs": [
    {
     "ename": "NameError",
     "evalue": "name 'cosine_score_matrix' is not defined",
     "output_type": "error",
     "traceback": [
      "\u001b[0;31m---------------------------------------------------------------------------\u001b[0m",
      "\u001b[0;31mNameError\u001b[0m                                 Traceback (most recent call last)",
      "Cell \u001b[0;32mIn[75], line 5\u001b[0m\n\u001b[1;32m      3\u001b[0m average_f1_by_content_based\u001b[38;5;241m=\u001b[39m[]\n\u001b[1;32m      4\u001b[0m \u001b[38;5;28;01mfor\u001b[39;00m i \u001b[38;5;129;01min\u001b[39;00m N_values:\n\u001b[0;32m----> 5\u001b[0m     average_precisions,average_recalls,average_f1\u001b[38;5;241m=\u001b[39mgenerating_score_by_N_by_user(\u001b[43mcosine_score_matrix\u001b[49m,i,users_name)\n\u001b[1;32m      6\u001b[0m     average_precisions_by_content_based\u001b[38;5;241m.\u001b[39mappend(average_precisions)\n\u001b[1;32m      7\u001b[0m     average_recalls_by_content_based\u001b[38;5;241m.\u001b[39mappend(average_recalls)\n",
      "\u001b[0;31mNameError\u001b[0m: name 'cosine_score_matrix' is not defined"
     ]
    }
   ],
   "source": [
    "average_precisions_by_content_based=[]\n",
    "average_recalls_by_content_based=[]\n",
    "average_f1_by_content_based=[]\n",
    "for i in N_values:\n",
    "    average_precisions,average_recalls,average_f1=generating_score_by_N_by_user(cosine_score_matrix,i,users_name)\n",
    "    average_precisions_by_content_based.append(average_precisions)\n",
    "    average_recalls_by_content_based.append(average_recalls)\n",
    "    average_f1_by_content_based.append(average_f1)"
   ]
  },
  {
   "cell_type": "markdown",
   "id": "663786f9-ed7d-41a6-bacc-f41ef15e5ebc",
   "metadata": {},
   "source": [
    "### Evaluating SVD-Based Recommendations\n",
    "\n",
    "In this step, we evaluate the performance of SVD-based recommendations across different values of N (number of recommendations). For each N value, we calculate the average precision, recall, and F1 score for the selected users. The results are stored in respective lists for further analysis and plotting.\n"
   ]
  },
  {
   "cell_type": "code",
   "execution_count": 16,
   "id": "8a5ee6be",
   "metadata": {},
   "outputs": [
    {
     "ename": "NameError",
     "evalue": "name 'N_values' is not defined",
     "output_type": "error",
     "traceback": [
      "\u001b[1;31m---------------------------------------------------------------------------\u001b[0m",
      "\u001b[1;31mNameError\u001b[0m                                 Traceback (most recent call last)",
      "Cell \u001b[1;32mIn[16], line 4\u001b[0m\n\u001b[0;32m      2\u001b[0m average_recalls_by_SVD\u001b[38;5;241m=\u001b[39m[]\n\u001b[0;32m      3\u001b[0m average_f1_by_SVD\u001b[38;5;241m=\u001b[39m[]\n\u001b[1;32m----> 4\u001b[0m \u001b[38;5;28;01mfor\u001b[39;00m i \u001b[38;5;129;01min\u001b[39;00m \u001b[43mN_values\u001b[49m:\n\u001b[0;32m      5\u001b[0m     average_precisions,average_recalls,average_f1\u001b[38;5;241m=\u001b[39mgenerating_score_by_N_by_user(svd_score_matrix,i,users_name)\n\u001b[0;32m      6\u001b[0m     average_precisions_by_SVD\u001b[38;5;241m.\u001b[39mappend(average_precisions)\n",
      "\u001b[1;31mNameError\u001b[0m: name 'N_values' is not defined"
     ]
    }
   ],
   "source": [
    "\n",
    "average_precisions_by_SVD=[]\n",
    "average_recalls_by_SVD=[]\n",
    "average_f1_by_SVD=[]\n",
    "for i in N_values:\n",
    "    average_precisions,average_recalls,average_f1=generating_score_by_N_by_user(svd_score_matrix,i,users_name)\n",
    "    average_precisions_by_SVD.append(average_precisions)\n",
    "    average_recalls_by_SVD.append(average_recalls)\n",
    "    average_f1_by_SVD.append(average_f1)"
   ]
  },
  {
   "cell_type": "markdown",
   "id": "ab4e9d71-0d62-4214-a6f6-9a10c4ebdad7",
   "metadata": {},
   "source": [
    "### Evaluating Hybrid-Based Recommendations\n",
    "\n",
    "In this step, we evaluate the performance of hybrid-based recommendations across different values of N (number of recommendations). For each N value, we calculate the average precision, recall, and F1 score for the selected users. The results are stored in respective lists for further analysis and plotting.\n"
   ]
  },
  {
   "cell_type": "code",
   "execution_count": 17,
   "id": "3b5a1ad3-b861-4116-a511-224483840039",
   "metadata": {},
   "outputs": [
    {
     "ename": "NameError",
     "evalue": "name 'N_values' is not defined",
     "output_type": "error",
     "traceback": [
      "\u001b[1;31m---------------------------------------------------------------------------\u001b[0m",
      "\u001b[1;31mNameError\u001b[0m                                 Traceback (most recent call last)",
      "Cell \u001b[1;32mIn[17], line 4\u001b[0m\n\u001b[0;32m      2\u001b[0m average_recalls_by_hybrid\u001b[38;5;241m=\u001b[39m[]\n\u001b[0;32m      3\u001b[0m average_f1_by_hybrid\u001b[38;5;241m=\u001b[39m[]\n\u001b[1;32m----> 4\u001b[0m \u001b[38;5;28;01mfor\u001b[39;00m i \u001b[38;5;129;01min\u001b[39;00m \u001b[43mN_values\u001b[49m:\n\u001b[0;32m      5\u001b[0m     average_precisions,average_recalls,average_f1\u001b[38;5;241m=\u001b[39mgenerating_score_by_N_by_user(hybrid_score,i,users_name)\n\u001b[0;32m      6\u001b[0m     average_precisions_by_hybrid\u001b[38;5;241m.\u001b[39mappend(average_precisions)\n",
      "\u001b[1;31mNameError\u001b[0m: name 'N_values' is not defined"
     ]
    }
   ],
   "source": [
    "average_precisions_by_hybrid=[]\n",
    "average_recalls_by_hybrid=[]\n",
    "average_f1_by_hybrid=[]\n",
    "for i in N_values:\n",
    "    average_precisions,average_recalls,average_f1=generating_score_by_N_by_user(hybrid_score,i,users_name)\n",
    "    average_precisions_by_hybrid.append(average_precisions)\n",
    "    average_recalls_by_hybrid.append(average_recalls)\n",
    "    average_f1_by_hybrid.append(average_f1)"
   ]
  },
  {
   "cell_type": "markdown",
   "id": "f07d5946-d442-4c7d-a7bd-329bb5b78f77",
   "metadata": {},
   "source": [
    "### Comparing SVD and Hybrid Recommendation Models\n",
    "\n",
    "In this step, we compare the performance of the SVD-based recommendation model and the hybrid recommendation model across different metrics (Precision, Recall, F1 Score) for various values of N (number of recommendations). The results are visualized to understand the effectiveness of each model.\n"
   ]
  },
  {
   "cell_type": "code",
   "execution_count": 18,
   "id": "97565204-e34a-40e7-9bf3-bb2af433ac7b",
   "metadata": {},
   "outputs": [
    {
     "ename": "NameError",
     "evalue": "name 'N_values' is not defined",
     "output_type": "error",
     "traceback": [
      "\u001b[1;31m---------------------------------------------------------------------------\u001b[0m",
      "\u001b[1;31mNameError\u001b[0m                                 Traceback (most recent call last)",
      "Cell \u001b[1;32mIn[18], line 6\u001b[0m\n\u001b[0;32m      4\u001b[0m model_names\u001b[38;5;241m=\u001b[39m[\u001b[38;5;124m\"\u001b[39m\u001b[38;5;124mSVD\u001b[39m\u001b[38;5;124m\"\u001b[39m,\u001b[38;5;124m\"\u001b[39m\u001b[38;5;124mHybrid\u001b[39m\u001b[38;5;124m\"\u001b[39m]\n\u001b[0;32m      5\u001b[0m plot_title\u001b[38;5;241m=\u001b[39m\u001b[38;5;124m\"\u001b[39m\u001b[38;5;124mSVD VS Hybrid\u001b[39m\u001b[38;5;124m\"\u001b[39m\n\u001b[1;32m----> 6\u001b[0m plot_metrics_comparison(\u001b[43mN_values\u001b[49m, model1_scores, model2_scores, metrics, model_names, plot_title)\n",
      "\u001b[1;31mNameError\u001b[0m: name 'N_values' is not defined"
     ]
    }
   ],
   "source": [
    "model1_scores=[average_precisions_by_SVD,average_recalls_by_SVD,average_f1_by_SVD]\n",
    "model2_scores=[average_precisions_by_hybrid,average_recalls_by_hybrid,average_f1_by_hybrid]\n",
    "metrics=['Precision', 'Recall', 'F1 Score']\n",
    "model_names=[\"SVD\",\"Hybrid\"]\n",
    "plot_title=\"SVD VS Hybrid\"\n",
    "plot_metrics_comparison(N_values, model1_scores, model2_scores, metrics, model_names, plot_title)"
   ]
  },
  {
   "cell_type": "markdown",
   "id": "d9c2931a-8712-464d-a1bd-cf6907a97e62",
   "metadata": {},
   "source": [
    "### Comparing Content-Based and Hybrid Recommendation Models\n",
    "\n",
    "In this step, we compare the performance of the content-based recommendation model and the hybrid recommendation model across different metrics (Precision, Recall, F1 Score) for various values of N (number of recommendations). The results are visualized to understand the effectiveness of each model.\n"
   ]
  },
  {
   "cell_type": "code",
   "execution_count": 19,
   "id": "907f0162-110d-4ab3-913e-04c908fad687",
   "metadata": {},
   "outputs": [
    {
     "ename": "NameError",
     "evalue": "name 'average_precisions_by_content_based' is not defined",
     "output_type": "error",
     "traceback": [
      "\u001b[1;31m---------------------------------------------------------------------------\u001b[0m",
      "\u001b[1;31mNameError\u001b[0m                                 Traceback (most recent call last)",
      "Cell \u001b[1;32mIn[19], line 1\u001b[0m\n\u001b[1;32m----> 1\u001b[0m model1_scores\u001b[38;5;241m=\u001b[39m[\u001b[43maverage_precisions_by_content_based\u001b[49m,average_recalls_by_content_based,average_f1_by_content_based]\n\u001b[0;32m      2\u001b[0m model2_scores\u001b[38;5;241m=\u001b[39m[average_precisions_by_hybrid,average_recalls_by_hybrid,average_f1_by_hybrid]\n\u001b[0;32m      3\u001b[0m metrics\u001b[38;5;241m=\u001b[39m[\u001b[38;5;124m'\u001b[39m\u001b[38;5;124mPrecision\u001b[39m\u001b[38;5;124m'\u001b[39m, \u001b[38;5;124m'\u001b[39m\u001b[38;5;124mRecall\u001b[39m\u001b[38;5;124m'\u001b[39m, \u001b[38;5;124m'\u001b[39m\u001b[38;5;124mF1 Score\u001b[39m\u001b[38;5;124m'\u001b[39m]\n",
      "\u001b[1;31mNameError\u001b[0m: name 'average_precisions_by_content_based' is not defined"
     ]
    }
   ],
   "source": [
    "model1_scores=[average_precisions_by_content_based,average_recalls_by_content_based,average_f1_by_content_based]\n",
    "model2_scores=[average_precisions_by_hybrid,average_recalls_by_hybrid,average_f1_by_hybrid]\n",
    "metrics=['Precision', 'Recall', 'F1 Score']\n",
    "model_names=[\"Content-based\",\"Hybrid\"]\n",
    "plot_title=\"Content-based VS Hybrid\"\n",
    "plot_metrics_comparison(N_values, model1_scores, model2_scores, metrics, model_names, plot_title)"
   ]
  },
  {
   "cell_type": "markdown",
   "id": "ed690ed2-73b8-475f-99b3-d82bb16b3e60",
   "metadata": {},
   "source": [
    "### Visualizing SVD and Content-Based Recommendation Models\n",
    "\n",
    "In this step, we visualize the performance of the SVD-based and content-based recommendation models across different metrics (Precision, Recall, F1 Score) for various values of N (number of recommendations). The results are plotted to compare the effectiveness of each model.\n"
   ]
  },
  {
   "cell_type": "code",
   "execution_count": 20,
   "id": "b7e7d32b-c6eb-4275-837b-4a754cc08ca6",
   "metadata": {},
   "outputs": [
    {
     "ename": "NameError",
     "evalue": "name 'average_precisions_by_content_based' is not defined",
     "output_type": "error",
     "traceback": [
      "\u001b[1;31m---------------------------------------------------------------------------\u001b[0m",
      "\u001b[1;31mNameError\u001b[0m                                 Traceback (most recent call last)",
      "Cell \u001b[1;32mIn[20], line 2\u001b[0m\n\u001b[0;32m      1\u001b[0m SVD_full_score\u001b[38;5;241m=\u001b[39m[average_precisions_by_SVD,average_recalls_by_SVD,average_f1_by_SVD]\n\u001b[1;32m----> 2\u001b[0m Content_based_full_score\u001b[38;5;241m=\u001b[39m[\u001b[43maverage_precisions_by_content_based\u001b[49m,average_recalls_by_content_based,average_f1_by_content_based]\n\u001b[0;32m      3\u001b[0m scores_list\u001b[38;5;241m=\u001b[39m[SVD_full_score,Content_based_full_score]\n\u001b[0;32m      4\u001b[0m labels_list\u001b[38;5;241m=\u001b[39m[[\u001b[38;5;124m\"\u001b[39m\u001b[38;5;124mprecisions\u001b[39m\u001b[38;5;124m\"\u001b[39m,\u001b[38;5;124m\"\u001b[39m\u001b[38;5;124mrecalls\u001b[39m\u001b[38;5;124m\"\u001b[39m,\u001b[38;5;124m\"\u001b[39m\u001b[38;5;124mf1\u001b[39m\u001b[38;5;124m\"\u001b[39m],[\u001b[38;5;124m\"\u001b[39m\u001b[38;5;124mprecisions\u001b[39m\u001b[38;5;124m\"\u001b[39m,\u001b[38;5;124m\"\u001b[39m\u001b[38;5;124mrecalls\u001b[39m\u001b[38;5;124m\"\u001b[39m,\u001b[38;5;124m\"\u001b[39m\u001b[38;5;124mf1\u001b[39m\u001b[38;5;124m\"\u001b[39m]]\n",
      "\u001b[1;31mNameError\u001b[0m: name 'average_precisions_by_content_based' is not defined"
     ]
    }
   ],
   "source": [
    "SVD_full_score=[average_precisions_by_SVD,average_recalls_by_SVD,average_f1_by_SVD]\n",
    "Content_based_full_score=[average_precisions_by_content_based,average_recalls_by_content_based,average_f1_by_content_based]\n",
    "scores_list=[SVD_full_score,Content_based_full_score]\n",
    "labels_list=[[\"precisions\",\"recalls\",\"f1\"],[\"precisions\",\"recalls\",\"f1\"]]\n",
    "# starting_tilte=\"Precision, Recall, and F1 Score vs. Number of Recommendations \"\n",
    "plot_titles=[\"SVD\",\"content-based\"]\n",
    "plotting_across_values(N_values, scores_list, labels_list, plot_titles, figsize=(12, 6))"
   ]
  },
  {
   "cell_type": "markdown",
   "id": "74ddeed0-de23-4aaf-8bac-41ad580a57ee",
   "metadata": {},
   "source": [
    "### Comparing Precision@N for Different Recommendation Models\n",
    "\n",
    "In this step, we compare the precision across different recommendation models (SVD, Content-Based, Hybrid) for various values of N (number of recommendations). The results are visualized to understand which model performs best in terms of precision.\n"
   ]
  },
  {
   "cell_type": "code",
   "execution_count": 21,
   "id": "9d38d0c2-30b9-4964-bf1f-ce57934080a9",
   "metadata": {},
   "outputs": [
    {
     "ename": "NameError",
     "evalue": "name 'average_precisions_by_content_based' is not defined",
     "output_type": "error",
     "traceback": [
      "\u001b[1;31m---------------------------------------------------------------------------\u001b[0m",
      "\u001b[1;31mNameError\u001b[0m                                 Traceback (most recent call last)",
      "Cell \u001b[1;32mIn[21], line 1\u001b[0m\n\u001b[1;32m----> 1\u001b[0m Models_precision\u001b[38;5;241m=\u001b[39m[average_precisions_by_SVD,\u001b[43maverage_precisions_by_content_based\u001b[49m,average_precisions_by_hybrid]\n\u001b[0;32m      2\u001b[0m scores_list\u001b[38;5;241m=\u001b[39m[Models_precision]\n\u001b[0;32m      3\u001b[0m labels_list\u001b[38;5;241m=\u001b[39m[[\u001b[38;5;124m\"\u001b[39m\u001b[38;5;124mSVD\u001b[39m\u001b[38;5;124m\"\u001b[39m,\u001b[38;5;124m\"\u001b[39m\u001b[38;5;124mContent-based\u001b[39m\u001b[38;5;124m\"\u001b[39m,\u001b[38;5;124m\"\u001b[39m\u001b[38;5;124mHybrid\u001b[39m\u001b[38;5;124m\"\u001b[39m]]\n",
      "\u001b[1;31mNameError\u001b[0m: name 'average_precisions_by_content_based' is not defined"
     ]
    }
   ],
   "source": [
    "Models_precision=[average_precisions_by_SVD,average_precisions_by_content_based,average_precisions_by_hybrid]\n",
    "scores_list=[Models_precision]\n",
    "labels_list=[[\"SVD\",\"Content-based\",\"Hybrid\"]]\n",
    "plot_titles=[\"Models Comparision by Precision@N \"]\n",
    "plotting_across_values(N_values, scores_list, labels_list, plot_titles, figsize=(12, 6))"
   ]
  },
  {
   "cell_type": "markdown",
   "id": "1fc62229-c9b6-4978-9b82-ba4fc4c3b540",
   "metadata": {},
   "source": [
    "### Comparing Recall@N for Different Recommendation Models\n",
    "\n",
    "In this step, we compare the recall across different recommendation models (SVD, Content-Based, Hybrid) for various values of N (number of recommendations). The results are visualized to understand which model performs best in terms of recall.\n"
   ]
  },
  {
   "cell_type": "code",
   "execution_count": 22,
   "id": "603c3844-2006-421d-ad2a-dbb8007e493e",
   "metadata": {},
   "outputs": [
    {
     "ename": "NameError",
     "evalue": "name 'average_recalls_by_content_based' is not defined",
     "output_type": "error",
     "traceback": [
      "\u001b[1;31m---------------------------------------------------------------------------\u001b[0m",
      "\u001b[1;31mNameError\u001b[0m                                 Traceback (most recent call last)",
      "Cell \u001b[1;32mIn[22], line 1\u001b[0m\n\u001b[1;32m----> 1\u001b[0m Models_recalls\u001b[38;5;241m=\u001b[39m[average_recalls_by_SVD,\u001b[43maverage_recalls_by_content_based\u001b[49m,average_recalls_by_hybrid]\n\u001b[0;32m      2\u001b[0m scores_list\u001b[38;5;241m=\u001b[39m[Models_recalls]\n\u001b[0;32m      3\u001b[0m labels_list\u001b[38;5;241m=\u001b[39m[[\u001b[38;5;124m\"\u001b[39m\u001b[38;5;124mSVD\u001b[39m\u001b[38;5;124m\"\u001b[39m,\u001b[38;5;124m\"\u001b[39m\u001b[38;5;124mContent-based\u001b[39m\u001b[38;5;124m\"\u001b[39m,\u001b[38;5;124m\"\u001b[39m\u001b[38;5;124mHybrid\u001b[39m\u001b[38;5;124m\"\u001b[39m]]\n",
      "\u001b[1;31mNameError\u001b[0m: name 'average_recalls_by_content_based' is not defined"
     ]
    }
   ],
   "source": [
    "Models_recalls=[average_recalls_by_SVD,average_recalls_by_content_based,average_recalls_by_hybrid]\n",
    "scores_list=[Models_recalls]\n",
    "labels_list=[[\"SVD\",\"Content-based\",\"Hybrid\"]]\n",
    "plot_titles=[\"Models Comparision by Recall@N \"]\n",
    "plotting_across_values(N_values, scores_list, labels_list, plot_titles, figsize=(12, 6))"
   ]
  },
  {
   "cell_type": "markdown",
   "id": "47a5040f-5fc6-4e69-b21d-6519d10828a3",
   "metadata": {},
   "source": [
    "### Comparing F1-Score@N for Different Recommendation Models\n",
    "\n",
    "In this step, we compare the F1-score across different recommendation models (SVD, Content-Based, Hybrid) for various values of N (number of recommendations). The results are visualized to understand which model performs best in terms of F1-score.\n"
   ]
  },
  {
   "cell_type": "code",
   "execution_count": 23,
   "id": "776c3ea5-4f9a-4be8-a682-73bbc279c4f6",
   "metadata": {},
   "outputs": [
    {
     "ename": "NameError",
     "evalue": "name 'average_f1_by_content_based' is not defined",
     "output_type": "error",
     "traceback": [
      "\u001b[1;31m---------------------------------------------------------------------------\u001b[0m",
      "\u001b[1;31mNameError\u001b[0m                                 Traceback (most recent call last)",
      "Cell \u001b[1;32mIn[23], line 1\u001b[0m\n\u001b[1;32m----> 1\u001b[0m Models_f1\u001b[38;5;241m=\u001b[39m[average_f1_by_SVD,\u001b[43maverage_f1_by_content_based\u001b[49m,average_f1_by_hybrid]\n\u001b[0;32m      2\u001b[0m scores_list\u001b[38;5;241m=\u001b[39m[Models_f1]\n\u001b[0;32m      3\u001b[0m labels_list\u001b[38;5;241m=\u001b[39m[[\u001b[38;5;124m\"\u001b[39m\u001b[38;5;124mSVD\u001b[39m\u001b[38;5;124m\"\u001b[39m,\u001b[38;5;124m\"\u001b[39m\u001b[38;5;124mContent-based\u001b[39m\u001b[38;5;124m\"\u001b[39m,\u001b[38;5;124m\"\u001b[39m\u001b[38;5;124mHybrid\u001b[39m\u001b[38;5;124m\"\u001b[39m]]\n",
      "\u001b[1;31mNameError\u001b[0m: name 'average_f1_by_content_based' is not defined"
     ]
    }
   ],
   "source": [
    "Models_f1=[average_f1_by_SVD,average_f1_by_content_based,average_f1_by_hybrid]\n",
    "scores_list=[Models_f1]\n",
    "labels_list=[[\"SVD\",\"Content-based\",\"Hybrid\"]]\n",
    "plot_titles=[\"Models Comparision by F1-score@N \"]\n",
    "plotting_across_values(N_values, scores_list, labels_list, plot_titles, figsize=(12, 6))"
   ]
  },
  {
   "cell_type": "markdown",
   "id": "c95f5b37-49d0-49e9-a4e7-8e5b50ed9d0c",
   "metadata": {},
   "source": [
    "### Conclusion\n",
    "\n",
    "1. **Both Models Have Higher Precisions When N is Small**:\n",
    "   - Precision is generally higher for both models when the number of recommendations (N) is small.\n",
    "\n",
    "2. **SVD Performs Better Than Content-Based Method**:\n",
    "   - The SVD model consistently outperforms the content-based method across different metrics.\n",
    "\n",
    "3. **SVD Outperforms the Hybrid Model**:\n",
    "   - While the hybrid model benefits from integrating content features to provide additional context, it doesn't quite reach the precision of SVD alone. This is likely because the averaging process may dilute the strength of the latent features identified by SVD.\n"
   ]
  },
  {
   "cell_type": "code",
   "execution_count": null,
   "id": "0495ae08",
   "metadata": {},
   "outputs": [],
   "source": [
    "# Install necessary libraries\n",
    "!pip install spotipy surprise\n",
    "\n",
    "import spotipy\n",
    "from spotipy.oauth2 import SpotifyOAuth\n",
    "import pandas as pd\n",
    "import numpy as np\n",
    "from surprise import Reader, Dataset, SVD, accuracy\n",
    "from surprise.model_selection import train_test_split as surprise_train_test_split\n",
    "from collections import Counter, defaultdict\n",
    "from scipy.sparse import csr_matrix\n",
    "from scipy.sparse.linalg import svds\n",
    "from sklearn.metrics.pairwise import cosine_similarity\n",
    "import matplotlib.pyplot as plt\n",
    "import seaborn as sns\n",
    "import time\n",
    "\n",
    "# Replace these with your actual Spotify credentials\n",
    "SPOTIPY_CLIENT_ID = 'your_spotify_client_id'\n",
    "SPOTIPY_CLIENT_SECRET = 'your_spotify_client_secret'\n",
    "SPOTIPY_REDIRECT_URI = 'your_redirect_uri'\n",
    "\n",
    "def setup_and_retrieve_spotify_data(client_id, client_secret, redirect_uri):\n",
    "    # Set up the Spotify API credentials\n",
    "    sp_oauth = SpotifyOAuth(client_id=client_id,\n",
    "                            client_secret=client_secret,\n",
    "                            redirect_uri=redirect_uri,\n",
    "                            scope=\"user-library-read user-read-recently-played\")\n",
    "\n",
    "    # Get the access token\n",
    "    token_info = sp_oauth.get_access_token()\n",
    "    access_token = token_info['access_token']\n",
    "\n",
    "    # Create an instance of the Spotify client\n",
    "    sp = spotipy.Spotify(auth=access_token)\n",
    "\n",
    "    # Get recently played tracks\n",
    "    results = sp.current_user_recently_played(limit=50)\n",
    "    recent_tracks = results['items']\n",
    "\n",
    "    # Extract relevant information\n",
    "    listening_history = []\n",
    "    for item in recent_tracks:\n",
    "        track = item['track']\n",
    "        listening_history.append({\n",
    "            'track_name': track['name'],\n",
    "            'artist': track['artists'][0]['name'],\n",
    "            'album': track['album']['name'],\n",
    "            'played_at': item['played_at']\n",
    "        })\n",
    "\n",
    "    # Convert to DataFrame for easier manipulation\n",
    "    listening_history_df = pd.DataFrame(listening_history)\n",
    "    \n",
    "    return listening_history_df\n",
    "\n",
    "listening_history_df = setup_and_retrieve_spotify_data(SPOTIPY_CLIENT_ID, SPOTIPY_CLIENT_SECRET, SPOTIPY_REDIRECT_URI)\n",
    "def generating_SVD_score(train_df, user_to_index, song_to_index, user_ids, song_ids, mask_matrix_SVD):\n",
    "    # Create sparse user-item matrix\n",
    "    start = time.time()\n",
    "    row = [user_to_index[user] for user in train_df['user']]\n",
    "    col = [song_to_index[song] for song in train_df['song']]\n",
    "    data = np.ones(len(train_df))\n",
    "    user_item_matrix = csr_matrix((data, (row, col)), shape=(len(user_ids), len(song_ids)))\n",
    "    print(f\"Creating user-item matrix took {time.time() - start:.2f} seconds\")\n",
    "\n",
    "    # Perform SVD\n",
    "    start = time.time()\n",
    "    num_factors = 100\n",
    "    U, s, Vt = svds(user_item_matrix, k=num_factors)\n",
    "    user_features = U.dot(np.diag(s))\n",
    "    item_features = Vt.T\n",
    "    print(f\"Performing SVD took {time.time() - start:.2f} seconds\")\n",
    "\n",
    "    # Calculate SVD scores\n",
    "    start = time.time()\n",
    "    svd_score_matrix = np.dot(user_features, item_features.T)\n",
    "    def scale_matrix(matrix, min_desired=0.01, max_desired=1):\n",
    "        min_val = np.min(matrix)\n",
    "        max_val = np.max(matrix)\n",
    "        \n",
    "        scaled = (matrix - min_val) / (max_val - min_val)\n",
    "        return scaled * (max_desired - min_desired) + min_desired\n",
    "    svd_score_matrix = scale_matrix(svd_score_matrix)\n",
    "\n",
    "    # Apply the mask to the SVD score matrix\n",
    "    filtered_svd_score_matrix = svd_score_matrix * mask_matrix_SVD\n",
    "    print(f\"Filtering SVD took {time.time() - start:.2f} seconds\")\n",
    "\n",
    "    return filtered_svd_score_matrix\n",
    "def create_user_song_mappings(train_df):\n",
    "    user_ids = train_df['user'].unique()\n",
    "    song_ids = train_df['song'].unique()\n",
    "    user_to_index = {user: idx for idx, user in enumerate(user_ids)}\n",
    "    song_to_index = {song: idx for idx, song in enumerate(song_ids)}\n",
    "    return user_ids, song_ids, user_to_index, song_to_index\n",
    "\n",
    "def constructing_mask_matrix_for_filtering_recommendation(train_df, user_to_index, song_to_index, user_ids, song_ids):\n",
    "    num_users = len(user_ids)\n",
    "    num_songs = len(song_ids)\n",
    "    \n",
    "    # Initialize the mask matrix with ones\n",
    "    mask_matrix = np.ones((num_users, num_songs))\n",
    "    \n",
    "    # Get unique user-song combinations from train_df\n",
    "    user_song_combinations = train_df[['user', 'song']].drop_duplicates().reset_index(drop=True)\n",
    "    user_song_tuples = list(user_song_combinations.itertuples(index=False, name=None))\n",
    "    \n",
    "    # Update the mask matrix based on user-song interactions\n",
    "    for user, song in user_song_tuples:\n",
    "        if user in user_to_index and song in song_to_index:\n",
    "            user_idx = user_to_index[user]\n",
    "            song_idx = song_to_index[song]\n",
    "            mask_matrix[user_idx, song_idx] = 0\n",
    "    \n",
    "    return mask_matrix\n",
    "def precision(recommended_items, relevant_items):\n",
    "    if len(recommended_items) == 0:\n",
    "        return 0.0\n",
    "    relevant_set = set(relevant_items)\n",
    "    recommended_set = set(recommended_items)\n",
    "    intersection_count = len(recommended_set & relevant_set) \n",
    "    return intersection_count / len(recommended_items)\n",
    "\n",
    "def recall(recommended_items, relevant_items):\n",
    "    if len(relevant_items) == 0:\n",
    "        return 0.0\n",
    "    relevant_set = set(relevant_items)\n",
    "    recommended_set = set(recommended_items)\n",
    "    intersection_count = len(recommended_set.intersection(relevant_set))\n",
    "    return intersection_count / len(relevant_items)\n",
    "\n",
    "def f1_score(precision, recall):\n",
    "    if precision + recall == 0:\n",
    "        return 0.0\n",
    "    return 2 * (precision * recall) / (precision + recall)\n",
    "def recommend_songs_svd(user_index, song_index, svd_score_matrix, user_name, num_recommendations=30):\n",
    "    user_idx = user_index[user_name]\n",
    "    user_scores = svd_score_matrix[user_idx]\n",
    "    top_songs_indices = np.argsort(-user_scores)[:num_recommendations]\n",
    "    top_songs = [list(song_index.keys())[i] for i in top_songs_indices]\n",
    "    return top_songs\n",
    "\n",
    "def evaluate_recommendations(listening_history_df, svd_score_matrix, user_index, song_index):\n",
    "    users_name = listening_history_df['user'].unique()\n",
    "    N_values = [5, 10, 15, 20, 25, 30]\n",
    "\n",
    "    average_precisions_by_svd = []\n",
    "    average_recalls_by_svd = []\n",
    "    average_f1_by_svd = []\n",
    "\n",
    "    for n in N_values:\n",
    "        precisions = []\n",
    "        recalls = []\n",
    "        f1_scores = []\n",
    "        \n",
    "        for user_name in users_name:\n",
    "            recommended_items = recommend_songs_svd(user_index, song_index, svd_score_matrix, user_name, num_recommendations=n)\n",
    "            relevant_items = listening_history_df[listening_history_df['user'] == user_name]['song'].tolist()\n",
    "            \n",
    "            prec = precision(recommended_items, relevant_items)\n",
    "            rec = recall(recommended_items, relevant_items)\n",
    "            \n",
    "            precisions.append(prec)\n",
    "            recalls.append(rec)\n",
    "            f1_scores.append(f1_score(prec, rec))\n",
    "        \n",
    "        average_precisions_by_svd.append(sum(precisions) / len(precisions))\n",
    "        average_recalls_by_svd.append(sum(recalls) / len(recalls))\n",
    "        average_f1_by_svd.append(sum(f1_scores) / len(f1_scores))\n",
    "\n",
    "    return N_values, average_precisions_by_svd, average_recalls_by_svd, average_f1_by_svd\n",
    "# Assuming you have the training data in train_df\n",
    "train_df = pd.DataFrame({\n",
    "    'user': ['user1', 'user2', 'user3', 'user1', 'user2', 'user3'],\n",
    "    'song': ['song1', 'song2', 'song3', 'song4', 'song5', 'song6']\n",
    "})\n",
    "\n",
    "# Create user and song mappings\n",
    "user_ids, song_ids, user_to_index, song_to_index = create_user_song_mappings(train_df)\n",
    "\n",
    "# Construct mask matrix\n",
    "mask_matrix_SVD = constructing_mask_matrix_for_filtering_recommendation(train_df, user_to_index, song_to_index, user_ids, song_ids)\n",
    "\n",
    "# Generate SVD scores\n",
    "svd_score_matrix = generating_SVD_score(train_df, user_to_index, song_to_index, user_ids, song_ids, mask_matrix_SVD)\n",
    "\n",
    "# Evaluate recommendations\n",
    "N_values, average_precisions_by_svd, average_recalls_by_svd, average_f1_by_svd = evaluate_recommendations(listening_history_df, svd_score_matrix, user_to_index, song_to_index)\n",
    "\n",
    "# Print evaluation results\n",
    "print(\"Evaluation results for SVD-based recommendations:\")\n",
    "print(\"N values:\", N_values)\n",
    "print(\"Precisions:\", average_precisions_by_svd)\n",
    "print(\"Recalls:\", average_recalls_by_svd)\n",
    "print(\"F1 Scores:\", average_f1_by_svd)\n"
   ]
  },
  {
   "cell_type": "markdown",
   "id": "cec9e872",
   "metadata": {},
   "source": [
    "## **Part 5 : Real User Evaluation**"
   ]
  },
  {
   "cell_type": "markdown",
   "id": "8d3e09b0",
   "metadata": {},
   "source": [
    "## Steps Taken:\n",
    "### Data Collection:\n",
    "\n",
    "* **Spotify Integration:** We integrated the Spotify API to retrieve the user's listening history. This involved setting up OAuth2 authentication to access the user's recent played tracks and their metadata. <br>\n",
    "* **Data Extraction:** We extracted relevant information from the Spotify API, including the track name, artist, album, and the time the track was played.\n",
    "\n",
    "### Data Preparation:\n",
    "\n",
    "* **Training Data:** We used the real user's listening history as the training dataset.\n",
    "* **User and Song Mappings:** We created mappings for user IDs and song IDs to integer indices to facilitate matrix operations.\n",
    "* **Mask Matrix Construction:** A mask matrix was constructed to identify and filter out known user-song interactions, ensuring that recommendations are based on new interactions.\n",
    "### Model Building:\n",
    "\n",
    "* **SVD Application:** We applied SVD to the user-item interaction matrix to reduce dimensionality and uncover latent features representing user preferences and item attributes.\n",
    "* **Score Calculation:** We calculated predicted scores for each user-song pair using the SVD components.\n",
    "### Recommendation Generation:\n",
    "\n",
    "* **Top-N Recommendations:** For each user, we generated top-N song recommendations by selecting the songs with the highest predicted scores.\n",
    "* **Evaluation:** We evaluated the recommendations using precision, recall, and F1 score metrics.\n",
    "\n",
    "### Evaluation Results:\n",
    "\n",
    "* The system was evaluated at different recommendation list lengths **(N = 5, 10, 15, 20, 25, 30)**. The results showed high precision and steadily increasing recall and F1 scores as the number of recommendations increased."
   ]
  },
  {
   "cell_type": "code",
   "execution_count": null,
   "id": "f033f827",
   "metadata": {},
   "outputs": [],
   "source": [
    "# Install necessary libraries\n",
    "!pip install spotipy surprise"
   ]
  },
  {
   "cell_type": "code",
   "execution_count": 3,
   "id": "ac581339",
   "metadata": {},
   "outputs": [
    {
     "name": "stdout",
     "output_type": "stream",
     "text": [
      "Creating user-item matrix took 0.00 seconds\n",
      "Performing SVD took 0.00 seconds\n",
      "Filtering SVD took 0.00 seconds\n",
      "Evaluation results for SVD-based recommendations:\n",
      "N values: [5, 10, 15, 20, 25, 30]\n",
      "Precisions: [1.0, 1.0, 1.0, 1.0, 1.0, 1.0]\n",
      "Recalls: [0.1, 0.2, 0.3, 0.4, 0.5, 0.6]\n",
      "F1 Scores: [0.18181818181818182, 0.33333333333333337, 0.4615384615384615, 0.5714285714285715, 0.6666666666666666, 0.7499999999999999]\n",
      "\n",
      "Recommended songs for current_user:\n",
      "Top 5 recommendations: ['As It Was', 'Like That', 'Looking for Knives', 'i wanna be your girlfriend', 'better off']\n",
      "Top 10 recommendations: ['As It Was', 'Like That', 'Looking for Knives', 'i wanna be your girlfriend', 'better off', 'Love Yourself', 'Lose Control', 'Spring Snow', 'Keep That to Yourself', 'Locked Away (feat. Adam Levine)']\n",
      "Top 15 recommendations: ['As It Was', 'Like That', 'Looking for Knives', 'i wanna be your girlfriend', 'better off', 'Love Yourself', 'Lose Control', 'Spring Snow', 'Keep That to Yourself', 'Locked Away (feat. Adam Levine)', 'rocket science', 'Talk to me nice', 'Roz', 'Sparks', \"All Too Well (10 Minute Version) (Taylor's Version) (From The Vault)\"]\n",
      "Top 20 recommendations: ['As It Was', 'Like That', 'Looking for Knives', 'i wanna be your girlfriend', 'better off', 'Love Yourself', 'Lose Control', 'Spring Snow', 'Keep That to Yourself', 'Locked Away (feat. Adam Levine)', 'rocket science', 'Talk to me nice', 'Roz', 'Sparks', \"All Too Well (10 Minute Version) (Taylor's Version) (From The Vault)\", \"we can't be friends (wait for your love)\", 'Falling Slowly', 'Hymn for the Weekend', 'Who You Really Are', 'Big Dawgs']\n",
      "Top 25 recommendations: ['As It Was', 'Like That', 'Looking for Knives', 'i wanna be your girlfriend', 'better off', 'Love Yourself', 'Lose Control', 'Spring Snow', 'Keep That to Yourself', 'Locked Away (feat. Adam Levine)', 'rocket science', 'Talk to me nice', 'Roz', 'Sparks', \"All Too Well (10 Minute Version) (Taylor's Version) (From The Vault)\", \"we can't be friends (wait for your love)\", 'Falling Slowly', 'Hymn for the Weekend', 'Who You Really Are', 'Big Dawgs', 'Gone, Gone, Gone', 'Formula', 'Lover', 'TKN (feat. Travis Scott)', 'CARNIVAL']\n",
      "Top 30 recommendations: ['As It Was', 'Like That', 'Looking for Knives', 'i wanna be your girlfriend', 'better off', 'Love Yourself', 'Lose Control', 'Spring Snow', 'Keep That to Yourself', 'Locked Away (feat. Adam Levine)', 'rocket science', 'Talk to me nice', 'Roz', 'Sparks', \"All Too Well (10 Minute Version) (Taylor's Version) (From The Vault)\", \"we can't be friends (wait for your love)\", 'Falling Slowly', 'Hymn for the Weekend', 'Who You Really Are', 'Big Dawgs', 'Gone, Gone, Gone', 'Formula', 'Lover', 'TKN (feat. Travis Scott)', 'CARNIVAL', 'The King', 'The Middle', 'Nadaan Parinde', 'Gul', 'Watch Me Burn']\n"
     ]
    }
   ],
   "source": [
    "\n",
    "\n",
    "import spotipy\n",
    "from spotipy.oauth2 import SpotifyOAuth\n",
    "import pandas as pd\n",
    "import numpy as np\n",
    "from surprise import Reader, Dataset, SVD, accuracy\n",
    "from surprise.model_selection import train_test_split as surprise_train_test_split\n",
    "from collections import Counter, defaultdict\n",
    "from scipy.sparse import csr_matrix\n",
    "from scipy.sparse.linalg import svds\n",
    "from sklearn.metrics.pairwise import cosine_similarity\n",
    "import matplotlib.pyplot as plt\n",
    "import seaborn as sns\n",
    "import time\n",
    "import os\n",
    "\n",
    "# Replace these with your actual Spotify credentials\n",
    "SPOTIPY_CLIENT_ID = '8cdd489b24244a04963f68f496fea48b'\n",
    "SPOTIPY_CLIENT_SECRET = 'f8289994d8b0480dbbf0cfc1a908ade2'\n",
    "SPOTIPY_REDIRECT_URI = 'http://localhost:8888/callback'\n",
    "\n",
    "def setup_and_retrieve_spotify_data(client_id, client_secret, redirect_uri):\n",
    "    # Set up the Spotify API credentials with token caching\n",
    "    cache_path = '.cache'\n",
    "    sp_oauth = SpotifyOAuth(client_id=client_id,\n",
    "                            client_secret=client_secret,\n",
    "                            redirect_uri=redirect_uri,\n",
    "                            scope=\"user-library-read user-read-recently-played\",\n",
    "                            cache_path=cache_path)\n",
    "\n",
    "    # Get the access token\n",
    "    token_info = sp_oauth.get_cached_token()\n",
    "    if not token_info:\n",
    "        auth_url = sp_oauth.get_authorize_url()\n",
    "        print(f'Please navigate here: {auth_url}')\n",
    "        response = input('Enter the URL you were redirected to: ')\n",
    "        code = sp_oauth.parse_response_code(response)\n",
    "        token_info = sp_oauth.get_access_token(code)\n",
    "    \n",
    "    access_token = token_info['access_token']\n",
    "\n",
    "    # Create an instance of the Spotify client\n",
    "    sp = spotipy.Spotify(auth=access_token)\n",
    "\n",
    "    # Get recently played tracks\n",
    "    results = sp.current_user_recently_played(limit=50)\n",
    "    recent_tracks = results['items']\n",
    "\n",
    "    # Extract relevant information\n",
    "    listening_history = []\n",
    "    for item in recent_tracks:\n",
    "        track = item['track']\n",
    "        listening_history.append({\n",
    "            'user': 'current_user',  # Use a placeholder for user since Spotify API returns only the current user's data\n",
    "            'song': track['name'],\n",
    "            'artist': track['artists'][0]['name'],\n",
    "            'album': track['album']['name'],\n",
    "            'played_at': item['played_at']\n",
    "        })\n",
    "\n",
    "    # Convert to DataFrame for easier manipulation\n",
    "    listening_history_df = pd.DataFrame(listening_history)\n",
    "    \n",
    "    return listening_history_df\n",
    "\n",
    "listening_history_df = setup_and_retrieve_spotify_data(SPOTIPY_CLIENT_ID, SPOTIPY_CLIENT_SECRET, SPOTIPY_REDIRECT_URI)\n",
    "\n",
    "def generating_SVD_score(train_df, user_to_index, song_to_index, user_ids, song_ids, mask_matrix_SVD):\n",
    "    # Create sparse user-item matrix\n",
    "    start = time.time()\n",
    "    row = [user_to_index[user] for user in train_df['user']]\n",
    "    col = [song_to_index[song] for song in train_df['song']]\n",
    "    data = np.ones(len(train_df))\n",
    "    user_item_matrix = csr_matrix((data, (row, col)), shape=(len(user_ids), len(song_ids)))\n",
    "    print(f\"Creating user-item matrix took {time.time() - start:.2f} seconds\")\n",
    "\n",
    "    # Perform SVD\n",
    "    start = time.time()\n",
    "    num_factors = min(user_item_matrix.shape) - 1  # Adjust num_factors to be less than the smallest dimension\n",
    "    U, s, Vt = svds(user_item_matrix, k=num_factors)\n",
    "    user_features = U.dot(np.diag(s))\n",
    "    item_features = Vt.T\n",
    "    print(f\"Performing SVD took {time.time() - start:.2f} seconds\")\n",
    "\n",
    "    # Calculate SVD scores\n",
    "    start = time.time()\n",
    "    svd_score_matrix = np.dot(user_features, item_features.T)\n",
    "    def scale_matrix(matrix, min_desired=0.01, max_desired=1):\n",
    "        min_val = np.min(matrix)\n",
    "        max_val = np.max(matrix)\n",
    "        \n",
    "        scaled = (matrix - min_val) / (max_val - min_val)\n",
    "        return scaled * (max_desired - min_desired) + min_desired\n",
    "    svd_score_matrix = scale_matrix(svd_score_matrix)\n",
    "\n",
    "    # Apply the mask to the SVD score matrix\n",
    "    filtered_svd_score_matrix = svd_score_matrix * mask_matrix_SVD\n",
    "    print(f\"Filtering SVD took {time.time() - start:.2f} seconds\")\n",
    "\n",
    "    return filtered_svd_score_matrix\n",
    "\n",
    "def create_user_song_mappings(train_df, listening_history_df):\n",
    "    user_ids = train_df['user'].unique().tolist()\n",
    "    song_ids = train_df['song'].unique().tolist()\n",
    "    \n",
    "    # Add 'current_user' and their songs to the mappings\n",
    "    user_ids.append('current_user')\n",
    "    song_ids.extend(listening_history_df['song'].unique())\n",
    "    song_ids = list(set(song_ids))  # Ensure unique song names\n",
    "    \n",
    "    user_to_index = {user: idx for idx, user in enumerate(user_ids)}\n",
    "    song_to_index = {song: idx for idx, song in enumerate(song_ids)}\n",
    "    \n",
    "    return user_ids, song_ids, user_to_index, song_to_index\n",
    "\n",
    "def constructing_mask_matrix_for_filtering_recommendation(train_df, user_to_index, song_to_index, user_ids, song_ids):\n",
    "    num_users = len(user_ids)\n",
    "    num_songs = len(song_ids)\n",
    "    \n",
    "    # Initialize the mask matrix with ones\n",
    "    mask_matrix = np.ones((num_users, num_songs))\n",
    "    \n",
    "    # Get unique user-song combinations from train_df\n",
    "    user_song_combinations = train_df[['user', 'song']].drop_duplicates().reset_index(drop=True)\n",
    "    user_song_tuples = list(user_song_combinations.itertuples(index=False, name=None))\n",
    "    \n",
    "    # Update the mask matrix based on user-song interactions\n",
    "    for user, song in user_song_tuples:\n",
    "        if user in user_to_index and song in song_to_index:\n",
    "            user_idx = user_to_index[user]\n",
    "            song_idx = song_to_index[song]\n",
    "            mask_matrix[user_idx, song_idx] = 0\n",
    "    \n",
    "    return mask_matrix\n",
    "\n",
    "def precision(recommended_items, relevant_items):\n",
    "    if len(recommended_items) == 0:\n",
    "        return 0.0\n",
    "    relevant_set = set(relevant_items)\n",
    "    recommended_set = set(recommended_items)\n",
    "    intersection_count = len(recommended_set & relevant_set)\n",
    "    return intersection_count / len(recommended_items)\n",
    "\n",
    "def recall(recommended_items, relevant_items):\n",
    "    if len(relevant_items) == 0:\n",
    "        return 0.0\n",
    "    relevant_set = set(relevant_items)\n",
    "    recommended_set = set(recommended_items)\n",
    "    intersection_count = len(recommended_set.intersection(relevant_set))\n",
    "    return intersection_count / len(relevant_items)\n",
    "\n",
    "def f1_score(precision, recall):\n",
    "    if precision + recall == 0:\n",
    "        return 0.0\n",
    "    return 2 * (precision * recall) / (precision + recall)\n",
    "\n",
    "def recommend_songs_svd(user_index, song_index, svd_score_matrix, user_name, num_recommendations=30):\n",
    "    user_idx = user_index[user_name]\n",
    "    user_scores = svd_score_matrix[user_idx]\n",
    "    top_songs_indices = np.argsort(-user_scores)[:num_recommendations]\n",
    "    top_songs = [list(song_index.keys())[i] for i in top_songs_indices]\n",
    "    return top_songs\n",
    "\n",
    "def evaluate_recommendations(listening_history_df, svd_score_matrix, user_index, song_index):\n",
    "    users_name = listening_history_df['user'].unique()\n",
    "    N_values = [5, 10, 15, 20, 25, 30]\n",
    "\n",
    "    average_precisions_by_svd = []\n",
    "    average_recalls_by_svd = []\n",
    "    average_f1_by_svd = []\n",
    "    recommended_songs = {}\n",
    "\n",
    "    for n in N_values:\n",
    "        precisions = []\n",
    "        recalls = []\n",
    "        f1_scores = []\n",
    "        \n",
    "        for user_name in users_name:\n",
    "            recommended_items = recommend_songs_svd(user_index, song_index, svd_score_matrix, user_name, num_recommendations=n)\n",
    "            relevant_items = listening_history_df[listening_history_df['user'] == user_name]['song'].tolist()\n",
    "            \n",
    "            prec = precision(recommended_items, relevant_items)\n",
    "            rec = recall(recommended_items, relevant_items)\n",
    "            \n",
    "            precisions.append(prec)\n",
    "            recalls.append(rec)\n",
    "            f1_scores.append(f1_score(prec, rec))\n",
    "            \n",
    "            if user_name not in recommended_songs:\n",
    "                recommended_songs[user_name] = {}\n",
    "            recommended_songs[user_name][n] = recommended_items\n",
    "        \n",
    "        average_precisions_by_svd.append(sum(precisions) / len(precisions))\n",
    "        average_recalls_by_svd.append(sum(recalls) / len(recalls))\n",
    "        average_f1_by_svd.append(sum(f1_scores) / len(f1_scores))\n",
    "\n",
    "    return N_values, average_precisions_by_svd, average_recalls_by_svd, average_f1_by_svd, recommended_songs\n",
    "\n",
    "# Combine the training data with the listening history to ensure consistency\n",
    "train_df = listening_history_df.copy()\n",
    "\n",
    "# Create user and song mappings\n",
    "user_ids, song_ids, user_to_index, song_to_index = create_user_song_mappings(train_df, listening_history_df)\n",
    "\n",
    "# Construct mask matrix\n",
    "mask_matrix_SVD = constructing_mask_matrix_for_filtering_recommendation(train_df, user_to_index, song_to_index, user_ids, song_ids)\n",
    "\n",
    "# Generate SVD score matrix\n",
    "svd_score_matrix = generating_SVD_score(train_df, user_to_index, song_to_index, user_ids, song_ids, mask_matrix_SVD)\n",
    "\n",
    "# Evaluate recommendations\n",
    "N_values, average_precisions_by_svd, average_recalls_by_svd, average_f1_by_svd, recommended_songs = evaluate_recommendations(listening_history_df, svd_score_matrix, user_to_index, song_to_index)\n",
    "\n",
    "# Print evaluation results\n",
    "print(\"Evaluation results for SVD-based recommendations:\")\n",
    "print(\"N values:\", N_values)\n",
    "print(\"Precisions:\", average_precisions_by_svd)\n",
    "print(\"Recalls:\", average_recalls_by_svd)\n",
    "print(\"F1 Scores:\", average_f1_by_svd)\n",
    "\n",
    "# Print recommended songs for each user\n",
    "for user, recommendations in recommended_songs.items():\n",
    "    print(f\"\\nRecommended songs for {user}:\")\n",
    "    for n, songs in recommendations.items():\n",
    "        print(f\"Top {n} recommendations: {songs}\")\n"
   ]
  },
  {
   "cell_type": "markdown",
   "id": "dbfa8a6f",
   "metadata": {},
   "source": [
    "### User Feedback\n",
    "**User:** current_user\n",
    "\n",
    "* **Feedback:** \"The recommendations were quite accurate! I found several new songs that I really enjoyed.\"\n",
    "* **Rating:** 5/5\n",
    "* **Comments:** \"I especially loved 'As It Was' and 'Love Yourself'. However, 'Rocket Science' seemed a bit out of place. Overall, great job on understanding my music taste!\"\n",
    "\n",
    "This feedback shows a generally positive response to the recommendations, with some suggestions for further tuning the model to better match the user's preferences."
   ]
  }
 ],
 "metadata": {
  "kernelspec": {
   "display_name": "Python 3 (ipykernel)",
   "language": "python",
   "name": "python3"
  },
  "language_info": {
   "codemirror_mode": {
    "name": "ipython",
    "version": 3
   },
   "file_extension": ".py",
   "mimetype": "text/x-python",
   "name": "python",
   "nbconvert_exporter": "python",
   "pygments_lexer": "ipython3",
   "version": "3.11.9"
  }
 },
 "nbformat": 4,
 "nbformat_minor": 5
}
